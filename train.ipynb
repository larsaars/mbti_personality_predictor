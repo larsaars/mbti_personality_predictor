{
 "cells": [
  {
   "cell_type": "code",
   "execution_count": 6,
   "id": "indonesian-following",
   "metadata": {},
   "outputs": [],
   "source": [
    "import pickle as pkl\n",
    "import re\n",
    "import warnings\n",
    "\n",
    "import nltk\n",
    "import numpy as np\n",
    "import pandas as pd\n",
    "from nltk import WordNetLemmatizer\n",
    "from nltk.corpus import stopwords\n",
    "from sklearn.feature_extraction.text import TfidfTransformer, CountVectorizer\n",
    "from sklearn.metrics import accuracy_score\n",
    "from sklearn.model_selection import train_test_split\n",
    "from sklearn.naive_bayes import MultinomialNB\n",
    "from sklearn.svm import SVC\n",
    "from xgboost import XGBClassifier\n",
    "\n",
    "import sys\n",
    "sys.path.append('../machine_learning_tests/spherenet')\n",
    "\n",
    "from spherenet import MultiSphereNet, metrics_available\n",
    "\n",
    "warnings.filterwarnings(\"ignore\")"
   ]
  },
  {
   "cell_type": "code",
   "execution_count": 10,
   "id": "dc20352e",
   "metadata": {
    "collapsed": false,
    "jupyter": {
     "outputs_hidden": false
    },
    "pycharm": {
     "name": "#%%\n"
    }
   },
   "outputs": [
    {
     "name": "stderr",
     "output_type": "stream",
     "text": [
      "[nltk_data] Downloading package wordnet to /home/me/nltk_data...\n",
      "[nltk_data]   Package wordnet is already up-to-date!\n",
      "[nltk_data] Downloading package stopwords to /home/me/nltk_data...\n",
      "[nltk_data]   Unzipping corpora/stopwords.zip.\n"
     ]
    },
    {
     "data": {
      "text/plain": [
       "True"
      ]
     },
     "execution_count": 10,
     "metadata": {},
     "output_type": "execute_result"
    }
   ],
   "source": [
    "nltk.download('wordnet')\n",
    "nltk.download('stopwords')"
   ]
  },
  {
   "cell_type": "code",
   "execution_count": 3,
   "id": "classified-fountain",
   "metadata": {},
   "outputs": [],
   "source": [
    "df = pd.read_csv('mbti.csv')"
   ]
  },
  {
   "cell_type": "code",
   "execution_count": 4,
   "id": "503bbd29-6795-4e42-9ae1-7a34a5081c41",
   "metadata": {},
   "outputs": [
    {
     "data": {
      "text/html": [
       "<div>\n",
       "<style scoped>\n",
       "    .dataframe tbody tr th:only-of-type {\n",
       "        vertical-align: middle;\n",
       "    }\n",
       "\n",
       "    .dataframe tbody tr th {\n",
       "        vertical-align: top;\n",
       "    }\n",
       "\n",
       "    .dataframe thead th {\n",
       "        text-align: right;\n",
       "    }\n",
       "</style>\n",
       "<table border=\"1\" class=\"dataframe\">\n",
       "  <thead>\n",
       "    <tr style=\"text-align: right;\">\n",
       "      <th></th>\n",
       "      <th>type</th>\n",
       "      <th>posts</th>\n",
       "    </tr>\n",
       "  </thead>\n",
       "  <tbody>\n",
       "    <tr>\n",
       "      <th>0</th>\n",
       "      <td>INFJ</td>\n",
       "      <td>'http://www.youtube.com/watch?v=qsXHcwe3krw|||...</td>\n",
       "    </tr>\n",
       "    <tr>\n",
       "      <th>1</th>\n",
       "      <td>ENTP</td>\n",
       "      <td>'I'm finding the lack of me in these posts ver...</td>\n",
       "    </tr>\n",
       "    <tr>\n",
       "      <th>2</th>\n",
       "      <td>INTP</td>\n",
       "      <td>'Good one  _____   https://www.youtube.com/wat...</td>\n",
       "    </tr>\n",
       "    <tr>\n",
       "      <th>3</th>\n",
       "      <td>INTJ</td>\n",
       "      <td>'Dear INTP,   I enjoyed our conversation the o...</td>\n",
       "    </tr>\n",
       "    <tr>\n",
       "      <th>4</th>\n",
       "      <td>ENTJ</td>\n",
       "      <td>'You're fired.|||That's another silly misconce...</td>\n",
       "    </tr>\n",
       "    <tr>\n",
       "      <th>...</th>\n",
       "      <td>...</td>\n",
       "      <td>...</td>\n",
       "    </tr>\n",
       "    <tr>\n",
       "      <th>8670</th>\n",
       "      <td>ISFP</td>\n",
       "      <td>'https://www.youtube.com/watch?v=t8edHB_h908||...</td>\n",
       "    </tr>\n",
       "    <tr>\n",
       "      <th>8671</th>\n",
       "      <td>ENFP</td>\n",
       "      <td>'So...if this thread already exists someplace ...</td>\n",
       "    </tr>\n",
       "    <tr>\n",
       "      <th>8672</th>\n",
       "      <td>INTP</td>\n",
       "      <td>'So many questions when i do these things.  I ...</td>\n",
       "    </tr>\n",
       "    <tr>\n",
       "      <th>8673</th>\n",
       "      <td>INFP</td>\n",
       "      <td>'I am very conflicted right now when it comes ...</td>\n",
       "    </tr>\n",
       "    <tr>\n",
       "      <th>8674</th>\n",
       "      <td>INFP</td>\n",
       "      <td>'It has been too long since I have been on per...</td>\n",
       "    </tr>\n",
       "  </tbody>\n",
       "</table>\n",
       "<p>8675 rows × 2 columns</p>\n",
       "</div>"
      ],
      "text/plain": [
       "      type                                              posts\n",
       "0     INFJ  'http://www.youtube.com/watch?v=qsXHcwe3krw|||...\n",
       "1     ENTP  'I'm finding the lack of me in these posts ver...\n",
       "2     INTP  'Good one  _____   https://www.youtube.com/wat...\n",
       "3     INTJ  'Dear INTP,   I enjoyed our conversation the o...\n",
       "4     ENTJ  'You're fired.|||That's another silly misconce...\n",
       "...    ...                                                ...\n",
       "8670  ISFP  'https://www.youtube.com/watch?v=t8edHB_h908||...\n",
       "8671  ENFP  'So...if this thread already exists someplace ...\n",
       "8672  INTP  'So many questions when i do these things.  I ...\n",
       "8673  INFP  'I am very conflicted right now when it comes ...\n",
       "8674  INFP  'It has been too long since I have been on per...\n",
       "\n",
       "[8675 rows x 2 columns]"
      ]
     },
     "execution_count": 4,
     "metadata": {},
     "output_type": "execute_result"
    }
   ],
   "source": [
    "df"
   ]
  },
  {
   "cell_type": "code",
   "execution_count": 7,
   "id": "5262e39f",
   "metadata": {
    "collapsed": false,
    "jupyter": {
     "outputs_hidden": false
    },
    "pycharm": {
     "name": "#%%\n"
    }
   },
   "outputs": [
    {
     "data": {
      "text/html": [
       "<div>\n",
       "<style scoped>\n",
       "    .dataframe tbody tr th:only-of-type {\n",
       "        vertical-align: middle;\n",
       "    }\n",
       "\n",
       "    .dataframe tbody tr th {\n",
       "        vertical-align: top;\n",
       "    }\n",
       "\n",
       "    .dataframe thead th {\n",
       "        text-align: right;\n",
       "    }\n",
       "</style>\n",
       "<table border=\"1\" class=\"dataframe\">\n",
       "  <thead>\n",
       "    <tr style=\"text-align: right;\">\n",
       "      <th></th>\n",
       "      <th>type</th>\n",
       "      <th>posts</th>\n",
       "      <th>IE</th>\n",
       "      <th>NS</th>\n",
       "      <th>TF</th>\n",
       "      <th>JP</th>\n",
       "    </tr>\n",
       "  </thead>\n",
       "  <tbody>\n",
       "    <tr>\n",
       "      <th>0</th>\n",
       "      <td>INFJ</td>\n",
       "      <td>'http://www.youtube.com/watch?v=qsXHcwe3krw|||...</td>\n",
       "      <td>1</td>\n",
       "      <td>1</td>\n",
       "      <td>0</td>\n",
       "      <td>1</td>\n",
       "    </tr>\n",
       "    <tr>\n",
       "      <th>1</th>\n",
       "      <td>ENTP</td>\n",
       "      <td>'I'm finding the lack of me in these posts ver...</td>\n",
       "      <td>0</td>\n",
       "      <td>1</td>\n",
       "      <td>1</td>\n",
       "      <td>0</td>\n",
       "    </tr>\n",
       "    <tr>\n",
       "      <th>2</th>\n",
       "      <td>INTP</td>\n",
       "      <td>'Good one  _____   https://www.youtube.com/wat...</td>\n",
       "      <td>1</td>\n",
       "      <td>1</td>\n",
       "      <td>1</td>\n",
       "      <td>0</td>\n",
       "    </tr>\n",
       "    <tr>\n",
       "      <th>3</th>\n",
       "      <td>INTJ</td>\n",
       "      <td>'Dear INTP,   I enjoyed our conversation the o...</td>\n",
       "      <td>1</td>\n",
       "      <td>1</td>\n",
       "      <td>1</td>\n",
       "      <td>1</td>\n",
       "    </tr>\n",
       "    <tr>\n",
       "      <th>4</th>\n",
       "      <td>ENTJ</td>\n",
       "      <td>'You're fired.|||That's another silly misconce...</td>\n",
       "      <td>0</td>\n",
       "      <td>1</td>\n",
       "      <td>1</td>\n",
       "      <td>1</td>\n",
       "    </tr>\n",
       "    <tr>\n",
       "      <th>5</th>\n",
       "      <td>INTJ</td>\n",
       "      <td>'18/37 @.@|||Science  is not perfect. No scien...</td>\n",
       "      <td>1</td>\n",
       "      <td>1</td>\n",
       "      <td>1</td>\n",
       "      <td>1</td>\n",
       "    </tr>\n",
       "    <tr>\n",
       "      <th>6</th>\n",
       "      <td>INFJ</td>\n",
       "      <td>'No, I can't draw on my own nails (haha). Thos...</td>\n",
       "      <td>1</td>\n",
       "      <td>1</td>\n",
       "      <td>0</td>\n",
       "      <td>1</td>\n",
       "    </tr>\n",
       "  </tbody>\n",
       "</table>\n",
       "</div>"
      ],
      "text/plain": [
       "   type                                              posts  IE  NS  TF  JP\n",
       "0  INFJ  'http://www.youtube.com/watch?v=qsXHcwe3krw|||...   1   1   0   1\n",
       "1  ENTP  'I'm finding the lack of me in these posts ver...   0   1   1   0\n",
       "2  INTP  'Good one  _____   https://www.youtube.com/wat...   1   1   1   0\n",
       "3  INTJ  'Dear INTP,   I enjoyed our conversation the o...   1   1   1   1\n",
       "4  ENTJ  'You're fired.|||That's another silly misconce...   0   1   1   1\n",
       "5  INTJ  '18/37 @.@|||Science  is not perfect. No scien...   1   1   1   1\n",
       "6  INFJ  'No, I can't draw on my own nails (haha). Thos...   1   1   0   1"
      ]
     },
     "execution_count": 7,
     "metadata": {},
     "output_type": "execute_result"
    }
   ],
   "source": [
    "def get_types(row):\n",
    "    t = row['type']\n",
    "\n",
    "    I, N, T, J = 0, 0, 0, 0\n",
    "\n",
    "    if t[0] == 'I':\n",
    "        I = 1\n",
    "    elif t[0] == 'E':\n",
    "        I = 0\n",
    "    else:\n",
    "        print('I-E not found')\n",
    "\n",
    "    if t[1] == 'N':\n",
    "        N = 1\n",
    "    elif t[1] == 'S':\n",
    "        N = 0\n",
    "    else:\n",
    "        print('N-S not found')\n",
    "\n",
    "    if t[2] == 'T':\n",
    "        T = 1\n",
    "    elif t[2] == 'F':\n",
    "        T = 0\n",
    "    else:\n",
    "        print('T-F not found')\n",
    "\n",
    "    if t[3] == 'J':\n",
    "        J = 1\n",
    "    elif t[3] == 'P':\n",
    "        J = 0\n",
    "    else:\n",
    "        print('J-P not found')\n",
    "    return pd.Series({'IE': I, 'NS': N, 'TF': T, 'JP': J})\n",
    "\n",
    "\n",
    "df = df.join(df.apply(lambda row: get_types(row), axis=1))\n",
    "df.head(7)"
   ]
  },
  {
   "cell_type": "code",
   "execution_count": 8,
   "id": "c375692f",
   "metadata": {
    "collapsed": false,
    "jupyter": {
     "outputs_hidden": false
    },
    "pycharm": {
     "name": "#%%\n"
    }
   },
   "outputs": [],
   "source": [
    "df.to_csv('preprocessed.csv')"
   ]
  },
  {
   "cell_type": "code",
   "execution_count": 11,
   "id": "43b32718",
   "metadata": {
    "collapsed": false,
    "jupyter": {
     "outputs_hidden": false
    },
    "pycharm": {
     "name": "#%%\n"
    }
   },
   "outputs": [],
   "source": [
    "lemmatiser = WordNetLemmatizer()\n",
    "\n",
    "# Remove the stop words for speed\n",
    "useless_words = stopwords.words(\"english\")\n",
    "\n",
    "# Remove these from the posts\n",
    "unique_type_list = ['INFJ', 'ENTP', 'INTP', 'INTJ', 'ENTJ', 'ENFJ', 'INFP', 'ENFP',\n",
    "                    'ISFP', 'ISTP', 'ISFJ', 'ISTJ', 'ESTP', 'ESFP', 'ESTJ', 'ESFJ']\n",
    "unique_type_list = [x.lower() for x in unique_type_list]\n",
    "\n",
    "# Or we can use Label Encoding (as above) of this unique personality type indicator list\n",
    "# from sklearn.preprocessing import LabelEncoder\n",
    "# unique_type_list = ['INFJ', 'ENTP', 'INTP', 'INTJ', 'ENTJ', 'ENFJ', 'INFP', 'ENFP',\n",
    "#        'ISFP', 'ISTP', 'ISFJ', 'ISTJ', 'ESTP', 'ESFP', 'ESTJ', 'ESFJ']\n",
    "# lab_encoder = LabelEncoder().fit(unique_type_list)"
   ]
  },
  {
   "cell_type": "code",
   "execution_count": 12,
   "id": "752c6f02",
   "metadata": {
    "collapsed": false,
    "jupyter": {
     "outputs_hidden": false
    },
    "pycharm": {
     "name": "#%%\n"
    }
   },
   "outputs": [
    {
     "name": "stdout",
     "output_type": "stream",
     "text": [
      "Binarize MBTI list: \n",
      "[[0 0 0 0]\n",
      " [1 0 1 1]\n",
      " [0 0 1 1]\n",
      " ...\n",
      " [0 0 1 1]\n",
      " [0 0 0 1]\n",
      " [0 0 0 1]]\n"
     ]
    }
   ],
   "source": [
    "# Splitting the MBTI personality into 4 letters and binarizing it\n",
    "\n",
    "b_Pers = {'I': 0, 'E': 1, 'N': 0, 'S': 1, 'F': 0, 'T': 1, 'J': 0, 'P': 1}\n",
    "b_Pers_list = [{0: 'I', 1: 'E'}, {0: 'N', 1: 'S'}, {0: 'F', 1: 'T'}, {0: 'J', 1: 'P'}]\n",
    "\n",
    "\n",
    "def translate_personality(personality):\n",
    "    # transform mbti to binary vector\n",
    "    return [b_Pers[l] for l in personality]\n",
    "\n",
    "\n",
    "#To show result output for personality prediction\n",
    "def translate_back(personality):\n",
    "    # transform binary vector to mbti personality\n",
    "    s = \"\"\n",
    "    for i, l in enumerate(personality):\n",
    "        s += b_Pers_list[i][l]\n",
    "    return s\n",
    "\n",
    "\n",
    "list_personality_bin = np.array([translate_personality(p) for p in df.type])\n",
    "print(\"Binarize MBTI list: \\n%s\" % list_personality_bin)"
   ]
  },
  {
   "cell_type": "code",
   "execution_count": 13,
   "id": "161c8aa0",
   "metadata": {
    "collapsed": false,
    "jupyter": {
     "outputs_hidden": false
    },
    "pycharm": {
     "name": "#%%\n"
    }
   },
   "outputs": [
    {
     "data": {
      "text/html": [
       "<div>\n",
       "<style scoped>\n",
       "    .dataframe tbody tr th:only-of-type {\n",
       "        vertical-align: middle;\n",
       "    }\n",
       "\n",
       "    .dataframe tbody tr th {\n",
       "        vertical-align: top;\n",
       "    }\n",
       "\n",
       "    .dataframe thead th {\n",
       "        text-align: right;\n",
       "    }\n",
       "</style>\n",
       "<table border=\"1\" class=\"dataframe\">\n",
       "  <thead>\n",
       "    <tr style=\"text-align: right;\">\n",
       "      <th></th>\n",
       "      <th>type</th>\n",
       "      <th>posts</th>\n",
       "      <th>IE</th>\n",
       "      <th>NS</th>\n",
       "      <th>TF</th>\n",
       "      <th>JP</th>\n",
       "    </tr>\n",
       "  </thead>\n",
       "  <tbody>\n",
       "    <tr>\n",
       "      <th>0</th>\n",
       "      <td>INFJ</td>\n",
       "      <td>'http://www.youtube.com/watch?v=qsXHcwe3krw|||...</td>\n",
       "      <td>1</td>\n",
       "      <td>1</td>\n",
       "      <td>0</td>\n",
       "      <td>1</td>\n",
       "    </tr>\n",
       "    <tr>\n",
       "      <th>1</th>\n",
       "      <td>ENTP</td>\n",
       "      <td>'I'm finding the lack of me in these posts ver...</td>\n",
       "      <td>0</td>\n",
       "      <td>1</td>\n",
       "      <td>1</td>\n",
       "      <td>0</td>\n",
       "    </tr>\n",
       "    <tr>\n",
       "      <th>2</th>\n",
       "      <td>INTP</td>\n",
       "      <td>'Good one  _____   https://www.youtube.com/wat...</td>\n",
       "      <td>1</td>\n",
       "      <td>1</td>\n",
       "      <td>1</td>\n",
       "      <td>0</td>\n",
       "    </tr>\n",
       "    <tr>\n",
       "      <th>3</th>\n",
       "      <td>INTJ</td>\n",
       "      <td>'Dear INTP,   I enjoyed our conversation the o...</td>\n",
       "      <td>1</td>\n",
       "      <td>1</td>\n",
       "      <td>1</td>\n",
       "      <td>1</td>\n",
       "    </tr>\n",
       "    <tr>\n",
       "      <th>4</th>\n",
       "      <td>ENTJ</td>\n",
       "      <td>'You're fired.|||That's another silly misconce...</td>\n",
       "      <td>0</td>\n",
       "      <td>1</td>\n",
       "      <td>1</td>\n",
       "      <td>1</td>\n",
       "    </tr>\n",
       "  </tbody>\n",
       "</table>\n",
       "</div>"
      ],
      "text/plain": [
       "   type                                              posts  IE  NS  TF  JP\n",
       "0  INFJ  'http://www.youtube.com/watch?v=qsXHcwe3krw|||...   1   1   0   1\n",
       "1  ENTP  'I'm finding the lack of me in these posts ver...   0   1   1   0\n",
       "2  INTP  'Good one  _____   https://www.youtube.com/wat...   1   1   1   0\n",
       "3  INTJ  'Dear INTP,   I enjoyed our conversation the o...   1   1   1   1\n",
       "4  ENTJ  'You're fired.|||That's another silly misconce...   0   1   1   1"
      ]
     },
     "execution_count": 13,
     "metadata": {},
     "output_type": "execute_result"
    }
   ],
   "source": [
    "df.head()"
   ]
  },
  {
   "cell_type": "code",
   "execution_count": 14,
   "id": "9ee28fc5",
   "metadata": {
    "collapsed": false,
    "jupyter": {
     "outputs_hidden": false
    },
    "pycharm": {
     "name": "#%%\n"
    }
   },
   "outputs": [
    {
     "name": "stdout",
     "output_type": "stream",
     "text": [
      "Example :\n",
      "\n",
      "Post before preprocessing:\n",
      "\n",
      " 'http://www.youtube.com/watch?v=qsXHcwe3krw|||http://41.media.tumblr.com/tumblr_lfouy03PMA1qa1rooo1_500.jpg|||enfp and intj moments  https://www.youtube.com/watch?v=iz7lE1g4XM4  sportscenter not top ten plays  https://www.youtube.com/watch?v=uCdfze1etec  pranks|||What has been the most life-changing experience in your life?|||http://www.youtube.com/watch?v=vXZeYwwRDw8   http://www.youtube.com/watch?v=u8ejam5DP3E  On repeat for most of today.|||May the PerC Experience immerse you.|||The last thing my INFJ friend posted on his facebook before committing suicide the next day. Rest in peace~   http://vimeo.com/22842206|||Hello ENFJ7. Sorry to hear of your distress. It's only natural for a relationship to not be perfection all the time in every moment of existence. Try to figure the hard times as times of growth, as...|||84389  84390  http://wallpaperpassion.com/upload/23700/friendship-boy-and-girl-wallpaper.jpg  http://assets.dornob.com/wp-content/uploads/2010/04/round-home-design.jpg ...|||Welcome and stuff.|||http://playeressence.com/wp-content/uploads/2013/08/RED-red-the-pokemon-master-32560474-450-338.jpg  Game. Set. Match.|||Prozac, wellbrutin, at least thirty minutes of moving your legs (and I don't mean moving them while sitting in your same desk chair), weed in moderation (maybe try edibles as a healthier alternative...|||Basically come up with three items you've determined that each type (or whichever types you want to do) would more than likely use, given each types' cognitive functions and whatnot, when left by...|||All things in moderation.  Sims is indeed a video game, and a good one at that. Note: a good one at that is somewhat subjective in that I am not completely promoting the death of any given Sim...|||Dear ENFP:  What were your favorite video games growing up and what are your now, current favorite video games? :cool:|||https://www.youtube.com/watch?v=QyPqT8umzmY|||It appears to be too late. :sad:|||There's someone out there for everyone.|||Wait... I thought confidence was a good thing.|||I just cherish the time of solitude b/c i revel within my inner world more whereas most other time i'd be workin... just enjoy the me time while you can. Don't worry, people will always be around to...|||Yo entp ladies... if you're into a complimentary personality,well, hey.|||... when your main social outlet is xbox live conversations and even then you verbally fatigue quickly.|||http://www.youtube.com/watch?v=gDhy7rdfm14  I really dig the part from 1:46 to 2:50|||http://www.youtube.com/watch?v=msqXffgh7b8|||Banned because this thread requires it of me.|||Get high in backyard, roast and eat marshmellows in backyard while conversing over something intellectual, followed by massages and kisses.|||http://www.youtube.com/watch?v=Mw7eoU3BMbE|||http://www.youtube.com/watch?v=4V2uYORhQOk|||http://www.youtube.com/watch?v=SlVmgFQQ0TI|||Banned for too many b's in that sentence. How could you! Think of the B!|||Banned for watching movies in the corner with the dunces.|||Banned because Health class clearly taught you nothing about peer pressure.|||Banned for a whole host of reasons!|||http://www.youtube.com/watch?v=IRcrv41hgz4|||1) Two baby deer on left and right munching on a beetle in the middle.  2) Using their own blood, two cavemen diary today's latest happenings on their designated cave diary wall.  3) I see it as...|||a pokemon world  an infj society  everyone becomes an optimist|||49142|||http://www.youtube.com/watch?v=ZRCEq_JFeFM|||http://discovermagazine.com/2012/jul-aug/20-things-you-didnt-know-about-deserts/desert.jpg|||http://oyster.ignimgs.com/mediawiki/apis.ign.com/pokemon-silver-version/d/dd/Ditto.gif|||http://www.serebii.net/potw-dp/Scizor.jpg|||Not all artists are artists because they draw. It's the idea that counts in forming something of your own... like a signature.|||Welcome to the robot ranks, person who downed my self-esteem cuz I'm not an avid signature artist like herself. :proud:|||Banned for taking all the room under my bed. Ya gotta learn to share with the roaches.|||http://www.youtube.com/watch?v=w8IgImn57aQ|||Banned for being too much of a thundering, grumbling kind of storm... yep.|||Ahh... old high school music I haven't heard in ages.   http://www.youtube.com/watch?v=dcCRUPCdB1w|||I failed a public speaking class a few years ago and I've sort of learned what I could do better were I to be in that position again. A big part of my failure was just overloading myself with too...|||I like this person's mentality. He's a confirmed INTJ by the way. http://www.youtube.com/watch?v=hGKLI-GEc6M|||Move to the Denver area and start a new life for myself.'\n",
      "\n",
      "Post after preprocessing:\n",
      "\n",
      "    moment sportscenter top ten play prank life changing experience life repeat today may perc experience immerse last thing  friend posted facebook committing suicide next day rest peace hello  sorry hear distress natural relationship perfection time every moment existence try figure hard time time growth welcome stuff game set match prozac wellbrutin least thirty minute moving leg mean moving sitting desk chair weed moderation maybe try edible healthier alternative basically come three item determined type whichever type want would likely use given type cognitive function whatnot left thing moderation sims indeed video game good one note good one somewhat subjective completely promoting death given sim dear  favorite video game growing current favorite video game cool appears late sad someone everyone wait thought confidence good thing cherish time solitude b c revel within inner world whereas time workin enjoy time worry people always around yo  lady complimentary personality well hey main social outlet xbox live conversation even verbally fatigue quickly really dig part banned thread requires get high backyard roast eat marshmellows backyard conversing something intellectual followed massage kiss banned many b sentence could think b banned watching movie corner dunce banned health class clearly taught nothing peer pressure banned whole host reason two baby deer left right munching beetle middle using blood two caveman diary today latest happening designated cave diary wall see pokemon world  society everyone becomes optimist artist artist draw idea count forming something like signature welcome robot rank person downed self esteem cuz avid signature artist like proud banned taking room bed ya gotta learn share roach banned much thundering grumbling kind storm yep ahh old high school music heard age failed public speaking class year ago sort learned could better position big part failure overloading like person mentality confirmed  way move denver area start new life \n",
      "\n",
      "MBTI before preprocessing:\n",
      "\n",
      " INFJ\n",
      "\n",
      "MBTI after preprocessing:\n",
      "\n",
      " [0 0 0 0]\n"
     ]
    }
   ],
   "source": [
    "def pre_process_text(data, remove_stop_words=True, remove_mbti_profiles=True):\n",
    "    list_personality = []\n",
    "    list_posts = []\n",
    "\n",
    "    for row in data.iterrows():\n",
    "        # check code working\n",
    "        # i+=1\n",
    "        # if (i % 500 == 0 or i == 1 or i == len_data):\n",
    "        #     print(\"%s of %s rows\" % (i, len_data))\n",
    "\n",
    "        #Remove and clean comments\n",
    "        posts = row[1].posts\n",
    "\n",
    "        #Remove url links\n",
    "        temp = re.sub('http[s]?://(?:[a-zA-Z]|[0-9]|[$-_@.&+]|(?:%[0-9a-fA-F][0-9a-fA-F]))+', ' ', posts)\n",
    "\n",
    "        #Remove Non-words - keep only words\n",
    "        temp = re.sub(\"[^a-zA-Z]\", \" \", temp)\n",
    "\n",
    "        # Remove spaces > 1\n",
    "        temp = re.sub(' +', ' ', temp).lower()\n",
    "\n",
    "        #Remove multiple letter repeating words\n",
    "        temp = re.sub(r'([a-z])\\1{2,}[\\s|\\w]*', '', temp)\n",
    "\n",
    "        #Remove stop words\n",
    "        if remove_stop_words:\n",
    "            temp = \" \".join([lemmatiser.lemmatize(w) for w in temp.split(' ') if w not in useless_words])\n",
    "        else:\n",
    "            temp = \" \".join([lemmatiser.lemmatize(w) for w in temp.split(' ')])\n",
    "\n",
    "        #Remove MBTI personality words from posts\n",
    "        if remove_mbti_profiles:\n",
    "            for t in unique_type_list:\n",
    "                temp = temp.replace(t, '')\n",
    "\n",
    "        # transform mbti to binary vector\n",
    "        type_labelized = translate_personality(row[1].type)  #or use lab_encoder.transform([row[1].type])[0]\n",
    "        list_personality.append(type_labelized)\n",
    "        # the cleaned data temp is passed here\n",
    "        list_posts.append(temp)\n",
    "\n",
    "    # returns the result\n",
    "    list_posts = np.array(list_posts)\n",
    "    list_personality = np.array(list_personality)\n",
    "    return list_posts, list_personality\n",
    "\n",
    "\n",
    "list_posts, list_personality = pre_process_text(df, remove_stop_words=True, remove_mbti_profiles=True)\n",
    "\n",
    "print(\"Example :\")\n",
    "print(\"\\nPost before preprocessing:\\n\\n\", df.posts[0])\n",
    "print(\"\\nPost after preprocessing:\\n\\n\", list_posts[0])\n",
    "print(\"\\nMBTI before preprocessing:\\n\\n\", df.type[0])\n",
    "print(\"\\nMBTI after preprocessing:\\n\\n\", list_personality[0])\n",
    "\n",
    "df.to_csv('preprocessed.csv')"
   ]
  },
  {
   "cell_type": "code",
   "execution_count": 15,
   "id": "a189c7a1",
   "metadata": {
    "collapsed": false,
    "jupyter": {
     "outputs_hidden": false
    },
    "pycharm": {
     "name": "#%%\n"
    }
   },
   "outputs": [
    {
     "name": "stdout",
     "output_type": "stream",
     "text": [
      "[[0 0 0 0]\n",
      " [1 0 1 1]\n",
      " [0 0 1 1]\n",
      " ...\n",
      " [0 0 1 1]\n",
      " [0 0 0 1]\n",
      " [0 0 0 1]]\n"
     ]
    },
    {
     "data": {
      "text/plain": [
       "(8675, 4)"
      ]
     },
     "execution_count": 15,
     "metadata": {},
     "output_type": "execute_result"
    }
   ],
   "source": [
    "print(list_personality)\n",
    "list_personality.shape"
   ]
  },
  {
   "cell_type": "code",
   "execution_count": 23,
   "id": "7ae57c6c",
   "metadata": {
    "collapsed": false,
    "jupyter": {
     "outputs_hidden": false
    },
    "pycharm": {
     "name": "#%%\n"
    }
   },
   "outputs": [
    {
     "name": "stdout",
     "output_type": "stream",
     "text": [
      "Using CountVectorizer :\n",
      "10 feature names can be seen below\n",
      "[(0, 'ability'), (1, 'able'), (2, 'absolutely'), (3, 'across'), (4, 'act'), (5, 'action'), (6, 'actually'), (7, 'add'), (8, 'advice'), (9, 'afraid')]\n",
      "\n",
      "Using Tf-idf :\n",
      "Now the dataset size is as below\n",
      "(8675, 595)\n"
     ]
    }
   ],
   "source": [
    "# Vectorizing the database posts to a matrix of token counts for the model\n",
    "cntizer = CountVectorizer(analyzer=\"word\",\n",
    "                          max_features=1000,\n",
    "                          max_df=0.7,\n",
    "                          min_df=0.1)\n",
    "# the feature should be made of word n-gram\n",
    "# Learn the vocabulary dictionary and return term-document matrix\n",
    "print(\"Using CountVectorizer :\")\n",
    "X_cnt = cntizer.fit_transform(list_posts)\n",
    "\n",
    "# The enumerate object yields pairs containing a count and a value (useful for obtaining an indexed list)\n",
    "feature_names = list(enumerate(cntizer.get_feature_names_out()))\n",
    "print(\"10 feature names can be seen below\")\n",
    "print(feature_names[0:10])\n",
    "\n",
    "# For the Standardization or Feature Scaling Stage :-\n",
    "# Transform the count matrix to a normalized tf or tf-idf representation\n",
    "tfizer = TfidfTransformer()\n",
    "\n",
    "# Learn the idf vector (fit) and transform a count matrix to a tf-idf representation\n",
    "print(\"\\nUsing Tf-idf :\")\n",
    "\n",
    "print(\"Now the dataset size is as below\")\n",
    "X_tfidf = tfizer.fit_transform(X_cnt).toarray()\n",
    "print(X_tfidf.shape)"
   ]
  },
  {
   "cell_type": "code",
   "execution_count": 24,
   "id": "e06af06a",
   "metadata": {
    "collapsed": false,
    "jupyter": {
     "outputs_hidden": false
    },
    "pycharm": {
     "name": "#%%\n"
    }
   },
   "outputs": [
    {
     "data": {
      "text/plain": [
       "['feel',\n",
       " 'type',\n",
       " 'well',\n",
       " 'say',\n",
       " 'way',\n",
       " 'friend',\n",
       " 'want',\n",
       " 'love',\n",
       " 'good',\n",
       " 'something']"
      ]
     },
     "execution_count": 24,
     "metadata": {},
     "output_type": "execute_result"
    }
   ],
   "source": [
    "#counting top 10 words\n",
    "reverse_dic = {}\n",
    "for key in cntizer.vocabulary_:\n",
    "    reverse_dic[cntizer.vocabulary_[key]] = key\n",
    "top_10 = np.asarray(np.argsort(np.sum(X_cnt, axis=0))[0, -10:][0, ::-1]).flatten()\n",
    "[reverse_dic[v] for v in top_10]"
   ]
  },
  {
   "cell_type": "code",
   "execution_count": 25,
   "id": "541997ef",
   "metadata": {
    "collapsed": false,
    "jupyter": {
     "outputs_hidden": false
    },
    "pycharm": {
     "name": "#%%\n"
    }
   },
   "outputs": [
    {
     "name": "stdout",
     "output_type": "stream",
     "text": [
      "IE\n",
      "NS\n",
      "FT\n",
      "JP\n"
     ]
    }
   ],
   "source": [
    "personality_types = ['IE', 'NS', 'FT', 'JP']\n",
    "\n",
    "for l in range(len(personality_types)):\n",
    "    print(personality_types[l])"
   ]
  },
  {
   "cell_type": "code",
   "execution_count": 26,
   "id": "53c3840f",
   "metadata": {
    "collapsed": false,
    "jupyter": {
     "outputs_hidden": false
    },
    "pycharm": {
     "name": "#%%\n"
    }
   },
   "outputs": [
    {
     "name": "stdout",
     "output_type": "stream",
     "text": [
      "X: 1st posts in tf-idf representation\n",
      "[0.         0.         0.         0.         0.         0.\n",
      " 0.         0.         0.         0.         0.08105478 0.07066064\n",
      " 0.         0.         0.         0.         0.         0.\n",
      " 0.         0.04516864 0.         0.         0.         0.\n",
      " 0.         0.         0.         0.         0.         0.\n",
      " 0.         0.05321691 0.         0.         0.         0.\n",
      " 0.         0.         0.         0.         0.         0.\n",
      " 0.         0.         0.0871647  0.         0.         0.\n",
      " 0.         0.         0.         0.05506308 0.0708757  0.\n",
      " 0.         0.         0.         0.         0.         0.\n",
      " 0.         0.         0.         0.         0.         0.\n",
      " 0.         0.         0.         0.         0.         0.\n",
      " 0.         0.         0.         0.         0.         0.\n",
      " 0.         0.16585935 0.         0.         0.09676192 0.\n",
      " 0.         0.04970682 0.         0.         0.         0.\n",
      " 0.07397056 0.         0.         0.         0.         0.\n",
      " 0.         0.0748045  0.07639898 0.09185775 0.         0.\n",
      " 0.         0.         0.         0.         0.         0.\n",
      " 0.         0.         0.         0.05133662 0.         0.09442732\n",
      " 0.         0.         0.         0.         0.         0.\n",
      " 0.         0.         0.         0.         0.         0.\n",
      " 0.         0.         0.         0.         0.         0.\n",
      " 0.         0.09657087 0.         0.         0.         0.\n",
      " 0.         0.         0.         0.07062049 0.         0.\n",
      " 0.         0.         0.04405493 0.         0.05892624 0.11838033\n",
      " 0.         0.         0.         0.         0.1245151  0.\n",
      " 0.         0.         0.         0.         0.         0.\n",
      " 0.         0.15886654 0.         0.         0.         0.\n",
      " 0.         0.         0.         0.08435344 0.         0.\n",
      " 0.         0.         0.         0.         0.         0.\n",
      " 0.         0.         0.         0.         0.         0.04471932\n",
      " 0.         0.         0.         0.07063387 0.         0.\n",
      " 0.29304485 0.         0.         0.         0.         0.\n",
      " 0.         0.18141448 0.         0.         0.         0.\n",
      " 0.         0.12564763 0.         0.         0.         0.\n",
      " 0.         0.         0.         0.         0.         0.\n",
      " 0.         0.         0.05834299 0.         0.         0.08003112\n",
      " 0.08435344 0.         0.         0.09115444 0.         0.08189961\n",
      " 0.         0.13411106 0.         0.         0.         0.\n",
      " 0.         0.         0.         0.         0.         0.\n",
      " 0.         0.         0.         0.05631577 0.         0.\n",
      " 0.         0.         0.         0.         0.         0.\n",
      " 0.         0.         0.         0.         0.         0.\n",
      " 0.         0.         0.         0.05557735 0.         0.\n",
      " 0.         0.         0.         0.         0.0611348  0.09448648\n",
      " 0.         0.         0.         0.         0.         0.\n",
      " 0.07930797 0.09349615 0.         0.06379457 0.         0.17160741\n",
      " 0.         0.         0.         0.13427658 0.         0.\n",
      " 0.08006774 0.         0.         0.         0.         0.\n",
      " 0.         0.06885442 0.         0.         0.         0.\n",
      " 0.         0.         0.         0.         0.         0.\n",
      " 0.         0.         0.         0.09793451 0.         0.\n",
      " 0.         0.         0.05268964 0.         0.05993985 0.05477763\n",
      " 0.         0.04997463 0.         0.         0.         0.\n",
      " 0.         0.         0.09867431 0.         0.         0.\n",
      " 0.09487394 0.         0.15341726 0.         0.         0.\n",
      " 0.         0.         0.08813151 0.07690585 0.07177948 0.\n",
      " 0.         0.09843694 0.         0.         0.         0.\n",
      " 0.         0.05941035 0.08188014 0.         0.         0.\n",
      " 0.         0.         0.09612974 0.06395483 0.         0.\n",
      " 0.         0.         0.         0.         0.         0.\n",
      " 0.06973746 0.         0.         0.         0.         0.\n",
      " 0.         0.         0.         0.         0.         0.12067215\n",
      " 0.         0.         0.         0.         0.         0.09674118\n",
      " 0.         0.0615769  0.         0.         0.         0.\n",
      " 0.         0.         0.         0.07446814 0.         0.\n",
      " 0.         0.         0.         0.08993396 0.         0.\n",
      " 0.         0.         0.         0.         0.09901671 0.\n",
      " 0.         0.         0.         0.         0.         0.\n",
      " 0.         0.         0.         0.         0.         0.\n",
      " 0.05946565 0.         0.         0.         0.05873657 0.\n",
      " 0.         0.         0.         0.09634949 0.         0.04805982\n",
      " 0.         0.08968056 0.         0.         0.0860263  0.\n",
      " 0.         0.         0.         0.06318282 0.         0.\n",
      " 0.         0.04256832 0.         0.         0.         0.\n",
      " 0.06642087 0.         0.         0.         0.09201473 0.\n",
      " 0.         0.0831116  0.         0.         0.         0.\n",
      " 0.         0.         0.         0.         0.         0.\n",
      " 0.         0.         0.         0.         0.         0.06971149\n",
      " 0.09554125 0.04625983 0.08531558 0.         0.         0.\n",
      " 0.06799661 0.07466644 0.         0.         0.         0.09843694\n",
      " 0.         0.         0.         0.06502346 0.         0.\n",
      " 0.         0.         0.         0.         0.         0.\n",
      " 0.         0.06869092 0.         0.         0.         0.\n",
      " 0.         0.         0.         0.         0.         0.\n",
      " 0.08067849 0.         0.         0.         0.         0.\n",
      " 0.         0.         0.         0.         0.         0.\n",
      " 0.         0.         0.0466968  0.0539756  0.08760887 0.\n",
      " 0.1533845  0.         0.         0.         0.         0.09298479\n",
      " 0.         0.         0.         0.         0.         0.\n",
      " 0.         0.         0.         0.         0.10580777 0.\n",
      " 0.         0.11100899 0.13361762 0.         0.         0.\n",
      " 0.06046932 0.         0.08258902 0.         0.         0.2392193\n",
      " 0.         0.09217882 0.         0.04223906 0.         0.\n",
      " 0.08665848 0.04111178 0.         0.         0.16434695 0.04117693\n",
      " 0.         0.         0.         0.07231244 0.         0.\n",
      " 0.         0.         0.         0.         0.         0.\n",
      " 0.11467609 0.09387096 0.         0.         0.         0.\n",
      " 0.         0.         0.04833236 0.         0.         0.\n",
      " 0.        ]\n"
     ]
    }
   ],
   "source": [
    "print(\"X: 1st posts in tf-idf representation\\n%s\" % X_tfidf[0])"
   ]
  },
  {
   "cell_type": "code",
   "execution_count": 27,
   "id": "abdbc391",
   "metadata": {
    "collapsed": false,
    "jupyter": {
     "outputs_hidden": false
    },
    "pycharm": {
     "name": "#%%\n"
    }
   },
   "outputs": [],
   "source": [
    "# Posts in tf-idf representation\n",
    "X = X_tfidf"
   ]
  },
  {
   "cell_type": "code",
   "execution_count": 45,
   "id": "43fa5db5",
   "metadata": {
    "collapsed": false,
    "jupyter": {
     "outputs_hidden": false
    },
    "pycharm": {
     "name": "#%%\n"
    }
   },
   "outputs": [
    {
     "name": "stdout",
     "output_type": "stream",
     "text": [
      "IE Accuracy: 25.13%\n",
      "NS Accuracy: 13.20%\n",
      "FT Accuracy: 49.86%\n",
      "JP Accuracy: 61.67%\n"
     ]
    }
   ],
   "source": [
    "# train\n",
    "\n",
    "models = []\n",
    "    \n",
    "for l in range(len(personality_types)):\n",
    "    Y = list_personality[:, l]\n",
    "\n",
    "    # split data into train and test sets\n",
    "    X_train, X_test, y_train, y_test = train_test_split(X, Y, test_size=0.2)\n",
    "\n",
    "    # fit model on training data\n",
    "    model = MultiSphereNet(\n",
    "        verbosity=0,\n",
    "        min_dist_scaler=2, \n",
    "        min_radius_threshold=-1, \n",
    "        optimization_tolerance=0, \n",
    "        optimization_repetitions=1, \n",
    "        optimization_parallel=False, \n",
    "        min_num_classified=2, \n",
    "        max_spheres_used=-1, \n",
    "        metric='jaccard',\n",
    "        p=4, \n",
    "        standard_scaling=False, \n",
    "        normalization=False, \n",
    "        remove_training_outliers=False, \n",
    "        pred_mode=\"force\"\n",
    "    ).fit(X_train, y_train)\n",
    "\n",
    "    # make predictions for test data\n",
    "    score = model.score(X_test, y_test)\n",
    "\n",
    "    print(\"%s Accuracy: %.2f%%\" % (personality_types[l], score * 100.0))\n",
    "\n",
    "    models.append(model)  "
   ]
  },
  {
   "cell_type": "code",
   "execution_count": null,
   "id": "dcdc1349",
   "metadata": {
    "collapsed": false,
    "jupyter": {
     "outputs_hidden": false
    },
    "pycharm": {
     "name": "#%%\n"
    }
   },
   "outputs": [],
   "source": [
    "with open('model/tfizer.pkl', 'wb') as f:\n",
    "    pkl.dump(tfizer, f)\n",
    "with open('model/cntizer.pkl', 'wb') as f:\n",
    "    pkl.dump(cntizer, f)\n",
    "with open('model/lemmatizer.pkl', 'wb') as f:\n",
    "    pkl.dump(lemmatiser, f)\n",
    "\n",
    "for name, model in zip(personality_types, models):\n",
    "    with open(f'model/{name}.pkl', 'wb') as f:\n",
    "        pkl.dump(model, f)\n",
    "\n",
    "print('saved models')"
   ]
  }
 ],
 "metadata": {
  "kernelspec": {
   "display_name": "Python 3 (ipykernel)",
   "language": "python",
   "name": "python3"
  },
  "language_info": {
   "codemirror_mode": {
    "name": "ipython",
    "version": 3
   },
   "file_extension": ".py",
   "mimetype": "text/x-python",
   "name": "python",
   "nbconvert_exporter": "python",
   "pygments_lexer": "ipython3",
   "version": "3.9.12"
  },
  "widgets": {
   "application/vnd.jupyter.widget-state+json": {
    "state": {
     "00269e7b76b544ac8afa83c5be1119fd": {
      "model_module": "@jupyter-widgets/controls",
      "model_module_version": "1.5.0",
      "model_name": "ProgressStyleModel",
      "state": {
       "description_width": ""
      }
     },
     "003317f0bfd24c4f97107c119d8f70b2": {
      "model_module": "@jupyter-widgets/base",
      "model_module_version": "1.2.0",
      "model_name": "LayoutModel",
      "state": {
       "display": "inline-flex",
       "flex_flow": "row wrap",
       "width": "100%"
      }
     },
     "00dfa50be2444a40b8daddb6c51d155a": {
      "model_module": "@jupyter-widgets/controls",
      "model_module_version": "1.5.0",
      "model_name": "DescriptionStyleModel",
      "state": {
       "description_width": ""
      }
     },
     "017383cb6b474a53942569f365739c31": {
      "model_module": "@jupyter-widgets/base",
      "model_module_version": "1.2.0",
      "model_name": "LayoutModel",
      "state": {
       "display": "inline-flex",
       "flex_flow": "row wrap",
       "width": "100%"
      }
     },
     "022c8b55c8d24bd282c4efb5b1b94073": {
      "model_module": "@jupyter-widgets/base",
      "model_module_version": "1.2.0",
      "model_name": "LayoutModel",
      "state": {}
     },
     "02690c04c8614fec9f0941c2a50e059b": {
      "model_module": "@jupyter-widgets/controls",
      "model_module_version": "1.5.0",
      "model_name": "HTMLModel",
      "state": {
       "layout": "IPY_MODEL_ac3e5ae6748f4e189e0c3b011cf75a9d",
       "style": "IPY_MODEL_0a9dedbf53364826beebb8d44fbe6038",
       "value": " 4959.0/4959 [00:00&lt;00:00, 23401.44it/s]"
      }
     },
     "0298392b07d84f408682e0cde9e7fe69": {
      "model_module": "@jupyter-widgets/controls",
      "model_module_version": "1.5.0",
      "model_name": "HBoxModel",
      "state": {
       "children": [
        "IPY_MODEL_41d02ed97d6d47e0acf0d73006620e26",
        "IPY_MODEL_ca0903fed0a5449b83ccc31bb95edd65",
        "IPY_MODEL_772564d231ac42c3a842fefc2ebe9a08"
       ],
       "layout": "IPY_MODEL_f600e08c20484086a308e5bc799e2c11"
      }
     },
     "02c76d6b6558401d914b7c539c70ba89": {
      "model_module": "@jupyter-widgets/base",
      "model_module_version": "1.2.0",
      "model_name": "LayoutModel",
      "state": {
       "flex": "2"
      }
     },
     "0341da296da8481e99b45e554c0da714": {
      "model_module": "@jupyter-widgets/controls",
      "model_module_version": "1.5.0",
      "model_name": "ProgressStyleModel",
      "state": {
       "description_width": ""
      }
     },
     "034d127b7f874042935a03fa0a2a8581": {
      "model_module": "@jupyter-widgets/base",
      "model_module_version": "1.2.0",
      "model_name": "LayoutModel",
      "state": {}
     },
     "03f3e523be0547e8b01cd1e98d15a7e5": {
      "model_module": "@jupyter-widgets/controls",
      "model_module_version": "1.5.0",
      "model_name": "DescriptionStyleModel",
      "state": {
       "description_width": ""
      }
     },
     "044735cd3c2e438ea5a6906865f3599c": {
      "model_module": "@jupyter-widgets/controls",
      "model_module_version": "1.5.0",
      "model_name": "FloatProgressModel",
      "state": {
       "bar_style": "success",
       "layout": "IPY_MODEL_835644eafdaf425d88632747701ecba5",
       "max": 5336,
       "style": "IPY_MODEL_aa60edbe9b9b448b84f4aac7b0818d16",
       "value": 5336
      }
     },
     "0458b58801c446c88fc2187969e25d36": {
      "model_module": "@jupyter-widgets/controls",
      "model_module_version": "1.5.0",
      "model_name": "FloatProgressModel",
      "state": {
       "bar_style": "success",
       "layout": "IPY_MODEL_68b2f43b09df45bdb2bc1e939ae54c46",
       "max": 1735,
       "style": "IPY_MODEL_3679903d190c4fe998b474ff90d1c818",
       "value": 1735
      }
     },
     "04be2daf751c4ab9b1ca298ada8c674a": {
      "model_module": "@jupyter-widgets/controls",
      "model_module_version": "1.5.0",
      "model_name": "HBoxModel",
      "state": {
       "children": [
        "IPY_MODEL_94dad86e344f4db7882acd35278cb09a",
        "IPY_MODEL_ba8fe89ebef444f09602dc50d65d7bfa",
        "IPY_MODEL_8a5bc257ca764457989e7ee24f3568d2"
       ],
       "layout": "IPY_MODEL_c6648de78f7a49f88f6406d0e27c165f"
      }
     },
     "04cf7a66e42f4ec7bf25ec88875093c5": {
      "model_module": "@jupyter-widgets/base",
      "model_module_version": "1.2.0",
      "model_name": "LayoutModel",
      "state": {
       "display": "inline-flex",
       "flex_flow": "row wrap",
       "width": "100%"
      }
     },
     "05124ee6c16e4bf3a694e3116ebb8c74": {
      "model_module": "@jupyter-widgets/base",
      "model_module_version": "1.2.0",
      "model_name": "LayoutModel",
      "state": {}
     },
     "056482a035d9417bbcb615d36ccc0c72": {
      "model_module": "@jupyter-widgets/base",
      "model_module_version": "1.2.0",
      "model_name": "LayoutModel",
      "state": {}
     },
     "056977a5d5e646728dae94e68f6c5b1d": {
      "model_module": "@jupyter-widgets/base",
      "model_module_version": "1.2.0",
      "model_name": "LayoutModel",
      "state": {}
     },
     "060f4569261e44f5b8fed5936696b57c": {
      "model_module": "@jupyter-widgets/controls",
      "model_module_version": "1.5.0",
      "model_name": "HTMLModel",
      "state": {
       "layout": "IPY_MODEL_cd38d82f4e1b48f69e308a783f73d32e",
       "style": "IPY_MODEL_18ec5fbca8cf4cb49b9699d6d6e1a850",
       "value": "100%"
      }
     },
     "0655b05177a8465c8cb47022e9979609": {
      "model_module": "@jupyter-widgets/base",
      "model_module_version": "1.2.0",
      "model_name": "LayoutModel",
      "state": {}
     },
     "079ea71ffd70407cb54f505c9b8ebc3a": {
      "model_module": "@jupyter-widgets/controls",
      "model_module_version": "1.5.0",
      "model_name": "HTMLModel",
      "state": {
       "layout": "IPY_MODEL_c566b722c2ba40ddb7e1e799200edb20",
       "style": "IPY_MODEL_7e8498848dce47c880aa7923423e40c0",
       "value": "100%"
      }
     },
     "085deb739041441fab3c34620c3816b7": {
      "model_module": "@jupyter-widgets/base",
      "model_module_version": "1.2.0",
      "model_name": "LayoutModel",
      "state": {}
     },
     "0946854f118a40ed886edd85aaf7f0a6": {
      "model_module": "@jupyter-widgets/base",
      "model_module_version": "1.2.0",
      "model_name": "LayoutModel",
      "state": {
       "flex": "2"
      }
     },
     "0964ac9fbd284b8889938bb9d5de971e": {
      "model_module": "@jupyter-widgets/base",
      "model_module_version": "1.2.0",
      "model_name": "LayoutModel",
      "state": {
       "display": "inline-flex",
       "flex_flow": "row wrap",
       "width": "100%"
      }
     },
     "09f20b5909d04dc789a1b78b7f9dba0b": {
      "model_module": "@jupyter-widgets/controls",
      "model_module_version": "1.5.0",
      "model_name": "HBoxModel",
      "state": {
       "children": [
        "IPY_MODEL_3a77d54bf6494e0aa6d66333e2c2fec7",
        "IPY_MODEL_6a25c6b071dc42ac8e38f1338f5a4fae",
        "IPY_MODEL_a3c82861c20348f9a737844a775d0fd1"
       ],
       "layout": "IPY_MODEL_2887a5ef27d04daa8737e7204bfe355a"
      }
     },
     "0a338fb8a097408bb9880f4d114a4c6b": {
      "model_module": "@jupyter-widgets/controls",
      "model_module_version": "1.5.0",
      "model_name": "DescriptionStyleModel",
      "state": {
       "description_width": ""
      }
     },
     "0a397b2c9f6646a985b6b9f7074a3a7a": {
      "model_module": "@jupyter-widgets/controls",
      "model_module_version": "1.5.0",
      "model_name": "DescriptionStyleModel",
      "state": {
       "description_width": ""
      }
     },
     "0a9dedbf53364826beebb8d44fbe6038": {
      "model_module": "@jupyter-widgets/controls",
      "model_module_version": "1.5.0",
      "model_name": "DescriptionStyleModel",
      "state": {
       "description_width": ""
      }
     },
     "0bcbc58f7968435fb66cdb43b6a3fa27": {
      "model_module": "@jupyter-widgets/base",
      "model_module_version": "1.2.0",
      "model_name": "LayoutModel",
      "state": {
       "flex": "2"
      }
     },
     "0c8ce17319d4429f805dcd2383bf6496": {
      "model_module": "@jupyter-widgets/controls",
      "model_module_version": "1.5.0",
      "model_name": "ProgressStyleModel",
      "state": {
       "description_width": ""
      }
     },
     "0c996246861f49c093ee1578a9ca5e81": {
      "model_module": "@jupyter-widgets/controls",
      "model_module_version": "1.5.0",
      "model_name": "DescriptionStyleModel",
      "state": {
       "description_width": ""
      }
     },
     "0d9feb1e6ce54240954362ec4a9dde5d": {
      "model_module": "@jupyter-widgets/controls",
      "model_module_version": "1.5.0",
      "model_name": "HBoxModel",
      "state": {
       "children": [
        "IPY_MODEL_71d4ec14206e406eae9ee6de1e097f51",
        "IPY_MODEL_272352e6955348208d9e7f258d2e8ab9",
        "IPY_MODEL_1e19192deb1e4788a4192bb87bc485d2"
       ],
       "layout": "IPY_MODEL_80d42b581af249769dde6cbfb3c16bb8"
      }
     },
     "0e23c3599cb841769829ae3f4c065f11": {
      "model_module": "@jupyter-widgets/controls",
      "model_module_version": "1.5.0",
      "model_name": "DescriptionStyleModel",
      "state": {
       "description_width": ""
      }
     },
     "0f186ce587c04d6a99db45c996daf8b8": {
      "model_module": "@jupyter-widgets/base",
      "model_module_version": "1.2.0",
      "model_name": "LayoutModel",
      "state": {}
     },
     "0f4c30ca463e428bbef7b5bc4e10e8fc": {
      "model_module": "@jupyter-widgets/base",
      "model_module_version": "1.2.0",
      "model_name": "LayoutModel",
      "state": {}
     },
     "119b4b3d09bc446585a5e59721a8b5d2": {
      "model_module": "@jupyter-widgets/base",
      "model_module_version": "1.2.0",
      "model_name": "LayoutModel",
      "state": {}
     },
     "122a5075f6b0428a8d81d15a4c0ef39e": {
      "model_module": "@jupyter-widgets/base",
      "model_module_version": "1.2.0",
      "model_name": "LayoutModel",
      "state": {
       "display": "inline-flex",
       "flex_flow": "row wrap",
       "width": "100%"
      }
     },
     "12a1431fe19a419d8f8231d793a478c5": {
      "model_module": "@jupyter-widgets/controls",
      "model_module_version": "1.5.0",
      "model_name": "FloatProgressModel",
      "state": {
       "bar_style": "success",
       "layout": "IPY_MODEL_b95e6e7ab6b74e8db86e4eaeda3cd270",
       "max": 4208,
       "style": "IPY_MODEL_a478f7d3a0c349f58bc5e45ce2809bfa",
       "value": 4208
      }
     },
     "12b27f1ae4144c7b832c01008b09b8c3": {
      "model_module": "@jupyter-widgets/controls",
      "model_module_version": "1.5.0",
      "model_name": "HTMLModel",
      "state": {
       "layout": "IPY_MODEL_2091a350f3be4a668e024ce037c898db",
       "style": "IPY_MODEL_4fb58d4212174b6c81db8d5ce8bbc577",
       "value": "100%"
      }
     },
     "13030bcec06b457aad1fa0bec643d43c": {
      "model_module": "@jupyter-widgets/controls",
      "model_module_version": "1.5.0",
      "model_name": "ProgressStyleModel",
      "state": {
       "description_width": ""
      }
     },
     "1334001f8021484a8303fe2e800bfdc1": {
      "model_module": "@jupyter-widgets/base",
      "model_module_version": "1.2.0",
      "model_name": "LayoutModel",
      "state": {}
     },
     "13e1ef91435840ba88f1cf5f2a652e25": {
      "model_module": "@jupyter-widgets/controls",
      "model_module_version": "1.5.0",
      "model_name": "DescriptionStyleModel",
      "state": {
       "description_width": ""
      }
     },
     "1449e47901984a6596c48e07ec6f494c": {
      "model_module": "@jupyter-widgets/controls",
      "model_module_version": "1.5.0",
      "model_name": "HBoxModel",
      "state": {
       "children": [
        "IPY_MODEL_5a7bcdb1a5d8491a890074332bad810e",
        "IPY_MODEL_57ba11415af14bfdb4f502b97549b4ac",
        "IPY_MODEL_4a1ce42ee1c040749045af12a2aaf5e2"
       ],
       "layout": "IPY_MODEL_15d0471eb02c49d9a454b72540e3b61b"
      }
     },
     "14569e73286c460eb2a010737f3c0ba5": {
      "model_module": "@jupyter-widgets/controls",
      "model_module_version": "1.5.0",
      "model_name": "HTMLModel",
      "state": {
       "layout": "IPY_MODEL_bca9fd0c85304d8f8062442901086994",
       "style": "IPY_MODEL_4c512ffbd72d415dbfe16245e173d35d",
       "value": " 2732.0/2732 [00:04&lt;00:00, 609.92it/s]"
      }
     },
     "15160e280b91499783f15b6b3c7f18e4": {
      "model_module": "@jupyter-widgets/controls",
      "model_module_version": "1.5.0",
      "model_name": "FloatProgressModel",
      "state": {
       "bar_style": "success",
       "layout": "IPY_MODEL_d2423f88e3224ec88a21ab2cf207d3c3",
       "max": 366,
       "style": "IPY_MODEL_952ac3078e9143f7b63def8d62a10f16",
       "value": 366
      }
     },
     "15386ede2c3d49d9b4ffc502e115f154": {
      "model_module": "@jupyter-widgets/controls",
      "model_module_version": "1.5.0",
      "model_name": "DescriptionStyleModel",
      "state": {
       "description_width": ""
      }
     },
     "155b6a8cc95741d9ac9c01afacf3141b": {
      "model_module": "@jupyter-widgets/controls",
      "model_module_version": "1.5.0",
      "model_name": "HBoxModel",
      "state": {
       "children": [
        "IPY_MODEL_dc3996977bef4e1eae5f35fb744767b5",
        "IPY_MODEL_91937b5fbbf14eb98e394c2efd77f88a",
        "IPY_MODEL_30599c9475a54e6d8e17750f62edc5d6"
       ],
       "layout": "IPY_MODEL_6b9b3098269642b9885e29496b319892"
      }
     },
     "155d38be022440c481369e6564866f58": {
      "model_module": "@jupyter-widgets/controls",
      "model_module_version": "1.5.0",
      "model_name": "FloatProgressModel",
      "state": {
       "bar_style": "success",
       "layout": "IPY_MODEL_bbd771fa25e648558f238a2735e782ae",
       "max": 1735,
       "style": "IPY_MODEL_51b29410a95a4088974b7cb87c2e881a",
       "value": 1735
      }
     },
     "15c954797e1141279ce7577cae8b44d9": {
      "model_module": "@jupyter-widgets/controls",
      "model_module_version": "1.5.0",
      "model_name": "HTMLModel",
      "state": {
       "layout": "IPY_MODEL_085deb739041441fab3c34620c3816b7",
       "style": "IPY_MODEL_8a2fa7a60969482c8800876095656dcf",
       "value": " 5336.0/5336 [00:37&lt;00:00, 564.23it/s]"
      }
     },
     "15d0471eb02c49d9a454b72540e3b61b": {
      "model_module": "@jupyter-widgets/base",
      "model_module_version": "1.2.0",
      "model_name": "LayoutModel",
      "state": {
       "display": "inline-flex",
       "flex_flow": "row wrap",
       "width": "100%"
      }
     },
     "161de5f01ae9495ba09b7e1dbabc6dfe": {
      "model_module": "@jupyter-widgets/controls",
      "model_module_version": "1.5.0",
      "model_name": "FloatProgressModel",
      "state": {
       "bar_style": "success",
       "layout": "IPY_MODEL_68d51a4c7fc14bd589027df417ec902a",
       "max": 1735,
       "style": "IPY_MODEL_4e02906cc1874308964ccfd1fb3031f1",
       "value": 1735
      }
     },
     "162b884f9c324fb79c8eacd475332082": {
      "model_module": "@jupyter-widgets/controls",
      "model_module_version": "1.5.0",
      "model_name": "ProgressStyleModel",
      "state": {
       "description_width": ""
      }
     },
     "165371ffc1c74147abfd57e434ff6c13": {
      "model_module": "@jupyter-widgets/controls",
      "model_module_version": "1.5.0",
      "model_name": "HBoxModel",
      "state": {
       "children": [
        "IPY_MODEL_922f7ac320ed4601bbc1e13b72c41106",
        "IPY_MODEL_a8ecef29c03f4b0690da4a511d1e9636",
        "IPY_MODEL_4a19b7f90f5f4869aae2060acf65cd51"
       ],
       "layout": "IPY_MODEL_003317f0bfd24c4f97107c119d8f70b2"
      }
     },
     "16e92e44d5e948fa9a496caecf88ab65": {
      "model_module": "@jupyter-widgets/base",
      "model_module_version": "1.2.0",
      "model_name": "LayoutModel",
      "state": {}
     },
     "17efddc6617a491fbfa9c425ffa23958": {
      "model_module": "@jupyter-widgets/controls",
      "model_module_version": "1.5.0",
      "model_name": "FloatProgressModel",
      "state": {
       "bar_style": "success",
       "layout": "IPY_MODEL_93a4a518fff747289d9ebe145d0b5012",
       "max": 2732,
       "style": "IPY_MODEL_e9e7fea959c6492b8c61020dfa93cf4c",
       "value": 2732
      }
     },
     "1875bcc616c341a78760927ddd7fa906": {
      "model_module": "@jupyter-widgets/base",
      "model_module_version": "1.2.0",
      "model_name": "LayoutModel",
      "state": {}
     },
     "18ec5fbca8cf4cb49b9699d6d6e1a850": {
      "model_module": "@jupyter-widgets/controls",
      "model_module_version": "1.5.0",
      "model_name": "DescriptionStyleModel",
      "state": {
       "description_width": ""
      }
     },
     "19dac527913b478c983e2fe5d37adb4f": {
      "model_module": "@jupyter-widgets/controls",
      "model_module_version": "1.5.0",
      "model_name": "HBoxModel",
      "state": {
       "children": [
        "IPY_MODEL_b7d93137f4ce47d7bec1437d4a84e883",
        "IPY_MODEL_50d7eedcd63a4b849024c29afbf31513",
        "IPY_MODEL_5bfcb1cf16db4caf97148ce8365c9789"
       ],
       "layout": "IPY_MODEL_5bef462d91584c79a101f8b3d5c31376"
      }
     },
     "1a83567e84254e78bdfbdfc2bc411b16": {
      "model_module": "@jupyter-widgets/controls",
      "model_module_version": "1.5.0",
      "model_name": "HTMLModel",
      "state": {
       "layout": "IPY_MODEL_7789fca6285348808b5fe0f223519538",
       "style": "IPY_MODEL_2970e4cde7964cc3b2a17607505d73c8",
       "value": " 4208.0/4208 [00:07&lt;00:00, 486.03it/s]"
      }
     },
     "1c9a23d11e9c4c11936ea0b9ca53e8cf": {
      "model_module": "@jupyter-widgets/controls",
      "model_module_version": "1.5.0",
      "model_name": "DescriptionStyleModel",
      "state": {
       "description_width": ""
      }
     },
     "1cc04ac179f54c1da9dff310073bbfec": {
      "model_module": "@jupyter-widgets/controls",
      "model_module_version": "1.5.0",
      "model_name": "ProgressStyleModel",
      "state": {
       "description_width": ""
      }
     },
     "1e19192deb1e4788a4192bb87bc485d2": {
      "model_module": "@jupyter-widgets/controls",
      "model_module_version": "1.5.0",
      "model_name": "HTMLModel",
      "state": {
       "layout": "IPY_MODEL_6da11d1977e8441d9c3251313e4c628b",
       "style": "IPY_MODEL_42ffe213087747fd849d38af716e1386",
       "value": " 40.0/40 [00:00&lt;00:00, 61.18it/s]"
      }
     },
     "1e2c9276c5e84235b7df610c3c90e83b": {
      "model_module": "@jupyter-widgets/base",
      "model_module_version": "1.2.0",
      "model_name": "LayoutModel",
      "state": {
       "display": "inline-flex",
       "flex_flow": "row wrap",
       "width": "100%"
      }
     },
     "1edda7e89adf4b5f95df988728398b26": {
      "model_module": "@jupyter-widgets/base",
      "model_module_version": "1.2.0",
      "model_name": "LayoutModel",
      "state": {}
     },
     "1f26de0cbea14e969c13040a1e06dd2c": {
      "model_module": "@jupyter-widgets/base",
      "model_module_version": "1.2.0",
      "model_name": "LayoutModel",
      "state": {
       "display": "inline-flex",
       "flex_flow": "row wrap",
       "width": "100%"
      }
     },
     "1f44eea3069f4d67b8e22e1f6c3bc0d5": {
      "model_module": "@jupyter-widgets/controls",
      "model_module_version": "1.5.0",
      "model_name": "HTMLModel",
      "state": {
       "layout": "IPY_MODEL_7b07b4cdafde412c8c6868fdbd5f32e5",
       "style": "IPY_MODEL_884eeb3a03b441e999ce67cdffd271ad",
       "value": " 827.0/827 [00:00&lt;00:00, 1147.60it/s]"
      }
     },
     "1f8c411fc8624a66b7fc937726168088": {
      "model_module": "@jupyter-widgets/controls",
      "model_module_version": "1.5.0",
      "model_name": "HTMLModel",
      "state": {
       "layout": "IPY_MODEL_ece18530556c4fadb2b8b7abbbb0d68b",
       "style": "IPY_MODEL_a81aee02d5b646b883b0a58c11e82ce2",
       "value": " 2652.0/2652 [00:00&lt;00:00, 3787.86it/s]"
      }
     },
     "2060f1d6e1d74c59af78e6a9439c4cd7": {
      "model_module": "@jupyter-widgets/base",
      "model_module_version": "1.2.0",
      "model_name": "LayoutModel",
      "state": {
       "display": "inline-flex",
       "flex_flow": "row wrap",
       "width": "100%"
      }
     },
     "2061abaa13de42c084c6f8f552171a0a": {
      "model_module": "@jupyter-widgets/base",
      "model_module_version": "1.2.0",
      "model_name": "LayoutModel",
      "state": {}
     },
     "2091a350f3be4a668e024ce037c898db": {
      "model_module": "@jupyter-widgets/base",
      "model_module_version": "1.2.0",
      "model_name": "LayoutModel",
      "state": {}
     },
     "21c4c670271f483b84bb9be478075252": {
      "model_module": "@jupyter-widgets/base",
      "model_module_version": "1.2.0",
      "model_name": "LayoutModel",
      "state": {
       "display": "inline-flex",
       "flex_flow": "row wrap",
       "width": "100%"
      }
     },
     "21caa706200a48e597f31ba40c33ff38": {
      "model_module": "@jupyter-widgets/base",
      "model_module_version": "1.2.0",
      "model_name": "LayoutModel",
      "state": {}
     },
     "21ce8d6561144b3bb491669f0558623b": {
      "model_module": "@jupyter-widgets/controls",
      "model_module_version": "1.5.0",
      "model_name": "HBoxModel",
      "state": {
       "children": [
        "IPY_MODEL_99a167defd3242f7b99615e8111e916b",
        "IPY_MODEL_155d38be022440c481369e6564866f58",
        "IPY_MODEL_23b9a5e29d08461cabfa44773ad31674"
       ],
       "layout": "IPY_MODEL_96caa4d2598a49fa8e0f5d9d544fbd7b"
      }
     },
     "23200ca8ad7549cf979f779c77b4306c": {
      "model_module": "@jupyter-widgets/controls",
      "model_module_version": "1.5.0",
      "model_name": "FloatProgressModel",
      "state": {
       "bar_style": "success",
       "layout": "IPY_MODEL_3432e9844f2f43b58fc69321acf81be3",
       "max": 2732,
       "style": "IPY_MODEL_360a05c0f5604914aa2f32c34cbb9763",
       "value": 2732
      }
     },
     "2359d9f1641342a69b751cbcabda58d7": {
      "model_module": "@jupyter-widgets/base",
      "model_module_version": "1.2.0",
      "model_name": "LayoutModel",
      "state": {}
     },
     "2362a8761b9f412d9a7ced58f19c0574": {
      "model_module": "@jupyter-widgets/controls",
      "model_module_version": "1.5.0",
      "model_name": "HTMLModel",
      "state": {
       "layout": "IPY_MODEL_457ea1d6a3b048b3bf4cb1e51892150b",
       "style": "IPY_MODEL_fe1581bfd48f4b178b181831703a50b1",
       "value": " 1735.0/1735 [00:00&lt;00:00, 30436.98it/s]"
      }
     },
     "23b9a5e29d08461cabfa44773ad31674": {
      "model_module": "@jupyter-widgets/controls",
      "model_module_version": "1.5.0",
      "model_name": "HTMLModel",
      "state": {
       "layout": "IPY_MODEL_51e9092df32b4a439e4f7b70a9fe60dc",
       "style": "IPY_MODEL_a092398cd6e545e4abb37ef93aa27929",
       "value": " 1735.0/1735 [00:00&lt;00:00, 17223.95it/s]"
      }
     },
     "24817e9ff4b24c28b65e3633b225be84": {
      "model_module": "@jupyter-widgets/controls",
      "model_module_version": "1.5.0",
      "model_name": "HTMLModel",
      "state": {
       "layout": "IPY_MODEL_f8644ff6c4244a368bb685e4ea17469e",
       "style": "IPY_MODEL_ddae9298feed4d9c9a0642a45f91437b",
       "value": "100%"
      }
     },
     "24fc4812deab4099a57118afe63cad8e": {
      "model_module": "@jupyter-widgets/base",
      "model_module_version": "1.2.0",
      "model_name": "LayoutModel",
      "state": {}
     },
     "25bc9d5f84d84b75a4e69547dbb9b92f": {
      "model_module": "@jupyter-widgets/base",
      "model_module_version": "1.2.0",
      "model_name": "LayoutModel",
      "state": {
       "display": "inline-flex",
       "flex_flow": "row wrap",
       "width": "100%"
      }
     },
     "25f6abcb21964381b15623406bea91e2": {
      "model_module": "@jupyter-widgets/controls",
      "model_module_version": "1.5.0",
      "model_name": "FloatProgressModel",
      "state": {
       "bar_style": "success",
       "layout": "IPY_MODEL_db97f7ff1518451a83094cdb48402276",
       "max": 999,
       "style": "IPY_MODEL_d176073ef2734cb9b49ea4cca5c69714",
       "value": 999
      }
     },
     "25fa781dcd834e36b9fb6f3479d8d1a9": {
      "model_module": "@jupyter-widgets/controls",
      "model_module_version": "1.5.0",
      "model_name": "HBoxModel",
      "state": {
       "children": [
        "IPY_MODEL_4ff0ae2b5e7c4315951c120a79a0b608",
        "IPY_MODEL_7300ad9b8b0a40b0abfba0d4ee076faf",
        "IPY_MODEL_ffc54be6d8c94087ad3cfda2383b2f6d"
       ],
       "layout": "IPY_MODEL_319b8b8a70f0475fb932e7f5b81d9044"
      }
     },
     "2604332c3ad9417ba25d813b3c6cf30e": {
      "model_module": "@jupyter-widgets/controls",
      "model_module_version": "1.5.0",
      "model_name": "HBoxModel",
      "state": {
       "children": [
        "IPY_MODEL_cd04d5f5e78d4b0abd032be065cfc245",
        "IPY_MODEL_4dc0f3da7ff8466f9b4a380bb7d861b1",
        "IPY_MODEL_35f3f26ae4834338a72650cfb79140b2"
       ],
       "layout": "IPY_MODEL_452dc81dd22944518fd41bb2b55ae1a4"
      }
     },
     "272352e6955348208d9e7f258d2e8ab9": {
      "model_module": "@jupyter-widgets/controls",
      "model_module_version": "1.5.0",
      "model_name": "FloatProgressModel",
      "state": {
       "bar_style": "success",
       "layout": "IPY_MODEL_f2f7d3b0b83844338d9f059d2f59cb10",
       "max": 40,
       "style": "IPY_MODEL_8b6955edb2df4347ba2901f1088537ff",
       "value": 40
      }
     },
     "2828e1fe2af74d8db07e1adc0123117a": {
      "model_module": "@jupyter-widgets/controls",
      "model_module_version": "1.5.0",
      "model_name": "DescriptionStyleModel",
      "state": {
       "description_width": ""
      }
     },
     "2887a5ef27d04daa8737e7204bfe355a": {
      "model_module": "@jupyter-widgets/base",
      "model_module_version": "1.2.0",
      "model_name": "LayoutModel",
      "state": {
       "display": "inline-flex",
       "flex_flow": "row wrap",
       "width": "100%"
      }
     },
     "2955daa250974e40a239930b422a65f7": {
      "model_module": "@jupyter-widgets/base",
      "model_module_version": "1.2.0",
      "model_name": "LayoutModel",
      "state": {}
     },
     "296154e50d474c3b9ed41b4a5a03c2cc": {
      "model_module": "@jupyter-widgets/controls",
      "model_module_version": "1.5.0",
      "model_name": "HTMLModel",
      "state": {
       "layout": "IPY_MODEL_21caa706200a48e597f31ba40c33ff38",
       "style": "IPY_MODEL_0c996246861f49c093ee1578a9ca5e81",
       "value": "100%"
      }
     },
     "2968f9b575484fecae06b0265b397dc7": {
      "model_module": "@jupyter-widgets/controls",
      "model_module_version": "1.5.0",
      "model_name": "HBoxModel",
      "state": {
       "children": [
        "IPY_MODEL_6cf2d234eca24d3fa6d2d8fd7c1c7715",
        "IPY_MODEL_31c479b1189b4444828ba03d4c8681be",
        "IPY_MODEL_667d7f30fbe5423586d7d0adec784263"
       ],
       "layout": "IPY_MODEL_d5b976717c694db4a47813615707f1ea"
      }
     },
     "296b520996d148489b8253647b348f50": {
      "model_module": "@jupyter-widgets/base",
      "model_module_version": "1.2.0",
      "model_name": "LayoutModel",
      "state": {}
     },
     "2970e4cde7964cc3b2a17607505d73c8": {
      "model_module": "@jupyter-widgets/controls",
      "model_module_version": "1.5.0",
      "model_name": "DescriptionStyleModel",
      "state": {
       "description_width": ""
      }
     },
     "2992d1f323514a90b0c23a7c91e90f72": {
      "model_module": "@jupyter-widgets/controls",
      "model_module_version": "1.5.0",
      "model_name": "ProgressStyleModel",
      "state": {
       "description_width": ""
      }
     },
     "29ff6be58fae437b9e265f68e0813490": {
      "model_module": "@jupyter-widgets/controls",
      "model_module_version": "1.5.0",
      "model_name": "HTMLModel",
      "state": {
       "layout": "IPY_MODEL_fdbbbfc75d85415fa5ae39d7474fed97",
       "style": "IPY_MODEL_b966e0fef2e24741b9c735b655f78871",
       "value": "100%"
      }
     },
     "2a1c0770b0c64663b88dfea0189bca6f": {
      "model_module": "@jupyter-widgets/controls",
      "model_module_version": "1.5.0",
      "model_name": "ProgressStyleModel",
      "state": {
       "description_width": ""
      }
     },
     "2a33802867cc43378c0aede95fa4000d": {
      "model_module": "@jupyter-widgets/controls",
      "model_module_version": "1.5.0",
      "model_name": "HTMLModel",
      "state": {
       "layout": "IPY_MODEL_5ab8225eb5e343108f79fafa80b6ff58",
       "style": "IPY_MODEL_9d4995b5bfd34e54b49e6685cc2ed1dd",
       "value": " 694.0/694 [00:00&lt;00:00, 1005.53it/s]"
      }
     },
     "2b1129ed31674ad3b4ca06e2e5410cff": {
      "model_module": "@jupyter-widgets/base",
      "model_module_version": "1.2.0",
      "model_name": "LayoutModel",
      "state": {}
     },
     "2d1689362c8c4e249a83858d4438dda0": {
      "model_module": "@jupyter-widgets/controls",
      "model_module_version": "1.5.0",
      "model_name": "DescriptionStyleModel",
      "state": {
       "description_width": ""
      }
     },
     "2d52b55ab9504f03babaa0de4739268c": {
      "model_module": "@jupyter-widgets/base",
      "model_module_version": "1.2.0",
      "model_name": "LayoutModel",
      "state": {}
     },
     "2dba8fabb1014f199ecf01d9a0275c6d": {
      "model_module": "@jupyter-widgets/controls",
      "model_module_version": "1.5.0",
      "model_name": "HTMLModel",
      "state": {
       "layout": "IPY_MODEL_0f4c30ca463e428bbef7b5bc4e10e8fc",
       "style": "IPY_MODEL_6de894665d054bea8ce7e2f1f95b864b",
       "value": "100%"
      }
     },
     "2dd7673360ee42168e1fb977c66b5e41": {
      "model_module": "@jupyter-widgets/controls",
      "model_module_version": "1.5.0",
      "model_name": "HTMLModel",
      "state": {
       "layout": "IPY_MODEL_05124ee6c16e4bf3a694e3116ebb8c74",
       "style": "IPY_MODEL_3cb2385f106f46fcb5b29a8d8486a06a",
       "value": "100%"
      }
     },
     "2e1ab2488c8149ba9fee89fa2270e229": {
      "model_module": "@jupyter-widgets/controls",
      "model_module_version": "1.5.0",
      "model_name": "HBoxModel",
      "state": {
       "children": [
        "IPY_MODEL_ea76f9fe2ecc4a0cafb2ab3f1eb9267e",
        "IPY_MODEL_eeda798f711a4b9c9c59691a0a815c8b",
        "IPY_MODEL_2a33802867cc43378c0aede95fa4000d"
       ],
       "layout": "IPY_MODEL_ccfa43a64bcb4cdf87445f023a59dd3b"
      }
     },
     "2f1822b4b06547c99b8c1cd953736f6e": {
      "model_module": "@jupyter-widgets/base",
      "model_module_version": "1.2.0",
      "model_name": "LayoutModel",
      "state": {
       "display": "inline-flex",
       "flex_flow": "row wrap",
       "width": "100%"
      }
     },
     "303b3235091e4821b0c392f9a06f55c9": {
      "model_module": "@jupyter-widgets/controls",
      "model_module_version": "1.5.0",
      "model_name": "ProgressStyleModel",
      "state": {
       "description_width": ""
      }
     },
     "30599c9475a54e6d8e17750f62edc5d6": {
      "model_module": "@jupyter-widgets/controls",
      "model_module_version": "1.5.0",
      "model_name": "HTMLModel",
      "state": {
       "layout": "IPY_MODEL_47845f3e6d5b4b4daf51049eb0518e4f",
       "style": "IPY_MODEL_7b4d0dcadf1b409cb432b71378ec6972",
       "value": " 3766.0/3766 [00:06&lt;00:00, 574.75it/s]"
      }
     },
     "30cc0b9bd36c4f169e5f2ef17bc20dd7": {
      "model_module": "@jupyter-widgets/controls",
      "model_module_version": "1.5.0",
      "model_name": "ProgressStyleModel",
      "state": {
       "description_width": ""
      }
     },
     "30f345c95ce04f1691434cc4c0240c95": {
      "model_module": "@jupyter-widgets/base",
      "model_module_version": "1.2.0",
      "model_name": "LayoutModel",
      "state": {
       "display": "inline-flex",
       "flex_flow": "row wrap",
       "width": "100%"
      }
     },
     "319b8b8a70f0475fb932e7f5b81d9044": {
      "model_module": "@jupyter-widgets/base",
      "model_module_version": "1.2.0",
      "model_name": "LayoutModel",
      "state": {
       "display": "inline-flex",
       "flex_flow": "row wrap",
       "width": "100%"
      }
     },
     "31a64aedc16f4720b61880563e88d8a5": {
      "model_module": "@jupyter-widgets/controls",
      "model_module_version": "1.5.0",
      "model_name": "HTMLModel",
      "state": {
       "layout": "IPY_MODEL_2061abaa13de42c084c6f8f552171a0a",
       "style": "IPY_MODEL_b6eddeb965a340df92a82dc9ee6b460c",
       "value": " 1115.0/1115 [00:00&lt;00:00, 1670.62it/s]"
      }
     },
     "31c479b1189b4444828ba03d4c8681be": {
      "model_module": "@jupyter-widgets/controls",
      "model_module_version": "1.5.0",
      "model_name": "FloatProgressModel",
      "state": {
       "bar_style": "success",
       "layout": "IPY_MODEL_fa3c72f31c654f3bb09a12c506966758",
       "max": 3174,
       "style": "IPY_MODEL_f652c14104a14d1f865020609ed3c1e4",
       "value": 3174
      }
     },
     "324b2c9cd1d64dfdb4079e68e0b8a8ae": {
      "model_module": "@jupyter-widgets/base",
      "model_module_version": "1.2.0",
      "model_name": "LayoutModel",
      "state": {
       "flex": "2"
      }
     },
     "326873a2e313417285c2498badefda24": {
      "model_module": "@jupyter-widgets/base",
      "model_module_version": "1.2.0",
      "model_name": "LayoutModel",
      "state": {
       "display": "inline-flex",
       "flex_flow": "row wrap",
       "width": "100%"
      }
     },
     "33865c7c25224180839a58f72f8542b4": {
      "model_module": "@jupyter-widgets/controls",
      "model_module_version": "1.5.0",
      "model_name": "DescriptionStyleModel",
      "state": {
       "description_width": ""
      }
     },
     "3432e9844f2f43b58fc69321acf81be3": {
      "model_module": "@jupyter-widgets/base",
      "model_module_version": "1.2.0",
      "model_name": "LayoutModel",
      "state": {
       "flex": "2"
      }
     },
     "34af0821a24341dbbd0d5aaf8950b088": {
      "model_module": "@jupyter-widgets/base",
      "model_module_version": "1.2.0",
      "model_name": "LayoutModel",
      "state": {}
     },
     "34ed3129764d466a85afaf51ac05c6cc": {
      "model_module": "@jupyter-widgets/controls",
      "model_module_version": "1.5.0",
      "model_name": "HBoxModel",
      "state": {
       "children": [
        "IPY_MODEL_7d07bead349b4570bf9cb95f619c75f6",
        "IPY_MODEL_b288996308cf4d6cbacc985f55d5db2d",
        "IPY_MODEL_72627f9c1b684e73bb158ed77a0587de"
       ],
       "layout": "IPY_MODEL_71e86373f13c47d695c26a5e5b717d7c"
      }
     },
     "35042a8ba3044cba90627125e024eb15": {
      "model_module": "@jupyter-widgets/base",
      "model_module_version": "1.2.0",
      "model_name": "LayoutModel",
      "state": {
       "flex": "2"
      }
     },
     "3538073b793a456890d8cad482395fc5": {
      "model_module": "@jupyter-widgets/controls",
      "model_module_version": "1.5.0",
      "model_name": "DescriptionStyleModel",
      "state": {
       "description_width": ""
      }
     },
     "35f3f26ae4834338a72650cfb79140b2": {
      "model_module": "@jupyter-widgets/controls",
      "model_module_version": "1.5.0",
      "model_name": "HTMLModel",
      "state": {
       "layout": "IPY_MODEL_6fd08a2b418b4223aa8d83cd13083aac",
       "style": "IPY_MODEL_b820b69ce21e4146a318336c3f9fdf86",
       "value": " 1735.0/1735 [00:00&lt;00:00, 3761.99it/s]"
      }
     },
     "35f8f081d7644c098aff7cfad297a45f": {
      "model_module": "@jupyter-widgets/controls",
      "model_module_version": "1.5.0",
      "model_name": "HTMLModel",
      "state": {
       "layout": "IPY_MODEL_fa0e6982a1014380b0dc1ac3a8de94d4",
       "style": "IPY_MODEL_6598d1c231304142afd3c953bb773b42",
       "value": " 1735.0/1735 [00:00&lt;00:00, 2411.51it/s]"
      }
     },
     "360274b310be4919a69f260ab18924b5": {
      "model_module": "@jupyter-widgets/controls",
      "model_module_version": "1.5.0",
      "model_name": "HTMLModel",
      "state": {
       "layout": "IPY_MODEL_5526bb91c57243d5ade54ddd2713ba3c",
       "style": "IPY_MODEL_0e23c3599cb841769829ae3f4c065f11",
       "value": " 236.0/236 [00:00&lt;00:00, 349.68it/s]"
      }
     },
     "360a05c0f5604914aa2f32c34cbb9763": {
      "model_module": "@jupyter-widgets/controls",
      "model_module_version": "1.5.0",
      "model_name": "ProgressStyleModel",
      "state": {
       "description_width": ""
      }
     },
     "3679903d190c4fe998b474ff90d1c818": {
      "model_module": "@jupyter-widgets/controls",
      "model_module_version": "1.5.0",
      "model_name": "ProgressStyleModel",
      "state": {
       "description_width": ""
      }
     },
     "36ca1e80f7b849c89614af3f52680dfc": {
      "model_module": "@jupyter-widgets/base",
      "model_module_version": "1.2.0",
      "model_name": "LayoutModel",
      "state": {}
     },
     "36dc5a76d1054d8987078161b79c0955": {
      "model_module": "@jupyter-widgets/base",
      "model_module_version": "1.2.0",
      "model_name": "LayoutModel",
      "state": {}
     },
     "37755fcd70a64d2cbb702de5ba61b7cf": {
      "model_module": "@jupyter-widgets/controls",
      "model_module_version": "1.5.0",
      "model_name": "HBoxModel",
      "state": {
       "children": [
        "IPY_MODEL_a13f2a9c9f5244d8a9b629bffbcf77a1",
        "IPY_MODEL_e274dd0ec8644b7b8e5c94f1123da608",
        "IPY_MODEL_02690c04c8614fec9f0941c2a50e059b"
       ],
       "layout": "IPY_MODEL_0964ac9fbd284b8889938bb9d5de971e"
      }
     },
     "3811f079aa12467ba356f0552e5e67ab": {
      "model_module": "@jupyter-widgets/controls",
      "model_module_version": "1.5.0",
      "model_name": "HTMLModel",
      "state": {
       "layout": "IPY_MODEL_6a6f0da97da44ec69e626af4bdfa1e3a",
       "style": "IPY_MODEL_9e8f6d63370046ecab1c284664afdf96",
       "value": " 1735.0/1735 [00:00&lt;00:00, 15050.85it/s]"
      }
     },
     "39ec883cd179468d866de346fa0b7976": {
      "model_module": "@jupyter-widgets/controls",
      "model_module_version": "1.5.0",
      "model_name": "DescriptionStyleModel",
      "state": {
       "description_width": ""
      }
     },
     "3a77d54bf6494e0aa6d66333e2c2fec7": {
      "model_module": "@jupyter-widgets/controls",
      "model_module_version": "1.5.0",
      "model_name": "HTMLModel",
      "state": {
       "layout": "IPY_MODEL_2359d9f1641342a69b751cbcabda58d7",
       "style": "IPY_MODEL_b41e04fa32094c3aa093976957a8f7e3",
       "value": "100%"
      }
     },
     "3b55bfa3c23248249283ef02ebde7b8a": {
      "model_module": "@jupyter-widgets/controls",
      "model_module_version": "1.5.0",
      "model_name": "ProgressStyleModel",
      "state": {
       "description_width": ""
      }
     },
     "3cb2385f106f46fcb5b29a8d8486a06a": {
      "model_module": "@jupyter-widgets/controls",
      "model_module_version": "1.5.0",
      "model_name": "DescriptionStyleModel",
      "state": {
       "description_width": ""
      }
     },
     "3cbac28fc01a4d2f9ab03ffac0feb146": {
      "model_module": "@jupyter-widgets/controls",
      "model_module_version": "1.5.0",
      "model_name": "DescriptionStyleModel",
      "state": {
       "description_width": ""
      }
     },
     "3d438099989d407d882ef03ead22f1a6": {
      "model_module": "@jupyter-widgets/base",
      "model_module_version": "1.2.0",
      "model_name": "LayoutModel",
      "state": {
       "display": "inline-flex",
       "flex_flow": "row wrap",
       "width": "100%"
      }
     },
     "3dbcf71985134211b73c53f628869b99": {
      "model_module": "@jupyter-widgets/base",
      "model_module_version": "1.2.0",
      "model_name": "LayoutModel",
      "state": {}
     },
     "3e9568073781473892cd1016b5ac260e": {
      "model_module": "@jupyter-widgets/controls",
      "model_module_version": "1.5.0",
      "model_name": "HBoxModel",
      "state": {
       "children": [
        "IPY_MODEL_b5849f7e47d441048b823676f1beed0a",
        "IPY_MODEL_b5ff3bbff3914111ab0da8074b7dda27",
        "IPY_MODEL_91dc3abeeb844b2b8d64e3ba496feca5"
       ],
       "layout": "IPY_MODEL_2060f1d6e1d74c59af78e6a9439c4cd7"
      }
     },
     "3f0f717bbf554745b8fb420c22ffff0c": {
      "model_module": "@jupyter-widgets/controls",
      "model_module_version": "1.5.0",
      "model_name": "HTMLModel",
      "state": {
       "layout": "IPY_MODEL_7481d1724aea428bba832a27b43f9754",
       "style": "IPY_MODEL_d1b7fc8a0c3e4083bfde6f4100fad63d",
       "value": "100%"
      }
     },
     "41a25f7025124843b68d4a7803cd99fb": {
      "model_module": "@jupyter-widgets/base",
      "model_module_version": "1.2.0",
      "model_name": "LayoutModel",
      "state": {
       "flex": "2"
      }
     },
     "41d02ed97d6d47e0acf0d73006620e26": {
      "model_module": "@jupyter-widgets/controls",
      "model_module_version": "1.5.0",
      "model_name": "HTMLModel",
      "state": {
       "layout": "IPY_MODEL_95648d2f04f74a27bc621960d4079fed",
       "style": "IPY_MODEL_f6a2170ac6c843fba3e04cd1a3a78edb",
       "value": "100%"
      }
     },
     "4202478c2c8944da9551b4540fd0252b": {
      "model_module": "@jupyter-widgets/controls",
      "model_module_version": "1.5.0",
      "model_name": "DescriptionStyleModel",
      "state": {
       "description_width": ""
      }
     },
     "421057d861674434bf14ab31fb7b616b": {
      "model_module": "@jupyter-widgets/controls",
      "model_module_version": "1.5.0",
      "model_name": "HBoxModel",
      "state": {
       "children": [
        "IPY_MODEL_edd842647b95422498875ffc6921ad4a",
        "IPY_MODEL_75ba9c5a72b6423a8e7cd6a2157c5503",
        "IPY_MODEL_5356184ffa6348ea865eb81fb27740e3"
       ],
       "layout": "IPY_MODEL_d046f40e13e24cf6842f19c552586165"
      }
     },
     "42ffe213087747fd849d38af716e1386": {
      "model_module": "@jupyter-widgets/controls",
      "model_module_version": "1.5.0",
      "model_name": "DescriptionStyleModel",
      "state": {
       "description_width": ""
      }
     },
     "44cdf96f416545d59e36706f87fce59b": {
      "model_module": "@jupyter-widgets/base",
      "model_module_version": "1.2.0",
      "model_name": "LayoutModel",
      "state": {
       "flex": "2"
      }
     },
     "452dc81dd22944518fd41bb2b55ae1a4": {
      "model_module": "@jupyter-widgets/base",
      "model_module_version": "1.2.0",
      "model_name": "LayoutModel",
      "state": {
       "display": "inline-flex",
       "flex_flow": "row wrap",
       "width": "100%"
      }
     },
     "457ea1d6a3b048b3bf4cb1e51892150b": {
      "model_module": "@jupyter-widgets/base",
      "model_module_version": "1.2.0",
      "model_name": "LayoutModel",
      "state": {}
     },
     "4671995502fb4d188b0dbb0df88d4f68": {
      "model_module": "@jupyter-widgets/base",
      "model_module_version": "1.2.0",
      "model_name": "LayoutModel",
      "state": {
       "display": "inline-flex",
       "flex_flow": "row wrap",
       "width": "100%"
      }
     },
     "46d68bc47ecf404aa242a1c099ab3825": {
      "model_module": "@jupyter-widgets/base",
      "model_module_version": "1.2.0",
      "model_name": "LayoutModel",
      "state": {
       "display": "inline-flex",
       "flex_flow": "row wrap",
       "width": "100%"
      }
     },
     "46ddff02c439447e93e4c64e9f4ea4ad": {
      "model_module": "@jupyter-widgets/controls",
      "model_module_version": "1.5.0",
      "model_name": "HBoxModel",
      "state": {
       "children": [
        "IPY_MODEL_76a0438ff22f4f55b6add49e0f3c4741",
        "IPY_MODEL_86cb43e2008f42fcab19867ed48d01be",
        "IPY_MODEL_c4f21419984e47b7a2fe3385056a20f6"
       ],
       "layout": "IPY_MODEL_a72c744e7602451a876e4adadf20798d"
      }
     },
     "475cee62efd04a369f5bbb88e1dd3fdc": {
      "model_module": "@jupyter-widgets/controls",
      "model_module_version": "1.5.0",
      "model_name": "DescriptionStyleModel",
      "state": {
       "description_width": ""
      }
     },
     "47845f3e6d5b4b4daf51049eb0518e4f": {
      "model_module": "@jupyter-widgets/base",
      "model_module_version": "1.2.0",
      "model_name": "LayoutModel",
      "state": {}
     },
     "47bdc359befd4f4aafebf4dec641aa4d": {
      "model_module": "@jupyter-widgets/controls",
      "model_module_version": "1.5.0",
      "model_name": "DescriptionStyleModel",
      "state": {
       "description_width": ""
      }
     },
     "48744cc2f70b4433bf032bc50bc7a53d": {
      "model_module": "@jupyter-widgets/controls",
      "model_module_version": "1.5.0",
      "model_name": "HBoxModel",
      "state": {
       "children": [
        "IPY_MODEL_bb2f6372a3054426b5415d2c17a33c52",
        "IPY_MODEL_23200ca8ad7549cf979f779c77b4306c",
        "IPY_MODEL_14569e73286c460eb2a010737f3c0ba5"
       ],
       "layout": "IPY_MODEL_30f345c95ce04f1691434cc4c0240c95"
      }
     },
     "489bb12a0d9e4411aa214a5451d3b880": {
      "model_module": "@jupyter-widgets/controls",
      "model_module_version": "1.5.0",
      "model_name": "HBoxModel",
      "state": {
       "children": [
        "IPY_MODEL_296154e50d474c3b9ed41b4a5a03c2cc",
        "IPY_MODEL_ef6c3556d5774cea9b59ef04a37b4c14",
        "IPY_MODEL_8f42996da18741f7b98f331c6c46694e"
       ],
       "layout": "IPY_MODEL_f22eeba0aadd45ce909ad51959ca61da"
      }
     },
     "490f3ca893b042d69c2355a6713853e2": {
      "model_module": "@jupyter-widgets/base",
      "model_module_version": "1.2.0",
      "model_name": "LayoutModel",
      "state": {}
     },
     "493c8d3e8d084876b44b89fd6f817519": {
      "model_module": "@jupyter-widgets/controls",
      "model_module_version": "1.5.0",
      "model_name": "DescriptionStyleModel",
      "state": {
       "description_width": ""
      }
     },
     "495bf400d42643f6a4703882e2da5797": {
      "model_module": "@jupyter-widgets/controls",
      "model_module_version": "1.5.0",
      "model_name": "DescriptionStyleModel",
      "state": {
       "description_width": ""
      }
     },
     "4a00c9f3ead043c38bc92fc1804c4b0d": {
      "model_module": "@jupyter-widgets/base",
      "model_module_version": "1.2.0",
      "model_name": "LayoutModel",
      "state": {}
     },
     "4a19b7f90f5f4869aae2060acf65cd51": {
      "model_module": "@jupyter-widgets/controls",
      "model_module_version": "1.5.0",
      "model_name": "HTMLModel",
      "state": {
       "layout": "IPY_MODEL_b15ba535dadc42b7880dc71af4472d76",
       "style": "IPY_MODEL_a024bb161dc941b198a2bb9833d9b003",
       "value": " 964.0/964 [00:01&lt;00:00, 543.19it/s]"
      }
     },
     "4a1ce42ee1c040749045af12a2aaf5e2": {
      "model_module": "@jupyter-widgets/controls",
      "model_module_version": "1.5.0",
      "model_name": "HTMLModel",
      "state": {
       "layout": "IPY_MODEL_119b4b3d09bc446585a5e59721a8b5d2",
       "style": "IPY_MODEL_d13cc399e3564bdeb7c8cabfe72798e2",
       "value": " 964.0/964 [00:00&lt;00:00, 940.30it/s]"
      }
     },
     "4a896f0fe8574fd5b3574a1d417a6ad4": {
      "model_module": "@jupyter-widgets/controls",
      "model_module_version": "1.5.0",
      "model_name": "HTMLModel",
      "state": {
       "layout": "IPY_MODEL_cd750ed5376e4d26a10103009838ffee",
       "style": "IPY_MODEL_eaf6d090a040457d8fd1edd40d129f98",
       "value": "100%"
      }
     },
     "4aa2a08563a54038bb1f6fcd66e3652c": {
      "model_module": "@jupyter-widgets/controls",
      "model_module_version": "1.5.0",
      "model_name": "HBoxModel",
      "state": {
       "children": [
        "IPY_MODEL_4d6f7dfbd79d4a239d5f39daa4e56259",
        "IPY_MODEL_17efddc6617a491fbfa9c425ffa23958",
        "IPY_MODEL_725efbfbdb3c4294b6edab84c8998e3e"
       ],
       "layout": "IPY_MODEL_2f1822b4b06547c99b8c1cd953736f6e"
      }
     },
     "4b52dc6cc1284ad394e5ee551f456a3c": {
      "model_module": "@jupyter-widgets/base",
      "model_module_version": "1.2.0",
      "model_name": "LayoutModel",
      "state": {}
     },
     "4b63d8e70fbc4a3dbca4ecc456c84b34": {
      "model_module": "@jupyter-widgets/base",
      "model_module_version": "1.2.0",
      "model_name": "LayoutModel",
      "state": {}
     },
     "4b8177fb74474cf5b38b5a2c274994d5": {
      "model_module": "@jupyter-widgets/base",
      "model_module_version": "1.2.0",
      "model_name": "LayoutModel",
      "state": {
       "display": "inline-flex",
       "flex_flow": "row wrap",
       "width": "100%"
      }
     },
     "4bd034f1b0ad4a34af4aae6ea67e13fe": {
      "model_module": "@jupyter-widgets/controls",
      "model_module_version": "1.5.0",
      "model_name": "DescriptionStyleModel",
      "state": {
       "description_width": ""
      }
     },
     "4bf21845d791473fbc092d081b9d9134": {
      "model_module": "@jupyter-widgets/base",
      "model_module_version": "1.2.0",
      "model_name": "LayoutModel",
      "state": {}
     },
     "4c0dac2ca25f4768a45d46e3318f0cf1": {
      "model_module": "@jupyter-widgets/controls",
      "model_module_version": "1.5.0",
      "model_name": "HBoxModel",
      "state": {
       "children": [
        "IPY_MODEL_d71a2dd2f354476eb4ce40c10697b427",
        "IPY_MODEL_d668441770ae4a90b1ee0df4a138919f",
        "IPY_MODEL_fc8ee4960bb0406a8808bce4bc33a9f7"
       ],
       "layout": "IPY_MODEL_3d438099989d407d882ef03ead22f1a6"
      }
     },
     "4c38f6d3cd644c489f295ef3ce319373": {
      "model_module": "@jupyter-widgets/controls",
      "model_module_version": "1.5.0",
      "model_name": "HBoxModel",
      "state": {
       "children": [
        "IPY_MODEL_060f4569261e44f5b8fed5936696b57c",
        "IPY_MODEL_a82e422353af4070b9a59a4be792dbca",
        "IPY_MODEL_360274b310be4919a69f260ab18924b5"
       ],
       "layout": "IPY_MODEL_1f26de0cbea14e969c13040a1e06dd2c"
      }
     },
     "4c512ffbd72d415dbfe16245e173d35d": {
      "model_module": "@jupyter-widgets/controls",
      "model_module_version": "1.5.0",
      "model_name": "DescriptionStyleModel",
      "state": {
       "description_width": ""
      }
     },
     "4c5959a751534c0080a99ff612b94208": {
      "model_module": "@jupyter-widgets/controls",
      "model_module_version": "1.5.0",
      "model_name": "DescriptionStyleModel",
      "state": {
       "description_width": ""
      }
     },
     "4d6f553eee2a41f8af1fdb78b0b9b635": {
      "model_module": "@jupyter-widgets/base",
      "model_module_version": "1.2.0",
      "model_name": "LayoutModel",
      "state": {}
     },
     "4d6f7dfbd79d4a239d5f39daa4e56259": {
      "model_module": "@jupyter-widgets/controls",
      "model_module_version": "1.5.0",
      "model_name": "HTMLModel",
      "state": {
       "layout": "IPY_MODEL_e4d264ef0d62407a8066aad3312a8bb6",
       "style": "IPY_MODEL_c478f597aa6a4c1cafe08bdef51dc6fd",
       "value": "100%"
      }
     },
     "4dc0f3da7ff8466f9b4a380bb7d861b1": {
      "model_module": "@jupyter-widgets/controls",
      "model_module_version": "1.5.0",
      "model_name": "FloatProgressModel",
      "state": {
       "bar_style": "success",
       "layout": "IPY_MODEL_57edc0e33fe94d808a10e6c2ed56f9fd",
       "max": 1735,
       "style": "IPY_MODEL_162b884f9c324fb79c8eacd475332082",
       "value": 1735
      }
     },
     "4e02906cc1874308964ccfd1fb3031f1": {
      "model_module": "@jupyter-widgets/controls",
      "model_module_version": "1.5.0",
      "model_name": "ProgressStyleModel",
      "state": {
       "description_width": ""
      }
     },
     "4e0ccd2b11d840f3a76a727267214a65": {
      "model_module": "@jupyter-widgets/controls",
      "model_module_version": "1.5.0",
      "model_name": "DescriptionStyleModel",
      "state": {
       "description_width": ""
      }
     },
     "4ef790c1a9df45f79ab54bea731e83ac": {
      "model_module": "@jupyter-widgets/controls",
      "model_module_version": "1.5.0",
      "model_name": "DescriptionStyleModel",
      "state": {
       "description_width": ""
      }
     },
     "4fb58d4212174b6c81db8d5ce8bbc577": {
      "model_module": "@jupyter-widgets/controls",
      "model_module_version": "1.5.0",
      "model_name": "DescriptionStyleModel",
      "state": {
       "description_width": ""
      }
     },
     "4fdf078bba9c422e9583dee027066f40": {
      "model_module": "@jupyter-widgets/base",
      "model_module_version": "1.2.0",
      "model_name": "LayoutModel",
      "state": {
       "flex": "2"
      }
     },
     "4ff0ae2b5e7c4315951c120a79a0b608": {
      "model_module": "@jupyter-widgets/controls",
      "model_module_version": "1.5.0",
      "model_name": "HTMLModel",
      "state": {
       "layout": "IPY_MODEL_9b36362c20884c14a323e2631dbacd81",
       "style": "IPY_MODEL_5b9b1b9abf5c49c380bf739ac096421f",
       "value": "100%"
      }
     },
     "50d7eedcd63a4b849024c29afbf31513": {
      "model_module": "@jupyter-widgets/controls",
      "model_module_version": "1.5.0",
      "model_name": "FloatProgressModel",
      "state": {
       "bar_style": "success",
       "layout": "IPY_MODEL_96f17e59bd164d188476e484504892b3",
       "max": 1735,
       "style": "IPY_MODEL_00269e7b76b544ac8afa83c5be1119fd",
       "value": 1735
      }
     },
     "5164a3339e0f41ea8b7673a86a921fc5": {
      "model_module": "@jupyter-widgets/controls",
      "model_module_version": "1.5.0",
      "model_name": "HTMLModel",
      "state": {
       "layout": "IPY_MODEL_7aa1e61d8a5447b095a6ed90be79ecd7",
       "style": "IPY_MODEL_ac79695578b84a59aeeec9a8acb9f123",
       "value": "100%"
      }
     },
     "517623e4e5064db3a9641f0ee8de2452": {
      "model_module": "@jupyter-widgets/controls",
      "model_module_version": "1.5.0",
      "model_name": "DescriptionStyleModel",
      "state": {
       "description_width": ""
      }
     },
     "518eae0a105e40bcb264319432da3223": {
      "model_module": "@jupyter-widgets/controls",
      "model_module_version": "1.5.0",
      "model_name": "DescriptionStyleModel",
      "state": {
       "description_width": ""
      }
     },
     "51b29410a95a4088974b7cb87c2e881a": {
      "model_module": "@jupyter-widgets/controls",
      "model_module_version": "1.5.0",
      "model_name": "ProgressStyleModel",
      "state": {
       "description_width": ""
      }
     },
     "51e9092df32b4a439e4f7b70a9fe60dc": {
      "model_module": "@jupyter-widgets/base",
      "model_module_version": "1.2.0",
      "model_name": "LayoutModel",
      "state": {}
     },
     "51f0fadc2610461b9bbc0adc8f30a358": {
      "model_module": "@jupyter-widgets/controls",
      "model_module_version": "1.5.0",
      "model_name": "ProgressStyleModel",
      "state": {
       "description_width": ""
      }
     },
     "521a579ab6844bccb40038d6af052899": {
      "model_module": "@jupyter-widgets/controls",
      "model_module_version": "1.5.0",
      "model_name": "HTMLModel",
      "state": {
       "layout": "IPY_MODEL_490f3ca893b042d69c2355a6713853e2",
       "style": "IPY_MODEL_b8dff28ac52844ea8a6ce466192c56bd",
       "value": "100%"
      }
     },
     "523f8face8fb4e469c33b51ef849ff33": {
      "model_module": "@jupyter-widgets/controls",
      "model_module_version": "1.5.0",
      "model_name": "DescriptionStyleModel",
      "state": {
       "description_width": ""
      }
     },
     "530ba0ca45d443d19d584ce9e3d32175": {
      "model_module": "@jupyter-widgets/controls",
      "model_module_version": "1.5.0",
      "model_name": "ProgressStyleModel",
      "state": {
       "description_width": ""
      }
     },
     "5356184ffa6348ea865eb81fb27740e3": {
      "model_module": "@jupyter-widgets/controls",
      "model_module_version": "1.5.0",
      "model_name": "HTMLModel",
      "state": {
       "layout": "IPY_MODEL_2955daa250974e40a239930b422a65f7",
       "style": "IPY_MODEL_b9ef8d00ab2f45bf8beff01f3a1b289f",
       "value": " 149.0/149 [00:00&lt;00:00, 216.60it/s]"
      }
     },
     "547b2818ac3c470f901ef084f70248a3": {
      "model_module": "@jupyter-widgets/controls",
      "model_module_version": "1.5.0",
      "model_name": "HBoxModel",
      "state": {
       "children": [
        "IPY_MODEL_2dba8fabb1014f199ecf01d9a0275c6d",
        "IPY_MODEL_6b77669977184b58b1ea02d0cb1279e2",
        "IPY_MODEL_1a83567e84254e78bdfbdfc2bc411b16"
       ],
       "layout": "IPY_MODEL_46d68bc47ecf404aa242a1c099ab3825"
      }
     },
     "54a72eb1c0e143d9a7df6b1b6e0a87b3": {
      "model_module": "@jupyter-widgets/controls",
      "model_module_version": "1.5.0",
      "model_name": "HTMLModel",
      "state": {
       "layout": "IPY_MODEL_fb12748460a7406494b94067b5c72030",
       "style": "IPY_MODEL_6214ce93046d4c57a8fb4e3210aa6de5",
       "value": " 1735.0/1735 [00:00&lt;00:00, 7675.87it/s]"
      }
     },
     "5526bb91c57243d5ade54ddd2713ba3c": {
      "model_module": "@jupyter-widgets/base",
      "model_module_version": "1.2.0",
      "model_name": "LayoutModel",
      "state": {}
     },
     "55dade3e14d74819854b9c54b71b4006": {
      "model_module": "@jupyter-widgets/controls",
      "model_module_version": "1.5.0",
      "model_name": "HBoxModel",
      "state": {
       "children": [
        "IPY_MODEL_6279b522b5ac42e0b8cb51fa11d0d54c",
        "IPY_MODEL_044735cd3c2e438ea5a6906865f3599c",
        "IPY_MODEL_15c954797e1141279ce7577cae8b44d9"
       ],
       "layout": "IPY_MODEL_21c4c670271f483b84bb9be478075252"
      }
     },
     "5612757b6a7940be86839f44ce1fe80d": {
      "model_module": "@jupyter-widgets/controls",
      "model_module_version": "1.5.0",
      "model_name": "FloatProgressModel",
      "state": {
       "bar_style": "success",
       "layout": "IPY_MODEL_44cdf96f416545d59e36706f87fce59b",
       "max": 233,
       "style": "IPY_MODEL_0341da296da8481e99b45e554c0da714",
       "value": 233
      }
     },
     "56ccc05e377742efb7423fe65408527d": {
      "model_module": "@jupyter-widgets/controls",
      "model_module_version": "1.5.0",
      "model_name": "DescriptionStyleModel",
      "state": {
       "description_width": ""
      }
     },
     "5732236887524aa6bbdd69b6ca8de2f7": {
      "model_module": "@jupyter-widgets/controls",
      "model_module_version": "1.5.0",
      "model_name": "HBoxModel",
      "state": {
       "children": [
        "IPY_MODEL_29ff6be58fae437b9e265f68e0813490",
        "IPY_MODEL_0458b58801c446c88fc2187969e25d36",
        "IPY_MODEL_f2471718c19e420c948ffa09c0e9b3ce"
       ],
       "layout": "IPY_MODEL_122a5075f6b0428a8d81d15a4c0ef39e"
      }
     },
     "57695fdd031440a5b139671e4fb1289b": {
      "model_module": "@jupyter-widgets/base",
      "model_module_version": "1.2.0",
      "model_name": "LayoutModel",
      "state": {
       "display": "inline-flex",
       "flex_flow": "row wrap",
       "width": "100%"
      }
     },
     "57ba11415af14bfdb4f502b97549b4ac": {
      "model_module": "@jupyter-widgets/controls",
      "model_module_version": "1.5.0",
      "model_name": "FloatProgressModel",
      "state": {
       "bar_style": "success",
       "layout": "IPY_MODEL_4fdf078bba9c422e9583dee027066f40",
       "max": 964,
       "style": "IPY_MODEL_ee7d5798bbad4d7d818ca11e12b5731c",
       "value": 964
      }
     },
     "57edc0e33fe94d808a10e6c2ed56f9fd": {
      "model_module": "@jupyter-widgets/base",
      "model_module_version": "1.2.0",
      "model_name": "LayoutModel",
      "state": {
       "flex": "2"
      }
     },
     "591c838974444ad88120f44415cb8303": {
      "model_module": "@jupyter-widgets/base",
      "model_module_version": "1.2.0",
      "model_name": "LayoutModel",
      "state": {
       "flex": "2"
      }
     },
     "594a0452f4194b079b6446179b1d3853": {
      "model_module": "@jupyter-widgets/controls",
      "model_module_version": "1.5.0",
      "model_name": "HBoxModel",
      "state": {
       "children": [
        "IPY_MODEL_7bc54e0cc1e7443ba7e6ba38c3b86cea",
        "IPY_MODEL_5612757b6a7940be86839f44ce1fe80d",
        "IPY_MODEL_852441dbd4ef4dd6b12de7ccf0088cf7"
       ],
       "layout": "IPY_MODEL_fc509c5467c54413917c6e689cb4897a"
      }
     },
     "596d9140b40049cd83a568393ed53d55": {
      "model_module": "@jupyter-widgets/base",
      "model_module_version": "1.2.0",
      "model_name": "LayoutModel",
      "state": {
       "flex": "2"
      }
     },
     "5a7bcdb1a5d8491a890074332bad810e": {
      "model_module": "@jupyter-widgets/controls",
      "model_module_version": "1.5.0",
      "model_name": "HTMLModel",
      "state": {
       "layout": "IPY_MODEL_c2f3ef148cdd4cf4adea50ae7f59f641",
       "style": "IPY_MODEL_39ec883cd179468d866de346fa0b7976",
       "value": "100%"
      }
     },
     "5ab8225eb5e343108f79fafa80b6ff58": {
      "model_module": "@jupyter-widgets/base",
      "model_module_version": "1.2.0",
      "model_name": "LayoutModel",
      "state": {}
     },
     "5af3acd43604406aa8a85ecd577ffda5": {
      "model_module": "@jupyter-widgets/controls",
      "model_module_version": "1.5.0",
      "model_name": "DescriptionStyleModel",
      "state": {
       "description_width": ""
      }
     },
     "5b9b1b9abf5c49c380bf739ac096421f": {
      "model_module": "@jupyter-widgets/controls",
      "model_module_version": "1.5.0",
      "model_name": "DescriptionStyleModel",
      "state": {
       "description_width": ""
      }
     },
     "5bef462d91584c79a101f8b3d5c31376": {
      "model_module": "@jupyter-widgets/base",
      "model_module_version": "1.2.0",
      "model_name": "LayoutModel",
      "state": {
       "display": "inline-flex",
       "flex_flow": "row wrap",
       "width": "100%"
      }
     },
     "5bfcb1cf16db4caf97148ce8365c9789": {
      "model_module": "@jupyter-widgets/controls",
      "model_module_version": "1.5.0",
      "model_name": "HTMLModel",
      "state": {
       "layout": "IPY_MODEL_f26a4e21ec7c44b9a32a2b0d6f347e5d",
       "style": "IPY_MODEL_c4ba525b84da4a26b56fd6841590fd08",
       "value": " 1735.0/1735 [00:00&lt;00:00, 1921.53it/s]"
      }
     },
     "5c321c7030b54303bba0322f93a104d5": {
      "model_module": "@jupyter-widgets/controls",
      "model_module_version": "1.5.0",
      "model_name": "ProgressStyleModel",
      "state": {
       "description_width": ""
      }
     },
     "5c90ab239226420899e888a2434a0b85": {
      "model_module": "@jupyter-widgets/base",
      "model_module_version": "1.2.0",
      "model_name": "LayoutModel",
      "state": {
       "display": "inline-flex",
       "flex_flow": "row wrap",
       "width": "100%"
      }
     },
     "5cb4b3a340e54f339c44e6bec0d1550b": {
      "model_module": "@jupyter-widgets/controls",
      "model_module_version": "1.5.0",
      "model_name": "HTMLModel",
      "state": {
       "layout": "IPY_MODEL_4bf21845d791473fbc092d081b9d9134",
       "style": "IPY_MODEL_5af3acd43604406aa8a85ecd577ffda5",
       "value": "100%"
      }
     },
     "5d7ea9aacacf4a129c0e958482a8bab5": {
      "model_module": "@jupyter-widgets/base",
      "model_module_version": "1.2.0",
      "model_name": "LayoutModel",
      "state": {}
     },
     "5db60fe5fb23482eb84d331cfd9255bc": {
      "model_module": "@jupyter-widgets/controls",
      "model_module_version": "1.5.0",
      "model_name": "ProgressStyleModel",
      "state": {
       "description_width": ""
      }
     },
     "5f7adc7a2fc64430ba15cb8b65b34de5": {
      "model_module": "@jupyter-widgets/controls",
      "model_module_version": "1.5.0",
      "model_name": "FloatProgressModel",
      "state": {
       "bar_style": "success",
       "layout": "IPY_MODEL_fbf9626f781a4f29b9d2fb34e8e5aef0",
       "max": 1735,
       "style": "IPY_MODEL_71f7bb0d56fa417383129dc890974e89",
       "value": 1735
      }
     },
     "5fa30f74746b484fbd31d9046aba9f01": {
      "model_module": "@jupyter-widgets/controls",
      "model_module_version": "1.5.0",
      "model_name": "DescriptionStyleModel",
      "state": {
       "description_width": ""
      }
     },
     "60184a129f7d4f30a2990218e30a0329": {
      "model_module": "@jupyter-widgets/base",
      "model_module_version": "1.2.0",
      "model_name": "LayoutModel",
      "state": {
       "flex": "2"
      }
     },
     "6047f5af6a374624b72dea193b32dbae": {
      "model_module": "@jupyter-widgets/controls",
      "model_module_version": "1.5.0",
      "model_name": "DescriptionStyleModel",
      "state": {
       "description_width": ""
      }
     },
     "61d33e5bd6714126a5741a0833dda186": {
      "model_module": "@jupyter-widgets/base",
      "model_module_version": "1.2.0",
      "model_name": "LayoutModel",
      "state": {
       "flex": "2"
      }
     },
     "6214ce93046d4c57a8fb4e3210aa6de5": {
      "model_module": "@jupyter-widgets/controls",
      "model_module_version": "1.5.0",
      "model_name": "DescriptionStyleModel",
      "state": {
       "description_width": ""
      }
     },
     "6279b522b5ac42e0b8cb51fa11d0d54c": {
      "model_module": "@jupyter-widgets/controls",
      "model_module_version": "1.5.0",
      "model_name": "HTMLModel",
      "state": {
       "layout": "IPY_MODEL_034d127b7f874042935a03fa0a2a8581",
       "style": "IPY_MODEL_47bdc359befd4f4aafebf4dec641aa4d",
       "value": "100%"
      }
     },
     "62a62f80371c429fbd2a3d2f17efe9ea": {
      "model_module": "@jupyter-widgets/base",
      "model_module_version": "1.2.0",
      "model_name": "LayoutModel",
      "state": {
       "flex": "2"
      }
     },
     "642b4d8a7a36440c897e61c2a34034c9": {
      "model_module": "@jupyter-widgets/controls",
      "model_module_version": "1.5.0",
      "model_name": "HTMLModel",
      "state": {
       "layout": "IPY_MODEL_5d7ea9aacacf4a129c0e958482a8bab5",
       "style": "IPY_MODEL_91de94673c2b4ac8bef4ce719e64222b",
       "value": "100%"
      }
     },
     "648e45946b044f1ba0087f567015e85a": {
      "model_module": "@jupyter-widgets/base",
      "model_module_version": "1.2.0",
      "model_name": "LayoutModel",
      "state": {
       "flex": "2"
      }
     },
     "658e54b2a0904108a67552bce946c289": {
      "model_module": "@jupyter-widgets/controls",
      "model_module_version": "1.5.0",
      "model_name": "ProgressStyleModel",
      "state": {
       "description_width": ""
      }
     },
     "6598d1c231304142afd3c953bb773b42": {
      "model_module": "@jupyter-widgets/controls",
      "model_module_version": "1.5.0",
      "model_name": "DescriptionStyleModel",
      "state": {
       "description_width": ""
      }
     },
     "667d7f30fbe5423586d7d0adec784263": {
      "model_module": "@jupyter-widgets/controls",
      "model_module_version": "1.5.0",
      "model_name": "HTMLModel",
      "state": {
       "layout": "IPY_MODEL_a4dce5a25b234ed1a013245a2b1ee55b",
       "style": "IPY_MODEL_33865c7c25224180839a58f72f8542b4",
       "value": " 3174.0/3174 [00:03&lt;00:00, 1040.40it/s]"
      }
     },
     "68b2f43b09df45bdb2bc1e939ae54c46": {
      "model_module": "@jupyter-widgets/base",
      "model_module_version": "1.2.0",
      "model_name": "LayoutModel",
      "state": {
       "flex": "2"
      }
     },
     "68d51a4c7fc14bd589027df417ec902a": {
      "model_module": "@jupyter-widgets/base",
      "model_module_version": "1.2.0",
      "model_name": "LayoutModel",
      "state": {
       "flex": "2"
      }
     },
     "68e24e05ded540de8cb3066fb7138648": {
      "model_module": "@jupyter-widgets/base",
      "model_module_version": "1.2.0",
      "model_name": "LayoutModel",
      "state": {
       "flex": "2"
      }
     },
     "6a25c6b071dc42ac8e38f1338f5a4fae": {
      "model_module": "@jupyter-widgets/controls",
      "model_module_version": "1.5.0",
      "model_name": "FloatProgressModel",
      "state": {
       "bar_style": "success",
       "layout": "IPY_MODEL_b418ea9b00ae4b34993f763510f38b88",
       "max": 5976,
       "style": "IPY_MODEL_ff882f4ab3eb4711acce01b6a26d88d4",
       "value": 5976
      }
     },
     "6a6f0da97da44ec69e626af4bdfa1e3a": {
      "model_module": "@jupyter-widgets/base",
      "model_module_version": "1.2.0",
      "model_name": "LayoutModel",
      "state": {}
     },
     "6b77669977184b58b1ea02d0cb1279e2": {
      "model_module": "@jupyter-widgets/controls",
      "model_module_version": "1.5.0",
      "model_name": "FloatProgressModel",
      "state": {
       "bar_style": "success",
       "layout": "IPY_MODEL_41a25f7025124843b68d4a7803cd99fb",
       "max": 4208,
       "style": "IPY_MODEL_13030bcec06b457aad1fa0bec643d43c",
       "value": 4208
      }
     },
     "6b9b3098269642b9885e29496b319892": {
      "model_module": "@jupyter-widgets/base",
      "model_module_version": "1.2.0",
      "model_name": "LayoutModel",
      "state": {
       "display": "inline-flex",
       "flex_flow": "row wrap",
       "width": "100%"
      }
     },
     "6bd22a418469435aacfbf2804a0cf371": {
      "model_module": "@jupyter-widgets/controls",
      "model_module_version": "1.5.0",
      "model_name": "FloatProgressModel",
      "state": {
       "bar_style": "success",
       "layout": "IPY_MODEL_0946854f118a40ed886edd85aaf7f0a6",
       "max": 2652,
       "style": "IPY_MODEL_5c321c7030b54303bba0322f93a104d5",
       "value": 2652
      }
     },
     "6c41d04490c14241a2787db711552774": {
      "model_module": "@jupyter-widgets/controls",
      "model_module_version": "1.5.0",
      "model_name": "ProgressStyleModel",
      "state": {
       "description_width": ""
      }
     },
     "6c9598cc63834ce9b17922be70490dc0": {
      "model_module": "@jupyter-widgets/controls",
      "model_module_version": "1.5.0",
      "model_name": "HTMLModel",
      "state": {
       "layout": "IPY_MODEL_d3ad949c5bca440297a46220c53ed24b",
       "style": "IPY_MODEL_517623e4e5064db3a9641f0ee8de2452",
       "value": " 1604.0/1604 [00:02&lt;00:00, 545.87it/s]"
      }
     },
     "6cf2d234eca24d3fa6d2d8fd7c1c7715": {
      "model_module": "@jupyter-widgets/controls",
      "model_module_version": "1.5.0",
      "model_name": "HTMLModel",
      "state": {
       "layout": "IPY_MODEL_1334001f8021484a8303fe2e800bfdc1",
       "style": "IPY_MODEL_f8ca3844adea40a6a7bd2932ad6e933d",
       "value": "100%"
      }
     },
     "6da11d1977e8441d9c3251313e4c628b": {
      "model_module": "@jupyter-widgets/base",
      "model_module_version": "1.2.0",
      "model_name": "LayoutModel",
      "state": {}
     },
     "6da54d2712714e65a252c64d5cec8c9a": {
      "model_module": "@jupyter-widgets/base",
      "model_module_version": "1.2.0",
      "model_name": "LayoutModel",
      "state": {
       "flex": "2"
      }
     },
     "6de894665d054bea8ce7e2f1f95b864b": {
      "model_module": "@jupyter-widgets/controls",
      "model_module_version": "1.5.0",
      "model_name": "DescriptionStyleModel",
      "state": {
       "description_width": ""
      }
     },
     "6e4ad3c8ef6a475fa7cf9b41d28bd2e1": {
      "model_module": "@jupyter-widgets/base",
      "model_module_version": "1.2.0",
      "model_name": "LayoutModel",
      "state": {
       "flex": "2"
      }
     },
     "6e79a5ae890649a6aeb9d0be44ae9897": {
      "model_module": "@jupyter-widgets/controls",
      "model_module_version": "1.5.0",
      "model_name": "HBoxModel",
      "state": {
       "children": [
        "IPY_MODEL_955e3415b0cc4113b632efb0feefc43f",
        "IPY_MODEL_161de5f01ae9495ba09b7e1dbabc6dfe",
        "IPY_MODEL_ef6741cd605f4cf098646161deb8316d"
       ],
       "layout": "IPY_MODEL_9886e3dec95c4590a36d2bc232342842"
      }
     },
     "6eca183192224381924fbdda03410609": {
      "model_module": "@jupyter-widgets/base",
      "model_module_version": "1.2.0",
      "model_name": "LayoutModel",
      "state": {}
     },
     "6f033b5511a54834a2be007179e2a2cb": {
      "model_module": "@jupyter-widgets/controls",
      "model_module_version": "1.5.0",
      "model_name": "HTMLModel",
      "state": {
       "layout": "IPY_MODEL_6eca183192224381924fbdda03410609",
       "style": "IPY_MODEL_523f8face8fb4e469c33b51ef849ff33",
       "value": "100%"
      }
     },
     "6fd08a2b418b4223aa8d83cd13083aac": {
      "model_module": "@jupyter-widgets/base",
      "model_module_version": "1.2.0",
      "model_name": "LayoutModel",
      "state": {}
     },
     "707e079d16f94c24bc2e89e23cd0821b": {
      "model_module": "@jupyter-widgets/base",
      "model_module_version": "1.2.0",
      "model_name": "LayoutModel",
      "state": {
       "flex": "2"
      }
     },
     "709306b71fa6448bae32903a9562af98": {
      "model_module": "@jupyter-widgets/controls",
      "model_module_version": "1.5.0",
      "model_name": "HBoxModel",
      "state": {
       "children": [
        "IPY_MODEL_4a896f0fe8574fd5b3574a1d417a6ad4",
        "IPY_MODEL_b93dcc6f9b83420ea343073dd79b460c",
        "IPY_MODEL_a38f35e10cac49fc9ab1932d0da1310f"
       ],
       "layout": "IPY_MODEL_4b8177fb74474cf5b38b5a2c274994d5"
      }
     },
     "7109db0a6d074d648edc1516bce52db0": {
      "model_module": "@jupyter-widgets/base",
      "model_module_version": "1.2.0",
      "model_name": "LayoutModel",
      "state": {
       "display": "inline-flex",
       "flex_flow": "row wrap",
       "width": "100%"
      }
     },
     "718bbd574c8d49db80f723f53d61750a": {
      "model_module": "@jupyter-widgets/controls",
      "model_module_version": "1.5.0",
      "model_name": "HBoxModel",
      "state": {
       "children": [
        "IPY_MODEL_3f0f717bbf554745b8fb420c22ffff0c",
        "IPY_MODEL_bf2ee770eac14749b07dd485962439d8",
        "IPY_MODEL_78bd1ae96a2e43c0bb31eb35f7304959"
       ],
       "layout": "IPY_MODEL_e789352560b841459a9aeedb134d73ed"
      }
     },
     "71d4ec14206e406eae9ee6de1e097f51": {
      "model_module": "@jupyter-widgets/controls",
      "model_module_version": "1.5.0",
      "model_name": "HTMLModel",
      "state": {
       "layout": "IPY_MODEL_ed1f2c8ee9ba4a2aa37e4871b8096454",
       "style": "IPY_MODEL_6047f5af6a374624b72dea193b32dbae",
       "value": "100%"
      }
     },
     "71e86373f13c47d695c26a5e5b717d7c": {
      "model_module": "@jupyter-widgets/base",
      "model_module_version": "1.2.0",
      "model_name": "LayoutModel",
      "state": {
       "display": "inline-flex",
       "flex_flow": "row wrap",
       "width": "100%"
      }
     },
     "71f7bb0d56fa417383129dc890974e89": {
      "model_module": "@jupyter-widgets/controls",
      "model_module_version": "1.5.0",
      "model_name": "ProgressStyleModel",
      "state": {
       "description_width": ""
      }
     },
     "724cd33a674d462b9196ca872b6a7442": {
      "model_module": "@jupyter-widgets/controls",
      "model_module_version": "1.5.0",
      "model_name": "HTMLModel",
      "state": {
       "layout": "IPY_MODEL_16e92e44d5e948fa9a496caecf88ab65",
       "style": "IPY_MODEL_00dfa50be2444a40b8daddb6c51d155a",
       "value": " 4208.0/4208 [00:03&lt;00:00, 1001.76it/s]"
      }
     },
     "725efbfbdb3c4294b6edab84c8998e3e": {
      "model_module": "@jupyter-widgets/controls",
      "model_module_version": "1.5.0",
      "model_name": "HTMLModel",
      "state": {
       "layout": "IPY_MODEL_73511fda775745f2ae2d3c99ed2e5ef9",
       "style": "IPY_MODEL_4bd034f1b0ad4a34af4aae6ea67e13fe",
       "value": " 2732.0/2732 [00:02&lt;00:00, 1131.11it/s]"
      }
     },
     "72627f9c1b684e73bb158ed77a0587de": {
      "model_module": "@jupyter-widgets/controls",
      "model_module_version": "1.5.0",
      "model_name": "HTMLModel",
      "state": {
       "layout": "IPY_MODEL_cf27198fdc9742789ce6cbadcd60fe1a",
       "style": "IPY_MODEL_0a338fb8a097408bb9880f4d114a4c6b",
       "value": " 2414.0/2414 [00:00&lt;00:00, 3413.22it/s]"
      }
     },
     "7300ad9b8b0a40b0abfba0d4ee076faf": {
      "model_module": "@jupyter-widgets/controls",
      "model_module_version": "1.5.0",
      "model_name": "FloatProgressModel",
      "state": {
       "bar_style": "success",
       "layout": "IPY_MODEL_8ed8a4bebb734b558fa85a8c301af6d9",
       "max": 1735,
       "style": "IPY_MODEL_3b55bfa3c23248249283ef02ebde7b8a",
       "value": 1735
      }
     },
     "73511fda775745f2ae2d3c99ed2e5ef9": {
      "model_module": "@jupyter-widgets/base",
      "model_module_version": "1.2.0",
      "model_name": "LayoutModel",
      "state": {}
     },
     "7481d1724aea428bba832a27b43f9754": {
      "model_module": "@jupyter-widgets/base",
      "model_module_version": "1.2.0",
      "model_name": "LayoutModel",
      "state": {}
     },
     "75ba9c5a72b6423a8e7cd6a2157c5503": {
      "model_module": "@jupyter-widgets/controls",
      "model_module_version": "1.5.0",
      "model_name": "FloatProgressModel",
      "state": {
       "bar_style": "success",
       "layout": "IPY_MODEL_e204129165f2479c9a8424a2f7f5d0ed",
       "max": 149,
       "style": "IPY_MODEL_658e54b2a0904108a67552bce946c289",
       "value": 149
      }
     },
     "75d357c835c0454e91f128f23cd98985": {
      "model_module": "@jupyter-widgets/controls",
      "model_module_version": "1.5.0",
      "model_name": "FloatProgressModel",
      "state": {
       "bar_style": "success",
       "layout": "IPY_MODEL_d73fac9d143e43d6ae15980a98081b38",
       "max": 3406,
       "style": "IPY_MODEL_f11b47ca857546bc9ca24e7a78e1b6cf",
       "value": 3406
      }
     },
     "761707113ffc4f59a640757fcb91b349": {
      "model_module": "@jupyter-widgets/base",
      "model_module_version": "1.2.0",
      "model_name": "LayoutModel",
      "state": {}
     },
     "763d953f6d1744f0a4cb5f13014309fe": {
      "model_module": "@jupyter-widgets/controls",
      "model_module_version": "1.5.0",
      "model_name": "HTMLModel",
      "state": {
       "layout": "IPY_MODEL_e8b9d82937864d7f9ce68e746371dd8e",
       "style": "IPY_MODEL_dbda01af7f374bc2805c0af18b0853bb",
       "value": " 554.0/554 [00:00&lt;00:00, 767.76it/s]"
      }
     },
     "764f28c8a3cc4b47bf9c041743152ac4": {
      "model_module": "@jupyter-widgets/controls",
      "model_module_version": "1.5.0",
      "model_name": "FloatProgressModel",
      "state": {
       "bar_style": "success",
       "layout": "IPY_MODEL_60184a129f7d4f30a2990218e30a0329",
       "max": 1735,
       "style": "IPY_MODEL_bfb2c04bf99c492c99cd823914206424",
       "value": 1735
      }
     },
     "76a0438ff22f4f55b6add49e0f3c4741": {
      "model_module": "@jupyter-widgets/controls",
      "model_module_version": "1.5.0",
      "model_name": "HTMLModel",
      "state": {
       "layout": "IPY_MODEL_a579bbfdf5404061bed2af530852932c",
       "style": "IPY_MODEL_475cee62efd04a369f5bbb88e1dd3fdc",
       "value": "100%"
      }
     },
     "76cc26eda18a4368b858e4d7d0c03003": {
      "model_module": "@jupyter-widgets/controls",
      "model_module_version": "1.5.0",
      "model_name": "DescriptionStyleModel",
      "state": {
       "description_width": ""
      }
     },
     "772564d231ac42c3a842fefc2ebe9a08": {
      "model_module": "@jupyter-widgets/controls",
      "model_module_version": "1.5.0",
      "model_name": "HTMLModel",
      "state": {
       "layout": "IPY_MODEL_1edda7e89adf4b5f95df988728398b26",
       "style": "IPY_MODEL_a5a93d17693140f0a0eb5c542cbc2d73",
       "value": " 489.0/489 [00:00&lt;00:00, 618.02it/s]"
      }
     },
     "7753be3ba8ba4170ab3c73cd9905e506": {
      "model_module": "@jupyter-widgets/controls",
      "model_module_version": "1.5.0",
      "model_name": "HTMLModel",
      "state": {
       "layout": "IPY_MODEL_c171c23b8909466f8ea931fa4d430bd4",
       "style": "IPY_MODEL_1c9a23d11e9c4c11936ea0b9ca53e8cf",
       "value": " 366.0/366 [00:00&lt;00:00, 527.24it/s]"
      }
     },
     "7789fca6285348808b5fe0f223519538": {
      "model_module": "@jupyter-widgets/base",
      "model_module_version": "1.2.0",
      "model_name": "LayoutModel",
      "state": {}
     },
     "78bd1ae96a2e43c0bb31eb35f7304959": {
      "model_module": "@jupyter-widgets/controls",
      "model_module_version": "1.5.0",
      "model_name": "HTMLModel",
      "state": {
       "layout": "IPY_MODEL_34af0821a24341dbbd0d5aaf8950b088",
       "style": "IPY_MODEL_ccfd1714481d465b8fcefd6e3b373dd0",
       "value": " 1604.0/1604 [00:01&lt;00:00, 1106.49it/s]"
      }
     },
     "7aa1e61d8a5447b095a6ed90be79ecd7": {
      "model_module": "@jupyter-widgets/base",
      "model_module_version": "1.2.0",
      "model_name": "LayoutModel",
      "state": {}
     },
     "7b07b4cdafde412c8c6868fdbd5f32e5": {
      "model_module": "@jupyter-widgets/base",
      "model_module_version": "1.2.0",
      "model_name": "LayoutModel",
      "state": {}
     },
     "7b4d0dcadf1b409cb432b71378ec6972": {
      "model_module": "@jupyter-widgets/controls",
      "model_module_version": "1.5.0",
      "model_name": "DescriptionStyleModel",
      "state": {
       "description_width": ""
      }
     },
     "7bc54e0cc1e7443ba7e6ba38c3b86cea": {
      "model_module": "@jupyter-widgets/controls",
      "model_module_version": "1.5.0",
      "model_name": "HTMLModel",
      "state": {
       "layout": "IPY_MODEL_4b52dc6cc1284ad394e5ee551f456a3c",
       "style": "IPY_MODEL_7fea17244ebf476094337f013475d420",
       "value": "100%"
      }
     },
     "7d07bead349b4570bf9cb95f619c75f6": {
      "model_module": "@jupyter-widgets/controls",
      "model_module_version": "1.5.0",
      "model_name": "HTMLModel",
      "state": {
       "layout": "IPY_MODEL_3dbcf71985134211b73c53f628869b99",
       "style": "IPY_MODEL_518eae0a105e40bcb264319432da3223",
       "value": "100%"
      }
     },
     "7d5b243505554c1592c9f62bf402951f": {
      "model_module": "@jupyter-widgets/controls",
      "model_module_version": "1.5.0",
      "model_name": "HTMLModel",
      "state": {
       "layout": "IPY_MODEL_ff248bf25e004ee39462bb6bd5bd9f0e",
       "style": "IPY_MODEL_4ef790c1a9df45f79ab54bea731e83ac",
       "value": "100%"
      }
     },
     "7e523e57e10b4b95b828976e2d4a16e2": {
      "model_module": "@jupyter-widgets/controls",
      "model_module_version": "1.5.0",
      "model_name": "HTMLModel",
      "state": {
       "layout": "IPY_MODEL_95bc001cd5ec43cca1f829c643f32270",
       "style": "IPY_MODEL_87f044bbb5354f4da4b311c1a5916e81",
       "value": " 1735.0/1735 [00:00&lt;00:00, 21423.83it/s]"
      }
     },
     "7e5f3a7ae9c6498d878bcf5144aecb18": {
      "model_module": "@jupyter-widgets/controls",
      "model_module_version": "1.5.0",
      "model_name": "DescriptionStyleModel",
      "state": {
       "description_width": ""
      }
     },
     "7e8498848dce47c880aa7923423e40c0": {
      "model_module": "@jupyter-widgets/controls",
      "model_module_version": "1.5.0",
      "model_name": "DescriptionStyleModel",
      "state": {
       "description_width": ""
      }
     },
     "7ea6614a2f924dc4b03fd1cc6aa8e2ec": {
      "model_module": "@jupyter-widgets/controls",
      "model_module_version": "1.5.0",
      "model_name": "FloatProgressModel",
      "state": {
       "bar_style": "success",
       "layout": "IPY_MODEL_648e45946b044f1ba0087f567015e85a",
       "max": 1735,
       "style": "IPY_MODEL_6c41d04490c14241a2787db711552774",
       "value": 1735
      }
     },
     "7fa67e0942914c1895ac9b2e48cde1bc": {
      "model_module": "@jupyter-widgets/controls",
      "model_module_version": "1.5.0",
      "model_name": "ProgressStyleModel",
      "state": {
       "description_width": ""
      }
     },
     "7fea17244ebf476094337f013475d420": {
      "model_module": "@jupyter-widgets/controls",
      "model_module_version": "1.5.0",
      "model_name": "DescriptionStyleModel",
      "state": {
       "description_width": ""
      }
     },
     "80bbebdbf2be4abb92617da895271f00": {
      "model_module": "@jupyter-widgets/controls",
      "model_module_version": "1.5.0",
      "model_name": "DescriptionStyleModel",
      "state": {
       "description_width": ""
      }
     },
     "80d42b581af249769dde6cbfb3c16bb8": {
      "model_module": "@jupyter-widgets/base",
      "model_module_version": "1.2.0",
      "model_name": "LayoutModel",
      "state": {
       "display": "inline-flex",
       "flex_flow": "row wrap",
       "width": "100%"
      }
     },
     "82d1782b7b8b4e6ba8e7adbaec3d65b1": {
      "model_module": "@jupyter-widgets/controls",
      "model_module_version": "1.5.0",
      "model_name": "ProgressStyleModel",
      "state": {
       "description_width": ""
      }
     },
     "835644eafdaf425d88632747701ecba5": {
      "model_module": "@jupyter-widgets/base",
      "model_module_version": "1.2.0",
      "model_name": "LayoutModel",
      "state": {
       "flex": "2"
      }
     },
     "844f84c312e642708bd71412e202b1f5": {
      "model_module": "@jupyter-widgets/base",
      "model_module_version": "1.2.0",
      "model_name": "LayoutModel",
      "state": {}
     },
     "84e32fdef1094712874d4eed7b8531cf": {
      "model_module": "@jupyter-widgets/base",
      "model_module_version": "1.2.0",
      "model_name": "LayoutModel",
      "state": {}
     },
     "852441dbd4ef4dd6b12de7ccf0088cf7": {
      "model_module": "@jupyter-widgets/controls",
      "model_module_version": "1.5.0",
      "model_name": "HTMLModel",
      "state": {
       "layout": "IPY_MODEL_d4424e26d9564e7484a1d83c633d66f8",
       "style": "IPY_MODEL_d12dae56d2834bdba43cfde7c7acbcfb",
       "value": " 233.0/233 [00:00&lt;00:00, 326.92it/s]"
      }
     },
     "862209f531ba4e5b978d19988a5c01f1": {
      "model_module": "@jupyter-widgets/base",
      "model_module_version": "1.2.0",
      "model_name": "LayoutModel",
      "state": {
       "display": "inline-flex",
       "flex_flow": "row wrap",
       "width": "100%"
      }
     },
     "86cb43e2008f42fcab19867ed48d01be": {
      "model_module": "@jupyter-widgets/controls",
      "model_module_version": "1.5.0",
      "model_name": "FloatProgressModel",
      "state": {
       "bar_style": "success",
       "layout": "IPY_MODEL_d978a7a24d784f8c9759d2283e631aa8",
       "max": 1735,
       "style": "IPY_MODEL_b71750b15d464da6867a681832794b5f",
       "value": 1735
      }
     },
     "87249cc1f5074d0c8f18a07ab037de02": {
      "model_module": "@jupyter-widgets/base",
      "model_module_version": "1.2.0",
      "model_name": "LayoutModel",
      "state": {
       "flex": "2"
      }
     },
     "874bb3b93e9f4e9297cf0b079f6f8d0f": {
      "model_module": "@jupyter-widgets/base",
      "model_module_version": "1.2.0",
      "model_name": "LayoutModel",
      "state": {
       "flex": "2"
      }
     },
     "87f044bbb5354f4da4b311c1a5916e81": {
      "model_module": "@jupyter-widgets/controls",
      "model_module_version": "1.5.0",
      "model_name": "DescriptionStyleModel",
      "state": {
       "description_width": ""
      }
     },
     "884eeb3a03b441e999ce67cdffd271ad": {
      "model_module": "@jupyter-widgets/controls",
      "model_module_version": "1.5.0",
      "model_name": "DescriptionStyleModel",
      "state": {
       "description_width": ""
      }
     },
     "892661dd0cb84b99a2bcf8f341c8db5d": {
      "model_module": "@jupyter-widgets/controls",
      "model_module_version": "1.5.0",
      "model_name": "FloatProgressModel",
      "state": {
       "bar_style": "success",
       "layout": "IPY_MODEL_707e079d16f94c24bc2e89e23cd0821b",
       "max": 1735,
       "style": "IPY_MODEL_a2a2379c053546ce9c76998f96fa7b78",
       "value": 1735
      }
     },
     "8a0a8137ac054ce6b7fdbfb9be93518b": {
      "model_module": "@jupyter-widgets/controls",
      "model_module_version": "1.5.0",
      "model_name": "ProgressStyleModel",
      "state": {
       "description_width": ""
      }
     },
     "8a2fa7a60969482c8800876095656dcf": {
      "model_module": "@jupyter-widgets/controls",
      "model_module_version": "1.5.0",
      "model_name": "DescriptionStyleModel",
      "state": {
       "description_width": ""
      }
     },
     "8a5bc257ca764457989e7ee24f3568d2": {
      "model_module": "@jupyter-widgets/controls",
      "model_module_version": "1.5.0",
      "model_name": "HTMLModel",
      "state": {
       "layout": "IPY_MODEL_a85b619675d14f7f9c29609fb2ad2357",
       "style": "IPY_MODEL_c5b48218a3f34fdf852f55b8e01f86c2",
       "value": " 71.0/71 [00:00&lt;00:00, 102.36it/s]"
      }
     },
     "8b01abd590654b8ebb449ad30ad9d96c": {
      "model_module": "@jupyter-widgets/controls",
      "model_module_version": "1.5.0",
      "model_name": "DescriptionStyleModel",
      "state": {
       "description_width": ""
      }
     },
     "8b6955edb2df4347ba2901f1088537ff": {
      "model_module": "@jupyter-widgets/controls",
      "model_module_version": "1.5.0",
      "model_name": "ProgressStyleModel",
      "state": {
       "description_width": ""
      }
     },
     "8ba23d57745247c1bfaebd9128736c21": {
      "model_module": "@jupyter-widgets/controls",
      "model_module_version": "1.5.0",
      "model_name": "ProgressStyleModel",
      "state": {
       "description_width": ""
      }
     },
     "8d1078c0e1bc4ad293560f48466c5561": {
      "model_module": "@jupyter-widgets/base",
      "model_module_version": "1.2.0",
      "model_name": "LayoutModel",
      "state": {
       "display": "inline-flex",
       "flex_flow": "row wrap",
       "width": "100%"
      }
     },
     "8d69de47458d4956a78d45a146d47e68": {
      "model_module": "@jupyter-widgets/controls",
      "model_module_version": "1.5.0",
      "model_name": "ProgressStyleModel",
      "state": {
       "description_width": ""
      }
     },
     "8d6bebbc5dda43a3b15372836439eb14": {
      "model_module": "@jupyter-widgets/base",
      "model_module_version": "1.2.0",
      "model_name": "LayoutModel",
      "state": {}
     },
     "8ed8a4bebb734b558fa85a8c301af6d9": {
      "model_module": "@jupyter-widgets/base",
      "model_module_version": "1.2.0",
      "model_name": "LayoutModel",
      "state": {
       "flex": "2"
      }
     },
     "8f1baf3b5b6e4e7b8419b3d5c4131a30": {
      "model_module": "@jupyter-widgets/controls",
      "model_module_version": "1.5.0",
      "model_name": "HBoxModel",
      "state": {
       "children": [
        "IPY_MODEL_521a579ab6844bccb40038d6af052899",
        "IPY_MODEL_15160e280b91499783f15b6b3c7f18e4",
        "IPY_MODEL_7753be3ba8ba4170ab3c73cd9905e506"
       ],
       "layout": "IPY_MODEL_7109db0a6d074d648edc1516bce52db0"
      }
     },
     "8f42996da18741f7b98f331c6c46694e": {
      "model_module": "@jupyter-widgets/controls",
      "model_module_version": "1.5.0",
      "model_name": "HTMLModel",
      "state": {
       "layout": "IPY_MODEL_2d52b55ab9504f03babaa0de4739268c",
       "style": "IPY_MODEL_56ccc05e377742efb7423fe65408527d",
       "value": " 1735.0/1735 [00:00&lt;00:00, 22879.05it/s]"
      }
     },
     "8f52f73c48aa48b89186c8c15239d65d": {
      "model_module": "@jupyter-widgets/base",
      "model_module_version": "1.2.0",
      "model_name": "LayoutModel",
      "state": {
       "flex": "2"
      }
     },
     "8f92e44be61840d4a955cefcb29c6ab7": {
      "model_module": "@jupyter-widgets/controls",
      "model_module_version": "1.5.0",
      "model_name": "HTMLModel",
      "state": {
       "layout": "IPY_MODEL_84e32fdef1094712874d4eed7b8531cf",
       "style": "IPY_MODEL_c67475ecf53741f5bcb1fef7d436a95b",
       "value": "100%"
      }
     },
     "8fa20477e19e432e9cea5b78652afe69": {
      "model_module": "@jupyter-widgets/controls",
      "model_module_version": "1.5.0",
      "model_name": "HBoxModel",
      "state": {
       "children": [
        "IPY_MODEL_c300b68dcbb74594b870b13eb070e1d8",
        "IPY_MODEL_764f28c8a3cc4b47bf9c041743152ac4",
        "IPY_MODEL_54a72eb1c0e143d9a7df6b1b6e0a87b3"
       ],
       "layout": "IPY_MODEL_5c90ab239226420899e888a2434a0b85"
      }
     },
     "9013115d200f4185992c7ed281cbe7fd": {
      "model_module": "@jupyter-widgets/controls",
      "model_module_version": "1.5.0",
      "model_name": "FloatProgressModel",
      "state": {
       "bar_style": "success",
       "layout": "IPY_MODEL_fd58bb2b4000482f96e971b388a8997b",
       "max": 1735,
       "style": "IPY_MODEL_8a0a8137ac054ce6b7fdbfb9be93518b",
       "value": 1735
      }
     },
     "904281035c0c4cdca9729de29117cb36": {
      "model_module": "@jupyter-widgets/controls",
      "model_module_version": "1.5.0",
      "model_name": "ProgressStyleModel",
      "state": {
       "description_width": ""
      }
     },
     "91937b5fbbf14eb98e394c2efd77f88a": {
      "model_module": "@jupyter-widgets/controls",
      "model_module_version": "1.5.0",
      "model_name": "FloatProgressModel",
      "state": {
       "bar_style": "success",
       "layout": "IPY_MODEL_61d33e5bd6714126a5741a0833dda186",
       "max": 3766,
       "style": "IPY_MODEL_aa475dc8e4b34e41bc0a7f5df19314f4",
       "value": 3766
      }
     },
     "91dc3abeeb844b2b8d64e3ba496feca5": {
      "model_module": "@jupyter-widgets/controls",
      "model_module_version": "1.5.0",
      "model_name": "HTMLModel",
      "state": {
       "layout": "IPY_MODEL_24fc4812deab4099a57118afe63cad8e",
       "style": "IPY_MODEL_76cc26eda18a4368b858e4d7d0c03003",
       "value": " 3766.0/3766 [00:03&lt;00:00, 1024.28it/s]"
      }
     },
     "91de94673c2b4ac8bef4ce719e64222b": {
      "model_module": "@jupyter-widgets/controls",
      "model_module_version": "1.5.0",
      "model_name": "DescriptionStyleModel",
      "state": {
       "description_width": ""
      }
     },
     "922f7ac320ed4601bbc1e13b72c41106": {
      "model_module": "@jupyter-widgets/controls",
      "model_module_version": "1.5.0",
      "model_name": "HTMLModel",
      "state": {
       "layout": "IPY_MODEL_056977a5d5e646728dae94e68f6c5b1d",
       "style": "IPY_MODEL_a4bcff4957dd49e89046056901c5eacd",
       "value": "100%"
      }
     },
     "926225a217ac43558aba672c92fa638f": {
      "model_module": "@jupyter-widgets/base",
      "model_module_version": "1.2.0",
      "model_name": "LayoutModel",
      "state": {}
     },
     "93a4a518fff747289d9ebe145d0b5012": {
      "model_module": "@jupyter-widgets/base",
      "model_module_version": "1.2.0",
      "model_name": "LayoutModel",
      "state": {
       "flex": "2"
      }
     },
     "94dad86e344f4db7882acd35278cb09a": {
      "model_module": "@jupyter-widgets/controls",
      "model_module_version": "1.5.0",
      "model_name": "HTMLModel",
      "state": {
       "layout": "IPY_MODEL_022c8b55c8d24bd282c4efb5b1b94073",
       "style": "IPY_MODEL_dd76f7b66f8441e181ce06d7569ccf20",
       "value": "100%"
      }
     },
     "952ac3078e9143f7b63def8d62a10f16": {
      "model_module": "@jupyter-widgets/controls",
      "model_module_version": "1.5.0",
      "model_name": "ProgressStyleModel",
      "state": {
       "description_width": ""
      }
     },
     "955e3415b0cc4113b632efb0feefc43f": {
      "model_module": "@jupyter-widgets/controls",
      "model_module_version": "1.5.0",
      "model_name": "HTMLModel",
      "state": {
       "layout": "IPY_MODEL_1875bcc616c341a78760927ddd7fa906",
       "style": "IPY_MODEL_495bf400d42643f6a4703882e2da5797",
       "value": "100%"
      }
     },
     "95648d2f04f74a27bc621960d4079fed": {
      "model_module": "@jupyter-widgets/base",
      "model_module_version": "1.2.0",
      "model_name": "LayoutModel",
      "state": {}
     },
     "9595493c29fb429298a3afbffb704dc9": {
      "model_module": "@jupyter-widgets/controls",
      "model_module_version": "1.5.0",
      "model_name": "DescriptionStyleModel",
      "state": {
       "description_width": ""
      }
     },
     "95bc001cd5ec43cca1f829c643f32270": {
      "model_module": "@jupyter-widgets/base",
      "model_module_version": "1.2.0",
      "model_name": "LayoutModel",
      "state": {}
     },
     "96832e62636546d1ae970d4abbdcb6aa": {
      "model_module": "@jupyter-widgets/base",
      "model_module_version": "1.2.0",
      "model_name": "LayoutModel",
      "state": {
       "flex": "2"
      }
     },
     "96caa4d2598a49fa8e0f5d9d544fbd7b": {
      "model_module": "@jupyter-widgets/base",
      "model_module_version": "1.2.0",
      "model_name": "LayoutModel",
      "state": {
       "display": "inline-flex",
       "flex_flow": "row wrap",
       "width": "100%"
      }
     },
     "96f17e59bd164d188476e484504892b3": {
      "model_module": "@jupyter-widgets/base",
      "model_module_version": "1.2.0",
      "model_name": "LayoutModel",
      "state": {
       "flex": "2"
      }
     },
     "98313b8f1836486497e035d230a91070": {
      "model_module": "@jupyter-widgets/controls",
      "model_module_version": "1.5.0",
      "model_name": "FloatProgressModel",
      "state": {
       "bar_style": "success",
       "layout": "IPY_MODEL_874bb3b93e9f4e9297cf0b079f6f8d0f",
       "max": 1735,
       "style": "IPY_MODEL_2a1c0770b0c64663b88dfea0189bca6f",
       "value": 1735
      }
     },
     "988001b1495f4452aeea8a34a774ae9a": {
      "model_module": "@jupyter-widgets/base",
      "model_module_version": "1.2.0",
      "model_name": "LayoutModel",
      "state": {
       "display": "inline-flex",
       "flex_flow": "row wrap",
       "width": "100%"
      }
     },
     "9886e3dec95c4590a36d2bc232342842": {
      "model_module": "@jupyter-widgets/base",
      "model_module_version": "1.2.0",
      "model_name": "LayoutModel",
      "state": {
       "display": "inline-flex",
       "flex_flow": "row wrap",
       "width": "100%"
      }
     },
     "99a167defd3242f7b99615e8111e916b": {
      "model_module": "@jupyter-widgets/controls",
      "model_module_version": "1.5.0",
      "model_name": "HTMLModel",
      "state": {
       "layout": "IPY_MODEL_4a00c9f3ead043c38bc92fc1804c4b0d",
       "style": "IPY_MODEL_9b3d4f9c7a8748849b79f518b82f13e9",
       "value": "100%"
      }
     },
     "9a0f4166b2934a7e8307571daa0ba8bd": {
      "model_module": "@jupyter-widgets/controls",
      "model_module_version": "1.5.0",
      "model_name": "FloatProgressModel",
      "state": {
       "bar_style": "success",
       "layout": "IPY_MODEL_02c76d6b6558401d914b7c539c70ba89",
       "max": 3174,
       "style": "IPY_MODEL_8ba23d57745247c1bfaebd9128736c21",
       "value": 3174
      }
     },
     "9b36362c20884c14a323e2631dbacd81": {
      "model_module": "@jupyter-widgets/base",
      "model_module_version": "1.2.0",
      "model_name": "LayoutModel",
      "state": {}
     },
     "9b3d4f9c7a8748849b79f518b82f13e9": {
      "model_module": "@jupyter-widgets/controls",
      "model_module_version": "1.5.0",
      "model_name": "DescriptionStyleModel",
      "state": {
       "description_width": ""
      }
     },
     "9b55c96244a64d65a671d80e95b8d14e": {
      "model_module": "@jupyter-widgets/controls",
      "model_module_version": "1.5.0",
      "model_name": "HTMLModel",
      "state": {
       "layout": "IPY_MODEL_a8dde7f2e2cf454e8ff5f52d5ebd293d",
       "style": "IPY_MODEL_13e1ef91435840ba88f1cf5f2a652e25",
       "value": "100%"
      }
     },
     "9bf8361f610d42a5a153b0258152dbb6": {
      "model_module": "@jupyter-widgets/controls",
      "model_module_version": "1.5.0",
      "model_name": "HBoxModel",
      "state": {
       "children": [
        "IPY_MODEL_642b4d8a7a36440c897e61c2a34034c9",
        "IPY_MODEL_12a1431fe19a419d8f8231d793a478c5",
        "IPY_MODEL_724cd33a674d462b9196ca872b6a7442"
       ],
       "layout": "IPY_MODEL_a67865cf85224c5e8a099fcaf0457556"
      }
     },
     "9c2f7c32a360472399d2b9f67ef0457d": {
      "model_module": "@jupyter-widgets/base",
      "model_module_version": "1.2.0",
      "model_name": "LayoutModel",
      "state": {
       "flex": "2"
      }
     },
     "9d4995b5bfd34e54b49e6685cc2ed1dd": {
      "model_module": "@jupyter-widgets/controls",
      "model_module_version": "1.5.0",
      "model_name": "DescriptionStyleModel",
      "state": {
       "description_width": ""
      }
     },
     "9e8f6d63370046ecab1c284664afdf96": {
      "model_module": "@jupyter-widgets/controls",
      "model_module_version": "1.5.0",
      "model_name": "DescriptionStyleModel",
      "state": {
       "description_width": ""
      }
     },
     "9ea1dc1e959d4f33a2dcee5d9e70c967": {
      "model_module": "@jupyter-widgets/controls",
      "model_module_version": "1.5.0",
      "model_name": "DescriptionStyleModel",
      "state": {
       "description_width": ""
      }
     },
     "9ea3c021973e4f11bd71551b9ecc7385": {
      "model_module": "@jupyter-widgets/controls",
      "model_module_version": "1.5.0",
      "model_name": "HTMLModel",
      "state": {
       "layout": "IPY_MODEL_0f186ce587c04d6a99db45c996daf8b8",
       "style": "IPY_MODEL_7e5f3a7ae9c6498d878bcf5144aecb18",
       "value": "100%"
      }
     },
     "a024bb161dc941b198a2bb9833d9b003": {
      "model_module": "@jupyter-widgets/controls",
      "model_module_version": "1.5.0",
      "model_name": "DescriptionStyleModel",
      "state": {
       "description_width": ""
      }
     },
     "a092398cd6e545e4abb37ef93aa27929": {
      "model_module": "@jupyter-widgets/controls",
      "model_module_version": "1.5.0",
      "model_name": "DescriptionStyleModel",
      "state": {
       "description_width": ""
      }
     },
     "a0db331ddbea4929982aad4c3103b437": {
      "model_module": "@jupyter-widgets/controls",
      "model_module_version": "1.5.0",
      "model_name": "HTMLModel",
      "state": {
       "layout": "IPY_MODEL_761707113ffc4f59a640757fcb91b349",
       "style": "IPY_MODEL_3538073b793a456890d8cad482395fc5",
       "value": "100%"
      }
     },
     "a1350ebdd0ae4df9836ed9472697dd2a": {
      "model_module": "@jupyter-widgets/base",
      "model_module_version": "1.2.0",
      "model_name": "LayoutModel",
      "state": {}
     },
     "a13ac5f1585e4d8bb2a818afff838d5b": {
      "model_module": "@jupyter-widgets/controls",
      "model_module_version": "1.5.0",
      "model_name": "DescriptionStyleModel",
      "state": {
       "description_width": ""
      }
     },
     "a13f2a9c9f5244d8a9b629bffbcf77a1": {
      "model_module": "@jupyter-widgets/controls",
      "model_module_version": "1.5.0",
      "model_name": "HTMLModel",
      "state": {
       "layout": "IPY_MODEL_f738738fdb3e45fc82a450c5a2bccde0",
       "style": "IPY_MODEL_2828e1fe2af74d8db07e1adc0123117a",
       "value": "100%"
      }
     },
     "a2a2379c053546ce9c76998f96fa7b78": {
      "model_module": "@jupyter-widgets/controls",
      "model_module_version": "1.5.0",
      "model_name": "ProgressStyleModel",
      "state": {
       "description_width": ""
      }
     },
     "a302c9a853414139aa3846bfea99e282": {
      "model_module": "@jupyter-widgets/controls",
      "model_module_version": "1.5.0",
      "model_name": "DescriptionStyleModel",
      "state": {
       "description_width": ""
      }
     },
     "a38f35e10cac49fc9ab1932d0da1310f": {
      "model_module": "@jupyter-widgets/controls",
      "model_module_version": "1.5.0",
      "model_name": "HTMLModel",
      "state": {
       "layout": "IPY_MODEL_4d6f553eee2a41f8af1fdb78b0b9b635",
       "style": "IPY_MODEL_9ea1dc1e959d4f33a2dcee5d9e70c967",
       "value": " 1735.0/1735 [00:00&lt;00:00, 14988.20it/s]"
      }
     },
     "a3c82861c20348f9a737844a775d0fd1": {
      "model_module": "@jupyter-widgets/controls",
      "model_module_version": "1.5.0",
      "model_name": "HTMLModel",
      "state": {
       "layout": "IPY_MODEL_0655b05177a8465c8cb47022e9979609",
       "style": "IPY_MODEL_4202478c2c8944da9551b4540fd0252b",
       "value": " 5976.0/5976 [00:05&lt;00:00, 1156.62it/s]"
      }
     },
     "a478f7d3a0c349f58bc5e45ce2809bfa": {
      "model_module": "@jupyter-widgets/controls",
      "model_module_version": "1.5.0",
      "model_name": "ProgressStyleModel",
      "state": {
       "description_width": ""
      }
     },
     "a4bcff4957dd49e89046056901c5eacd": {
      "model_module": "@jupyter-widgets/controls",
      "model_module_version": "1.5.0",
      "model_name": "DescriptionStyleModel",
      "state": {
       "description_width": ""
      }
     },
     "a4dce5a25b234ed1a013245a2b1ee55b": {
      "model_module": "@jupyter-widgets/base",
      "model_module_version": "1.2.0",
      "model_name": "LayoutModel",
      "state": {}
     },
     "a579bbfdf5404061bed2af530852932c": {
      "model_module": "@jupyter-widgets/base",
      "model_module_version": "1.2.0",
      "model_name": "LayoutModel",
      "state": {}
     },
     "a5a93d17693140f0a0eb5c542cbc2d73": {
      "model_module": "@jupyter-widgets/controls",
      "model_module_version": "1.5.0",
      "model_name": "DescriptionStyleModel",
      "state": {
       "description_width": ""
      }
     },
     "a67865cf85224c5e8a099fcaf0457556": {
      "model_module": "@jupyter-widgets/base",
      "model_module_version": "1.2.0",
      "model_name": "LayoutModel",
      "state": {
       "display": "inline-flex",
       "flex_flow": "row wrap",
       "width": "100%"
      }
     },
     "a72c744e7602451a876e4adadf20798d": {
      "model_module": "@jupyter-widgets/base",
      "model_module_version": "1.2.0",
      "model_name": "LayoutModel",
      "state": {
       "display": "inline-flex",
       "flex_flow": "row wrap",
       "width": "100%"
      }
     },
     "a7ed69b582c8426b90376bfe865bd3b1": {
      "model_module": "@jupyter-widgets/base",
      "model_module_version": "1.2.0",
      "model_name": "LayoutModel",
      "state": {
       "flex": "2"
      }
     },
     "a81aee02d5b646b883b0a58c11e82ce2": {
      "model_module": "@jupyter-widgets/controls",
      "model_module_version": "1.5.0",
      "model_name": "DescriptionStyleModel",
      "state": {
       "description_width": ""
      }
     },
     "a82e422353af4070b9a59a4be792dbca": {
      "model_module": "@jupyter-widgets/controls",
      "model_module_version": "1.5.0",
      "model_name": "FloatProgressModel",
      "state": {
       "bar_style": "success",
       "layout": "IPY_MODEL_ceda73c0d09647d88f2a70f16e745b5c",
       "max": 236,
       "style": "IPY_MODEL_1cc04ac179f54c1da9dff310073bbfec",
       "value": 236
      }
     },
     "a85b619675d14f7f9c29609fb2ad2357": {
      "model_module": "@jupyter-widgets/base",
      "model_module_version": "1.2.0",
      "model_name": "LayoutModel",
      "state": {}
     },
     "a8dde7f2e2cf454e8ff5f52d5ebd293d": {
      "model_module": "@jupyter-widgets/base",
      "model_module_version": "1.2.0",
      "model_name": "LayoutModel",
      "state": {}
     },
     "a8ecef29c03f4b0690da4a511d1e9636": {
      "model_module": "@jupyter-widgets/controls",
      "model_module_version": "1.5.0",
      "model_name": "FloatProgressModel",
      "state": {
       "bar_style": "success",
       "layout": "IPY_MODEL_87249cc1f5074d0c8f18a07ab037de02",
       "max": 964,
       "style": "IPY_MODEL_5db60fe5fb23482eb84d331cfd9255bc",
       "value": 964
      }
     },
     "aa475dc8e4b34e41bc0a7f5df19314f4": {
      "model_module": "@jupyter-widgets/controls",
      "model_module_version": "1.5.0",
      "model_name": "ProgressStyleModel",
      "state": {
       "description_width": ""
      }
     },
     "aa60edbe9b9b448b84f4aac7b0818d16": {
      "model_module": "@jupyter-widgets/controls",
      "model_module_version": "1.5.0",
      "model_name": "ProgressStyleModel",
      "state": {
       "description_width": ""
      }
     },
     "aae368853c604bacbec5cae13bf78a02": {
      "model_module": "@jupyter-widgets/base",
      "model_module_version": "1.2.0",
      "model_name": "LayoutModel",
      "state": {}
     },
     "ab308b84f5b447aa914a3ca62123fdea": {
      "model_module": "@jupyter-widgets/controls",
      "model_module_version": "1.5.0",
      "model_name": "ProgressStyleModel",
      "state": {
       "description_width": ""
      }
     },
     "ab5e5c7cddca4560aa1e6b5882fedc7e": {
      "model_module": "@jupyter-widgets/base",
      "model_module_version": "1.2.0",
      "model_name": "LayoutModel",
      "state": {}
     },
     "ac2d90e16cc74695ab421295265ac7b8": {
      "model_module": "@jupyter-widgets/controls",
      "model_module_version": "1.5.0",
      "model_name": "HBoxModel",
      "state": {
       "children": [
        "IPY_MODEL_8f92e44be61840d4a955cefcb29c6ab7",
        "IPY_MODEL_afc4e8c509504db3b47deb7e2efb8b12",
        "IPY_MODEL_6c9598cc63834ce9b17922be70490dc0"
       ],
       "layout": "IPY_MODEL_57695fdd031440a5b139671e4fb1289b"
      }
     },
     "ac3e5ae6748f4e189e0c3b011cf75a9d": {
      "model_module": "@jupyter-widgets/base",
      "model_module_version": "1.2.0",
      "model_name": "LayoutModel",
      "state": {}
     },
     "ac79695578b84a59aeeec9a8acb9f123": {
      "model_module": "@jupyter-widgets/controls",
      "model_module_version": "1.5.0",
      "model_name": "DescriptionStyleModel",
      "state": {
       "description_width": ""
      }
     },
     "acb044bebcf848d680e0da99c3e9241a": {
      "model_module": "@jupyter-widgets/controls",
      "model_module_version": "1.5.0",
      "model_name": "HBoxModel",
      "state": {
       "children": [
        "IPY_MODEL_c9e398255c6c4c2a876ac763280c2cd2",
        "IPY_MODEL_9a0f4166b2934a7e8307571daa0ba8bd",
        "IPY_MODEL_ca818b764b9e43abad37e1939220c056"
       ],
       "layout": "IPY_MODEL_4671995502fb4d188b0dbb0df88d4f68"
      }
     },
     "ae02993ec7574421b4c070f0c40d20d6": {
      "model_module": "@jupyter-widgets/controls",
      "model_module_version": "1.5.0",
      "model_name": "DescriptionStyleModel",
      "state": {
       "description_width": ""
      }
     },
     "afc4e8c509504db3b47deb7e2efb8b12": {
      "model_module": "@jupyter-widgets/controls",
      "model_module_version": "1.5.0",
      "model_name": "FloatProgressModel",
      "state": {
       "bar_style": "success",
       "layout": "IPY_MODEL_e49862831b184958aa16480210b2c3b1",
       "max": 1604,
       "style": "IPY_MODEL_30cc0b9bd36c4f169e5f2ef17bc20dd7",
       "value": 1604
      }
     },
     "b15ba535dadc42b7880dc71af4472d76": {
      "model_module": "@jupyter-widgets/base",
      "model_module_version": "1.2.0",
      "model_name": "LayoutModel",
      "state": {}
     },
     "b20727a9e6004ced846817eed2f771c4": {
      "model_module": "@jupyter-widgets/base",
      "model_module_version": "1.2.0",
      "model_name": "LayoutModel",
      "state": {
       "display": "inline-flex",
       "flex_flow": "row wrap",
       "width": "100%"
      }
     },
     "b288996308cf4d6cbacc985f55d5db2d": {
      "model_module": "@jupyter-widgets/controls",
      "model_module_version": "1.5.0",
      "model_name": "FloatProgressModel",
      "state": {
       "bar_style": "success",
       "layout": "IPY_MODEL_8f52f73c48aa48b89186c8c15239d65d",
       "max": 2414,
       "style": "IPY_MODEL_82d1782b7b8b4e6ba8e7adbaec3d65b1",
       "value": 2414
      }
     },
     "b418ea9b00ae4b34993f763510f38b88": {
      "model_module": "@jupyter-widgets/base",
      "model_module_version": "1.2.0",
      "model_name": "LayoutModel",
      "state": {
       "flex": "2"
      }
     },
     "b41e04fa32094c3aa093976957a8f7e3": {
      "model_module": "@jupyter-widgets/controls",
      "model_module_version": "1.5.0",
      "model_name": "DescriptionStyleModel",
      "state": {
       "description_width": ""
      }
     },
     "b455e44962e94c99945ee0bb7ebfb7d9": {
      "model_module": "@jupyter-widgets/controls",
      "model_module_version": "1.5.0",
      "model_name": "HTMLModel",
      "state": {
       "layout": "IPY_MODEL_b7f7386dc9644c388e7e7f651d65ef86",
       "style": "IPY_MODEL_4e0ccd2b11d840f3a76a727267214a65",
       "value": " 1735.0/1735 [00:00&lt;00:00, 24353.74it/s]"
      }
     },
     "b5849f7e47d441048b823676f1beed0a": {
      "model_module": "@jupyter-widgets/controls",
      "model_module_version": "1.5.0",
      "model_name": "HTMLModel",
      "state": {
       "layout": "IPY_MODEL_844f84c312e642708bd71412e202b1f5",
       "style": "IPY_MODEL_ae02993ec7574421b4c070f0c40d20d6",
       "value": "100%"
      }
     },
     "b5ff3bbff3914111ab0da8074b7dda27": {
      "model_module": "@jupyter-widgets/controls",
      "model_module_version": "1.5.0",
      "model_name": "FloatProgressModel",
      "state": {
       "bar_style": "success",
       "layout": "IPY_MODEL_6da54d2712714e65a252c64d5cec8c9a",
       "max": 3766,
       "style": "IPY_MODEL_303b3235091e4821b0c392f9a06f55c9",
       "value": 3766
      }
     },
     "b600cc713bb84d389080eb25fc1a5b98": {
      "model_module": "@jupyter-widgets/controls",
      "model_module_version": "1.5.0",
      "model_name": "HBoxModel",
      "state": {
       "children": [
        "IPY_MODEL_12b27f1ae4144c7b832c01008b09b8c3",
        "IPY_MODEL_6bd22a418469435aacfbf2804a0cf371",
        "IPY_MODEL_1f8c411fc8624a66b7fc937726168088"
       ],
       "layout": "IPY_MODEL_1e2c9276c5e84235b7df610c3c90e83b"
      }
     },
     "b6eddeb965a340df92a82dc9ee6b460c": {
      "model_module": "@jupyter-widgets/controls",
      "model_module_version": "1.5.0",
      "model_name": "DescriptionStyleModel",
      "state": {
       "description_width": ""
      }
     },
     "b71750b15d464da6867a681832794b5f": {
      "model_module": "@jupyter-widgets/controls",
      "model_module_version": "1.5.0",
      "model_name": "ProgressStyleModel",
      "state": {
       "description_width": ""
      }
     },
     "b7d93137f4ce47d7bec1437d4a84e883": {
      "model_module": "@jupyter-widgets/controls",
      "model_module_version": "1.5.0",
      "model_name": "HTMLModel",
      "state": {
       "layout": "IPY_MODEL_ab5e5c7cddca4560aa1e6b5882fedc7e",
       "style": "IPY_MODEL_8b01abd590654b8ebb449ad30ad9d96c",
       "value": "100%"
      }
     },
     "b7f7386dc9644c388e7e7f651d65ef86": {
      "model_module": "@jupyter-widgets/base",
      "model_module_version": "1.2.0",
      "model_name": "LayoutModel",
      "state": {}
     },
     "b7ff7ef877ef4974afd99540f611a265": {
      "model_module": "@jupyter-widgets/controls",
      "model_module_version": "1.5.0",
      "model_name": "ProgressStyleModel",
      "state": {
       "description_width": ""
      }
     },
     "b820b69ce21e4146a318336c3f9fdf86": {
      "model_module": "@jupyter-widgets/controls",
      "model_module_version": "1.5.0",
      "model_name": "DescriptionStyleModel",
      "state": {
       "description_width": ""
      }
     },
     "b84e2fcf950c4a47a01ae924923c9c7e": {
      "model_module": "@jupyter-widgets/base",
      "model_module_version": "1.2.0",
      "model_name": "LayoutModel",
      "state": {
       "display": "inline-flex",
       "flex_flow": "row wrap",
       "width": "100%"
      }
     },
     "b8dff28ac52844ea8a6ce466192c56bd": {
      "model_module": "@jupyter-widgets/controls",
      "model_module_version": "1.5.0",
      "model_name": "DescriptionStyleModel",
      "state": {
       "description_width": ""
      }
     },
     "b93dcc6f9b83420ea343073dd79b460c": {
      "model_module": "@jupyter-widgets/controls",
      "model_module_version": "1.5.0",
      "model_name": "FloatProgressModel",
      "state": {
       "bar_style": "success",
       "layout": "IPY_MODEL_591c838974444ad88120f44415cb8303",
       "max": 1735,
       "style": "IPY_MODEL_51f0fadc2610461b9bbc0adc8f30a358",
       "value": 1735
      }
     },
     "b95e6e7ab6b74e8db86e4eaeda3cd270": {
      "model_module": "@jupyter-widgets/base",
      "model_module_version": "1.2.0",
      "model_name": "LayoutModel",
      "state": {
       "flex": "2"
      }
     },
     "b966e0fef2e24741b9c735b655f78871": {
      "model_module": "@jupyter-widgets/controls",
      "model_module_version": "1.5.0",
      "model_name": "DescriptionStyleModel",
      "state": {
       "description_width": ""
      }
     },
     "b9ef8d00ab2f45bf8beff01f3a1b289f": {
      "model_module": "@jupyter-widgets/controls",
      "model_module_version": "1.5.0",
      "model_name": "DescriptionStyleModel",
      "state": {
       "description_width": ""
      }
     },
     "ba295c812d30494da3492971169f6170": {
      "model_module": "@jupyter-widgets/controls",
      "model_module_version": "1.5.0",
      "model_name": "HTMLModel",
      "state": {
       "layout": "IPY_MODEL_296b520996d148489b8253647b348f50",
       "style": "IPY_MODEL_2d1689362c8c4e249a83858d4438dda0",
       "value": "100%"
      }
     },
     "ba89c14ded8e476fa8e26d85ba18ec37": {
      "model_module": "@jupyter-widgets/controls",
      "model_module_version": "1.5.0",
      "model_name": "DescriptionStyleModel",
      "state": {
       "description_width": ""
      }
     },
     "ba8fe89ebef444f09602dc50d65d7bfa": {
      "model_module": "@jupyter-widgets/controls",
      "model_module_version": "1.5.0",
      "model_name": "FloatProgressModel",
      "state": {
       "bar_style": "success",
       "layout": "IPY_MODEL_324b2c9cd1d64dfdb4079e68e0b8a8ae",
       "max": 71,
       "style": "IPY_MODEL_f7b1243e364d43579e2316927d230384",
       "value": 71
      }
     },
     "baa261b5ce0a4d61a58111ec2e222120": {
      "model_module": "@jupyter-widgets/controls",
      "model_module_version": "1.5.0",
      "model_name": "HBoxModel",
      "state": {
       "children": [
        "IPY_MODEL_24817e9ff4b24c28b65e3633b225be84",
        "IPY_MODEL_ea0242f8e3934a2184755611f6c9745b",
        "IPY_MODEL_e7532c359870466fbd975a9b1fbf61bd"
       ],
       "layout": "IPY_MODEL_326873a2e313417285c2498badefda24"
      }
     },
     "bb2f6372a3054426b5415d2c17a33c52": {
      "model_module": "@jupyter-widgets/controls",
      "model_module_version": "1.5.0",
      "model_name": "HTMLModel",
      "state": {
       "layout": "IPY_MODEL_ea50157aaf204fec9f20db6b3a5088f3",
       "style": "IPY_MODEL_c55398491e3044968198c536f2edb4ec",
       "value": "100%"
      }
     },
     "bbd771fa25e648558f238a2735e782ae": {
      "model_module": "@jupyter-widgets/base",
      "model_module_version": "1.2.0",
      "model_name": "LayoutModel",
      "state": {
       "flex": "2"
      }
     },
     "bbe1d6fd1dea44f38cf5ec82cbc8e06a": {
      "model_module": "@jupyter-widgets/base",
      "model_module_version": "1.2.0",
      "model_name": "LayoutModel",
      "state": {}
     },
     "bc97f7831d774a21b6ca3adfbe52b1b5": {
      "model_module": "@jupyter-widgets/controls",
      "model_module_version": "1.5.0",
      "model_name": "HTMLModel",
      "state": {
       "layout": "IPY_MODEL_c27660a53f4b4a98939156b9e4909e12",
       "style": "IPY_MODEL_c11a1205e8c04d969f132aab577553f1",
       "value": " 999.0/999 [00:00&lt;00:00, 1506.21it/s]"
      }
     },
     "bca9fd0c85304d8f8062442901086994": {
      "model_module": "@jupyter-widgets/base",
      "model_module_version": "1.2.0",
      "model_name": "LayoutModel",
      "state": {}
     },
     "bd1df45650ae4ac1939af8e6a900e21b": {
      "model_module": "@jupyter-widgets/controls",
      "model_module_version": "1.5.0",
      "model_name": "HBoxModel",
      "state": {
       "children": [
        "IPY_MODEL_2dd7673360ee42168e1fb977c66b5e41",
        "IPY_MODEL_9013115d200f4185992c7ed281cbe7fd",
        "IPY_MODEL_3811f079aa12467ba356f0552e5e67ab"
       ],
       "layout": "IPY_MODEL_862209f531ba4e5b978d19988a5c01f1"
      }
     },
     "bf2ee770eac14749b07dd485962439d8": {
      "model_module": "@jupyter-widgets/controls",
      "model_module_version": "1.5.0",
      "model_name": "FloatProgressModel",
      "state": {
       "bar_style": "success",
       "layout": "IPY_MODEL_6e4ad3c8ef6a475fa7cf9b41d28bd2e1",
       "max": 1604,
       "style": "IPY_MODEL_0c8ce17319d4429f805dcd2383bf6496",
       "value": 1604
      }
     },
     "bfb2c04bf99c492c99cd823914206424": {
      "model_module": "@jupyter-widgets/controls",
      "model_module_version": "1.5.0",
      "model_name": "ProgressStyleModel",
      "state": {
       "description_width": ""
      }
     },
     "c11a1205e8c04d969f132aab577553f1": {
      "model_module": "@jupyter-widgets/controls",
      "model_module_version": "1.5.0",
      "model_name": "DescriptionStyleModel",
      "state": {
       "description_width": ""
      }
     },
     "c11b9177c76d443da630488bea71dc39": {
      "model_module": "@jupyter-widgets/base",
      "model_module_version": "1.2.0",
      "model_name": "LayoutModel",
      "state": {}
     },
     "c171c23b8909466f8ea931fa4d430bd4": {
      "model_module": "@jupyter-widgets/base",
      "model_module_version": "1.2.0",
      "model_name": "LayoutModel",
      "state": {}
     },
     "c27660a53f4b4a98939156b9e4909e12": {
      "model_module": "@jupyter-widgets/base",
      "model_module_version": "1.2.0",
      "model_name": "LayoutModel",
      "state": {}
     },
     "c29557f8d6814a1c81900e45d88500c4": {
      "model_module": "@jupyter-widgets/controls",
      "model_module_version": "1.5.0",
      "model_name": "DescriptionStyleModel",
      "state": {
       "description_width": ""
      }
     },
     "c2f3ef148cdd4cf4adea50ae7f59f641": {
      "model_module": "@jupyter-widgets/base",
      "model_module_version": "1.2.0",
      "model_name": "LayoutModel",
      "state": {}
     },
     "c300b68dcbb74594b870b13eb070e1d8": {
      "model_module": "@jupyter-widgets/controls",
      "model_module_version": "1.5.0",
      "model_name": "HTMLModel",
      "state": {
       "layout": "IPY_MODEL_d49a2b868dd444b78f74258cefb9558d",
       "style": "IPY_MODEL_ba89c14ded8e476fa8e26d85ba18ec37",
       "value": "100%"
      }
     },
     "c3e46a7123bb49c7ab469fe531b64505": {
      "model_module": "@jupyter-widgets/controls",
      "model_module_version": "1.5.0",
      "model_name": "HTMLModel",
      "state": {
       "layout": "IPY_MODEL_f7acf74c90814e9daea9a187ae609eb3",
       "style": "IPY_MODEL_a302c9a853414139aa3846bfea99e282",
       "value": " 5336.0/5336 [00:05&lt;00:00, 851.60it/s]"
      }
     },
     "c478f597aa6a4c1cafe08bdef51dc6fd": {
      "model_module": "@jupyter-widgets/controls",
      "model_module_version": "1.5.0",
      "model_name": "DescriptionStyleModel",
      "state": {
       "description_width": ""
      }
     },
     "c4ba525b84da4a26b56fd6841590fd08": {
      "model_module": "@jupyter-widgets/controls",
      "model_module_version": "1.5.0",
      "model_name": "DescriptionStyleModel",
      "state": {
       "description_width": ""
      }
     },
     "c4f21419984e47b7a2fe3385056a20f6": {
      "model_module": "@jupyter-widgets/controls",
      "model_module_version": "1.5.0",
      "model_name": "HTMLModel",
      "state": {
       "layout": "IPY_MODEL_36ca1e80f7b849c89614af3f52680dfc",
       "style": "IPY_MODEL_a13ac5f1585e4d8bb2a818afff838d5b",
       "value": " 1735.0/1735 [00:00&lt;00:00, 46552.70it/s]"
      }
     },
     "c544d7a625b4481abe59cd491e4216a0": {
      "model_module": "@jupyter-widgets/controls",
      "model_module_version": "1.5.0",
      "model_name": "ProgressStyleModel",
      "state": {
       "description_width": ""
      }
     },
     "c55398491e3044968198c536f2edb4ec": {
      "model_module": "@jupyter-widgets/controls",
      "model_module_version": "1.5.0",
      "model_name": "DescriptionStyleModel",
      "state": {
       "description_width": ""
      }
     },
     "c566b722c2ba40ddb7e1e799200edb20": {
      "model_module": "@jupyter-widgets/base",
      "model_module_version": "1.2.0",
      "model_name": "LayoutModel",
      "state": {}
     },
     "c5b48218a3f34fdf852f55b8e01f86c2": {
      "model_module": "@jupyter-widgets/controls",
      "model_module_version": "1.5.0",
      "model_name": "DescriptionStyleModel",
      "state": {
       "description_width": ""
      }
     },
     "c655ba57fb09498eab6655257e1342e7": {
      "model_module": "@jupyter-widgets/controls",
      "model_module_version": "1.5.0",
      "model_name": "ProgressStyleModel",
      "state": {
       "description_width": ""
      }
     },
     "c6648de78f7a49f88f6406d0e27c165f": {
      "model_module": "@jupyter-widgets/base",
      "model_module_version": "1.2.0",
      "model_name": "LayoutModel",
      "state": {
       "display": "inline-flex",
       "flex_flow": "row wrap",
       "width": "100%"
      }
     },
     "c67475ecf53741f5bcb1fef7d436a95b": {
      "model_module": "@jupyter-widgets/controls",
      "model_module_version": "1.5.0",
      "model_name": "DescriptionStyleModel",
      "state": {
       "description_width": ""
      }
     },
     "c691eb8f49a943b79c6eab6889819216": {
      "model_module": "@jupyter-widgets/controls",
      "model_module_version": "1.5.0",
      "model_name": "FloatProgressModel",
      "state": {
       "bar_style": "success",
       "layout": "IPY_MODEL_efd2d401894f422bbda5ffaf78a17949",
       "max": 827,
       "style": "IPY_MODEL_7fa67e0942914c1895ac9b2e48cde1bc",
       "value": 827
      }
     },
     "c7ad675e46e44e58aa823ab48802f2a3": {
      "model_module": "@jupyter-widgets/base",
      "model_module_version": "1.2.0",
      "model_name": "LayoutModel",
      "state": {
       "display": "inline-flex",
       "flex_flow": "row wrap",
       "width": "100%"
      }
     },
     "c9221d0c19f342ef84eb23970ee660d9": {
      "model_module": "@jupyter-widgets/controls",
      "model_module_version": "1.5.0",
      "model_name": "HBoxModel",
      "state": {
       "children": [
        "IPY_MODEL_6f033b5511a54834a2be007179e2a2cb",
        "IPY_MODEL_7ea6614a2f924dc4b03fd1cc6aa8e2ec",
        "IPY_MODEL_7e523e57e10b4b95b828976e2d4a16e2"
       ],
       "layout": "IPY_MODEL_c7ad675e46e44e58aa823ab48802f2a3"
      }
     },
     "c971a848b00848238d302c56371651c5": {
      "model_module": "@jupyter-widgets/controls",
      "model_module_version": "1.5.0",
      "model_name": "HBoxModel",
      "state": {
       "children": [
        "IPY_MODEL_9ea3c021973e4f11bd71551b9ecc7385",
        "IPY_MODEL_e016a8fe75af4d4399a884fc11e8086e",
        "IPY_MODEL_31a64aedc16f4720b61880563e88d8a5"
       ],
       "layout": "IPY_MODEL_25bc9d5f84d84b75a4e69547dbb9b92f"
      }
     },
     "c9e398255c6c4c2a876ac763280c2cd2": {
      "model_module": "@jupyter-widgets/controls",
      "model_module_version": "1.5.0",
      "model_name": "HTMLModel",
      "state": {
       "layout": "IPY_MODEL_a1350ebdd0ae4df9836ed9472697dd2a",
       "style": "IPY_MODEL_0a397b2c9f6646a985b6b9f7074a3a7a",
       "value": "100%"
      }
     },
     "ca0903fed0a5449b83ccc31bb95edd65": {
      "model_module": "@jupyter-widgets/controls",
      "model_module_version": "1.5.0",
      "model_name": "FloatProgressModel",
      "state": {
       "bar_style": "success",
       "layout": "IPY_MODEL_68e24e05ded540de8cb3066fb7138648",
       "max": 489,
       "style": "IPY_MODEL_b7ff7ef877ef4974afd99540f611a265",
       "value": 489
      }
     },
     "ca818b764b9e43abad37e1939220c056": {
      "model_module": "@jupyter-widgets/controls",
      "model_module_version": "1.5.0",
      "model_name": "HTMLModel",
      "state": {
       "layout": "IPY_MODEL_d18191e292c3496088af8435a00e453b",
       "style": "IPY_MODEL_c29557f8d6814a1c81900e45d88500c4",
       "value": " 3174.0/3174 [00:05&lt;00:00, 530.62it/s]"
      }
     },
     "cc274b3247c84431917b0b76540fd4e6": {
      "model_module": "@jupyter-widgets/base",
      "model_module_version": "1.2.0",
      "model_name": "LayoutModel",
      "state": {}
     },
     "cc9985ad180e4fb280e5ff11a8e81b2d": {
      "model_module": "@jupyter-widgets/controls",
      "model_module_version": "1.5.0",
      "model_name": "HTMLModel",
      "state": {
       "layout": "IPY_MODEL_c11b9177c76d443da630488bea71dc39",
       "style": "IPY_MODEL_15386ede2c3d49d9b4ffc502e115f154",
       "value": "100%"
      }
     },
     "ccfa43a64bcb4cdf87445f023a59dd3b": {
      "model_module": "@jupyter-widgets/base",
      "model_module_version": "1.2.0",
      "model_name": "LayoutModel",
      "state": {
       "display": "inline-flex",
       "flex_flow": "row wrap",
       "width": "100%"
      }
     },
     "ccfd1714481d465b8fcefd6e3b373dd0": {
      "model_module": "@jupyter-widgets/controls",
      "model_module_version": "1.5.0",
      "model_name": "DescriptionStyleModel",
      "state": {
       "description_width": ""
      }
     },
     "cd04d5f5e78d4b0abd032be065cfc245": {
      "model_module": "@jupyter-widgets/controls",
      "model_module_version": "1.5.0",
      "model_name": "HTMLModel",
      "state": {
       "layout": "IPY_MODEL_aae368853c604bacbec5cae13bf78a02",
       "style": "IPY_MODEL_db73dda98ebe4db292ec7c76343f04ef",
       "value": "100%"
      }
     },
     "cd38d82f4e1b48f69e308a783f73d32e": {
      "model_module": "@jupyter-widgets/base",
      "model_module_version": "1.2.0",
      "model_name": "LayoutModel",
      "state": {}
     },
     "cd750ed5376e4d26a10103009838ffee": {
      "model_module": "@jupyter-widgets/base",
      "model_module_version": "1.2.0",
      "model_name": "LayoutModel",
      "state": {}
     },
     "ce87d71e5448494db4fefefd66d308c0": {
      "model_module": "@jupyter-widgets/controls",
      "model_module_version": "1.5.0",
      "model_name": "ProgressStyleModel",
      "state": {
       "description_width": ""
      }
     },
     "ceda73c0d09647d88f2a70f16e745b5c": {
      "model_module": "@jupyter-widgets/base",
      "model_module_version": "1.2.0",
      "model_name": "LayoutModel",
      "state": {
       "flex": "2"
      }
     },
     "cf27198fdc9742789ce6cbadcd60fe1a": {
      "model_module": "@jupyter-widgets/base",
      "model_module_version": "1.2.0",
      "model_name": "LayoutModel",
      "state": {}
     },
     "d046f40e13e24cf6842f19c552586165": {
      "model_module": "@jupyter-widgets/base",
      "model_module_version": "1.2.0",
      "model_name": "LayoutModel",
      "state": {
       "display": "inline-flex",
       "flex_flow": "row wrap",
       "width": "100%"
      }
     },
     "d12dae56d2834bdba43cfde7c7acbcfb": {
      "model_module": "@jupyter-widgets/controls",
      "model_module_version": "1.5.0",
      "model_name": "DescriptionStyleModel",
      "state": {
       "description_width": ""
      }
     },
     "d13cc399e3564bdeb7c8cabfe72798e2": {
      "model_module": "@jupyter-widgets/controls",
      "model_module_version": "1.5.0",
      "model_name": "DescriptionStyleModel",
      "state": {
       "description_width": ""
      }
     },
     "d14b59243dab4a58aaed5f85724f6b62": {
      "model_module": "@jupyter-widgets/controls",
      "model_module_version": "1.5.0",
      "model_name": "HBoxModel",
      "state": {
       "children": [
        "IPY_MODEL_ba295c812d30494da3492971169f6170",
        "IPY_MODEL_25f6abcb21964381b15623406bea91e2",
        "IPY_MODEL_bc97f7831d774a21b6ca3adfbe52b1b5"
       ],
       "layout": "IPY_MODEL_988001b1495f4452aeea8a34a774ae9a"
      }
     },
     "d16e914ab1484af2ad96b2d49a0a903c": {
      "model_module": "@jupyter-widgets/base",
      "model_module_version": "1.2.0",
      "model_name": "LayoutModel",
      "state": {
       "display": "inline-flex",
       "flex_flow": "row wrap",
       "width": "100%"
      }
     },
     "d176073ef2734cb9b49ea4cca5c69714": {
      "model_module": "@jupyter-widgets/controls",
      "model_module_version": "1.5.0",
      "model_name": "ProgressStyleModel",
      "state": {
       "description_width": ""
      }
     },
     "d18191e292c3496088af8435a00e453b": {
      "model_module": "@jupyter-widgets/base",
      "model_module_version": "1.2.0",
      "model_name": "LayoutModel",
      "state": {}
     },
     "d1b7fc8a0c3e4083bfde6f4100fad63d": {
      "model_module": "@jupyter-widgets/controls",
      "model_module_version": "1.5.0",
      "model_name": "DescriptionStyleModel",
      "state": {
       "description_width": ""
      }
     },
     "d2423f88e3224ec88a21ab2cf207d3c3": {
      "model_module": "@jupyter-widgets/base",
      "model_module_version": "1.2.0",
      "model_name": "LayoutModel",
      "state": {
       "flex": "2"
      }
     },
     "d3ad949c5bca440297a46220c53ed24b": {
      "model_module": "@jupyter-widgets/base",
      "model_module_version": "1.2.0",
      "model_name": "LayoutModel",
      "state": {}
     },
     "d4424e26d9564e7484a1d83c633d66f8": {
      "model_module": "@jupyter-widgets/base",
      "model_module_version": "1.2.0",
      "model_name": "LayoutModel",
      "state": {}
     },
     "d46ae90ce2a449169eeb082ab3fe5421": {
      "model_module": "@jupyter-widgets/base",
      "model_module_version": "1.2.0",
      "model_name": "LayoutModel",
      "state": {}
     },
     "d49a2b868dd444b78f74258cefb9558d": {
      "model_module": "@jupyter-widgets/base",
      "model_module_version": "1.2.0",
      "model_name": "LayoutModel",
      "state": {}
     },
     "d5b976717c694db4a47813615707f1ea": {
      "model_module": "@jupyter-widgets/base",
      "model_module_version": "1.2.0",
      "model_name": "LayoutModel",
      "state": {
       "display": "inline-flex",
       "flex_flow": "row wrap",
       "width": "100%"
      }
     },
     "d61b9ceac4ff4845812c2a17a37ce786": {
      "model_module": "@jupyter-widgets/controls",
      "model_module_version": "1.5.0",
      "model_name": "FloatProgressModel",
      "state": {
       "bar_style": "success",
       "layout": "IPY_MODEL_596d9140b40049cd83a568393ed53d55",
       "max": 554,
       "style": "IPY_MODEL_2992d1f323514a90b0c23a7c91e90f72",
       "value": 554
      }
     },
     "d668441770ae4a90b1ee0df4a138919f": {
      "model_module": "@jupyter-widgets/controls",
      "model_module_version": "1.5.0",
      "model_name": "FloatProgressModel",
      "state": {
       "bar_style": "success",
       "layout": "IPY_MODEL_a7ed69b582c8426b90376bfe865bd3b1",
       "max": 1735,
       "style": "IPY_MODEL_530ba0ca45d443d19d584ce9e3d32175",
       "value": 1735
      }
     },
     "d71a2dd2f354476eb4ce40c10697b427": {
      "model_module": "@jupyter-widgets/controls",
      "model_module_version": "1.5.0",
      "model_name": "HTMLModel",
      "state": {
       "layout": "IPY_MODEL_926225a217ac43558aba672c92fa638f",
       "style": "IPY_MODEL_80bbebdbf2be4abb92617da895271f00",
       "value": "100%"
      }
     },
     "d73fac9d143e43d6ae15980a98081b38": {
      "model_module": "@jupyter-widgets/base",
      "model_module_version": "1.2.0",
      "model_name": "LayoutModel",
      "state": {
       "flex": "2"
      }
     },
     "d7549fc58b914223bcd501af36b9d9b7": {
      "model_module": "@jupyter-widgets/controls",
      "model_module_version": "1.5.0",
      "model_name": "DescriptionStyleModel",
      "state": {
       "description_width": ""
      }
     },
     "d978a7a24d784f8c9759d2283e631aa8": {
      "model_module": "@jupyter-widgets/base",
      "model_module_version": "1.2.0",
      "model_name": "LayoutModel",
      "state": {
       "flex": "2"
      }
     },
     "dac428831a0e4a45a43fb43a91e3094e": {
      "model_module": "@jupyter-widgets/controls",
      "model_module_version": "1.5.0",
      "model_name": "HTMLModel",
      "state": {
       "layout": "IPY_MODEL_36dc5a76d1054d8987078161b79c0955",
       "style": "IPY_MODEL_5fa30f74746b484fbd31d9046aba9f01",
       "value": " 3406.0/3406 [00:00&lt;00:00, 25848.98it/s]"
      }
     },
     "db73dda98ebe4db292ec7c76343f04ef": {
      "model_module": "@jupyter-widgets/controls",
      "model_module_version": "1.5.0",
      "model_name": "DescriptionStyleModel",
      "state": {
       "description_width": ""
      }
     },
     "db97f7ff1518451a83094cdb48402276": {
      "model_module": "@jupyter-widgets/base",
      "model_module_version": "1.2.0",
      "model_name": "LayoutModel",
      "state": {
       "flex": "2"
      }
     },
     "dbda01af7f374bc2805c0af18b0853bb": {
      "model_module": "@jupyter-widgets/controls",
      "model_module_version": "1.5.0",
      "model_name": "DescriptionStyleModel",
      "state": {
       "description_width": ""
      }
     },
     "dbf4dbabb9d44a81ba01d35a3ac966fa": {
      "model_module": "@jupyter-widgets/controls",
      "model_module_version": "1.5.0",
      "model_name": "HBoxModel",
      "state": {
       "children": [
        "IPY_MODEL_5cb4b3a340e54f339c44e6bec0d1550b",
        "IPY_MODEL_c691eb8f49a943b79c6eab6889819216",
        "IPY_MODEL_1f44eea3069f4d67b8e22e1f6c3bc0d5"
       ],
       "layout": "IPY_MODEL_b20727a9e6004ced846817eed2f771c4"
      }
     },
     "dc3996977bef4e1eae5f35fb744767b5": {
      "model_module": "@jupyter-widgets/controls",
      "model_module_version": "1.5.0",
      "model_name": "HTMLModel",
      "state": {
       "layout": "IPY_MODEL_2b1129ed31674ad3b4ca06e2e5410cff",
       "style": "IPY_MODEL_9595493c29fb429298a3afbffb704dc9",
       "value": "100%"
      }
     },
     "dd76f7b66f8441e181ce06d7569ccf20": {
      "model_module": "@jupyter-widgets/controls",
      "model_module_version": "1.5.0",
      "model_name": "DescriptionStyleModel",
      "state": {
       "description_width": ""
      }
     },
     "ddae9298feed4d9c9a0642a45f91437b": {
      "model_module": "@jupyter-widgets/controls",
      "model_module_version": "1.5.0",
      "model_name": "DescriptionStyleModel",
      "state": {
       "description_width": ""
      }
     },
     "de02694c06224ef09d9227083cfc88f9": {
      "model_module": "@jupyter-widgets/base",
      "model_module_version": "1.2.0",
      "model_name": "LayoutModel",
      "state": {
       "display": "inline-flex",
       "flex_flow": "row wrap",
       "width": "100%"
      }
     },
     "e016a8fe75af4d4399a884fc11e8086e": {
      "model_module": "@jupyter-widgets/controls",
      "model_module_version": "1.5.0",
      "model_name": "FloatProgressModel",
      "state": {
       "bar_style": "success",
       "layout": "IPY_MODEL_0bcbc58f7968435fb66cdb43b6a3fa27",
       "max": 1115,
       "style": "IPY_MODEL_c544d7a625b4481abe59cd491e4216a0",
       "value": 1115
      }
     },
     "e0d52a8d992040639d261bf0db783a5c": {
      "model_module": "@jupyter-widgets/controls",
      "model_module_version": "1.5.0",
      "model_name": "HBoxModel",
      "state": {
       "children": [
        "IPY_MODEL_cc9985ad180e4fb280e5ff11a8e81b2d",
        "IPY_MODEL_98313b8f1836486497e035d230a91070",
        "IPY_MODEL_b455e44962e94c99945ee0bb7ebfb7d9"
       ],
       "layout": "IPY_MODEL_8d1078c0e1bc4ad293560f48466c5561"
      }
     },
     "e1a3c66586204a4c925626b044bc25da": {
      "model_module": "@jupyter-widgets/controls",
      "model_module_version": "1.5.0",
      "model_name": "HBoxModel",
      "state": {
       "children": [
        "IPY_MODEL_a0db331ddbea4929982aad4c3103b437",
        "IPY_MODEL_e3d1ae00ca8241e8a666e191b375642c",
        "IPY_MODEL_c3e46a7123bb49c7ab469fe531b64505"
       ],
       "layout": "IPY_MODEL_b84e2fcf950c4a47a01ae924923c9c7e"
      }
     },
     "e204129165f2479c9a8424a2f7f5d0ed": {
      "model_module": "@jupyter-widgets/base",
      "model_module_version": "1.2.0",
      "model_name": "LayoutModel",
      "state": {
       "flex": "2"
      }
     },
     "e22a06ac8c9e46ff9d72842f86f232ed": {
      "model_module": "@jupyter-widgets/base",
      "model_module_version": "1.2.0",
      "model_name": "LayoutModel",
      "state": {
       "flex": "2"
      }
     },
     "e274dd0ec8644b7b8e5c94f1123da608": {
      "model_module": "@jupyter-widgets/controls",
      "model_module_version": "1.5.0",
      "model_name": "FloatProgressModel",
      "state": {
       "bar_style": "success",
       "layout": "IPY_MODEL_96832e62636546d1ae970d4abbdcb6aa",
       "max": 4959,
       "style": "IPY_MODEL_ce87d71e5448494db4fefefd66d308c0",
       "value": 4959
      }
     },
     "e3d1ae00ca8241e8a666e191b375642c": {
      "model_module": "@jupyter-widgets/controls",
      "model_module_version": "1.5.0",
      "model_name": "FloatProgressModel",
      "state": {
       "bar_style": "success",
       "layout": "IPY_MODEL_35042a8ba3044cba90627125e024eb15",
       "max": 5336,
       "style": "IPY_MODEL_ab308b84f5b447aa914a3ca62123fdea",
       "value": 5336
      }
     },
     "e49862831b184958aa16480210b2c3b1": {
      "model_module": "@jupyter-widgets/base",
      "model_module_version": "1.2.0",
      "model_name": "LayoutModel",
      "state": {
       "flex": "2"
      }
     },
     "e4d264ef0d62407a8066aad3312a8bb6": {
      "model_module": "@jupyter-widgets/base",
      "model_module_version": "1.2.0",
      "model_name": "LayoutModel",
      "state": {}
     },
     "e7532c359870466fbd975a9b1fbf61bd": {
      "model_module": "@jupyter-widgets/controls",
      "model_module_version": "1.5.0",
      "model_name": "HTMLModel",
      "state": {
       "layout": "IPY_MODEL_8d6bebbc5dda43a3b15372836439eb14",
       "style": "IPY_MODEL_4c5959a751534c0080a99ff612b94208",
       "value": " 5976.0/5976 [00:10&lt;00:00, 505.23it/s]"
      }
     },
     "e789352560b841459a9aeedb134d73ed": {
      "model_module": "@jupyter-widgets/base",
      "model_module_version": "1.2.0",
      "model_name": "LayoutModel",
      "state": {
       "display": "inline-flex",
       "flex_flow": "row wrap",
       "width": "100%"
      }
     },
     "e8699e6337c341c89fedfd66284ff36b": {
      "model_module": "@jupyter-widgets/controls",
      "model_module_version": "1.5.0",
      "model_name": "DescriptionStyleModel",
      "state": {
       "description_width": ""
      }
     },
     "e8b9d82937864d7f9ce68e746371dd8e": {
      "model_module": "@jupyter-widgets/base",
      "model_module_version": "1.2.0",
      "model_name": "LayoutModel",
      "state": {}
     },
     "e9e7fea959c6492b8c61020dfa93cf4c": {
      "model_module": "@jupyter-widgets/controls",
      "model_module_version": "1.5.0",
      "model_name": "ProgressStyleModel",
      "state": {
       "description_width": ""
      }
     },
     "ea0242f8e3934a2184755611f6c9745b": {
      "model_module": "@jupyter-widgets/controls",
      "model_module_version": "1.5.0",
      "model_name": "FloatProgressModel",
      "state": {
       "bar_style": "success",
       "layout": "IPY_MODEL_62a62f80371c429fbd2a3d2f17efe9ea",
       "max": 5976,
       "style": "IPY_MODEL_c655ba57fb09498eab6655257e1342e7",
       "value": 5976
      }
     },
     "ea50157aaf204fec9f20db6b3a5088f3": {
      "model_module": "@jupyter-widgets/base",
      "model_module_version": "1.2.0",
      "model_name": "LayoutModel",
      "state": {}
     },
     "ea76f9fe2ecc4a0cafb2ab3f1eb9267e": {
      "model_module": "@jupyter-widgets/controls",
      "model_module_version": "1.5.0",
      "model_name": "HTMLModel",
      "state": {
       "layout": "IPY_MODEL_bbe1d6fd1dea44f38cf5ec82cbc8e06a",
       "style": "IPY_MODEL_f360b4c1e38140979adf0dcbea4da1b4",
       "value": "100%"
      }
     },
     "eaf6d090a040457d8fd1edd40d129f98": {
      "model_module": "@jupyter-widgets/controls",
      "model_module_version": "1.5.0",
      "model_name": "DescriptionStyleModel",
      "state": {
       "description_width": ""
      }
     },
     "ece18530556c4fadb2b8b7abbbb0d68b": {
      "model_module": "@jupyter-widgets/base",
      "model_module_version": "1.2.0",
      "model_name": "LayoutModel",
      "state": {}
     },
     "ed1f2c8ee9ba4a2aa37e4871b8096454": {
      "model_module": "@jupyter-widgets/base",
      "model_module_version": "1.2.0",
      "model_name": "LayoutModel",
      "state": {}
     },
     "edd842647b95422498875ffc6921ad4a": {
      "model_module": "@jupyter-widgets/controls",
      "model_module_version": "1.5.0",
      "model_name": "HTMLModel",
      "state": {
       "layout": "IPY_MODEL_d46ae90ce2a449169eeb082ab3fe5421",
       "style": "IPY_MODEL_e8699e6337c341c89fedfd66284ff36b",
       "value": "100%"
      }
     },
     "ee7d5798bbad4d7d818ca11e12b5731c": {
      "model_module": "@jupyter-widgets/controls",
      "model_module_version": "1.5.0",
      "model_name": "ProgressStyleModel",
      "state": {
       "description_width": ""
      }
     },
     "eeda798f711a4b9c9c59691a0a815c8b": {
      "model_module": "@jupyter-widgets/controls",
      "model_module_version": "1.5.0",
      "model_name": "FloatProgressModel",
      "state": {
       "bar_style": "success",
       "layout": "IPY_MODEL_9c2f7c32a360472399d2b9f67ef0457d",
       "max": 694,
       "style": "IPY_MODEL_904281035c0c4cdca9729de29117cb36",
       "value": 694
      }
     },
     "ef6741cd605f4cf098646161deb8316d": {
      "model_module": "@jupyter-widgets/controls",
      "model_module_version": "1.5.0",
      "model_name": "HTMLModel",
      "state": {
       "layout": "IPY_MODEL_f5067640b7cc4287b19b6cff2f5bcf23",
       "style": "IPY_MODEL_03f3e523be0547e8b01cd1e98d15a7e5",
       "value": " 1735.0/1735 [00:01&lt;00:00, 1277.25it/s]"
      }
     },
     "ef6c3556d5774cea9b59ef04a37b4c14": {
      "model_module": "@jupyter-widgets/controls",
      "model_module_version": "1.5.0",
      "model_name": "FloatProgressModel",
      "state": {
       "bar_style": "success",
       "layout": "IPY_MODEL_e22a06ac8c9e46ff9d72842f86f232ed",
       "max": 1735,
       "style": "IPY_MODEL_8d69de47458d4956a78d45a146d47e68",
       "value": 1735
      }
     },
     "efd2d401894f422bbda5ffaf78a17949": {
      "model_module": "@jupyter-widgets/base",
      "model_module_version": "1.2.0",
      "model_name": "LayoutModel",
      "state": {
       "flex": "2"
      }
     },
     "f066a23e9cc548f09774b5a77a03f365": {
      "model_module": "@jupyter-widgets/controls",
      "model_module_version": "1.5.0",
      "model_name": "HBoxModel",
      "state": {
       "children": [
        "IPY_MODEL_5164a3339e0f41ea8b7673a86a921fc5",
        "IPY_MODEL_5f7adc7a2fc64430ba15cb8b65b34de5",
        "IPY_MODEL_2362a8761b9f412d9a7ced58f19c0574"
       ],
       "layout": "IPY_MODEL_d16e914ab1484af2ad96b2d49a0a903c"
      }
     },
     "f10a95cc2a52405bb2a069ad7f12a629": {
      "model_module": "@jupyter-widgets/controls",
      "model_module_version": "1.5.0",
      "model_name": "HBoxModel",
      "state": {
       "children": [
        "IPY_MODEL_079ea71ffd70407cb54f505c9b8ebc3a",
        "IPY_MODEL_d61b9ceac4ff4845812c2a17a37ce786",
        "IPY_MODEL_763d953f6d1744f0a4cb5f13014309fe"
       ],
       "layout": "IPY_MODEL_de02694c06224ef09d9227083cfc88f9"
      }
     },
     "f11b47ca857546bc9ca24e7a78e1b6cf": {
      "model_module": "@jupyter-widgets/controls",
      "model_module_version": "1.5.0",
      "model_name": "ProgressStyleModel",
      "state": {
       "description_width": ""
      }
     },
     "f22eeba0aadd45ce909ad51959ca61da": {
      "model_module": "@jupyter-widgets/base",
      "model_module_version": "1.2.0",
      "model_name": "LayoutModel",
      "state": {
       "display": "inline-flex",
       "flex_flow": "row wrap",
       "width": "100%"
      }
     },
     "f2471718c19e420c948ffa09c0e9b3ce": {
      "model_module": "@jupyter-widgets/controls",
      "model_module_version": "1.5.0",
      "model_name": "HTMLModel",
      "state": {
       "layout": "IPY_MODEL_056482a035d9417bbcb615d36ccc0c72",
       "style": "IPY_MODEL_493c8d3e8d084876b44b89fd6f817519",
       "value": " 1735.0/1735 [00:28&lt;00:00, 1540.49it/s]"
      }
     },
     "f26a4e21ec7c44b9a32a2b0d6f347e5d": {
      "model_module": "@jupyter-widgets/base",
      "model_module_version": "1.2.0",
      "model_name": "LayoutModel",
      "state": {}
     },
     "f2f7d3b0b83844338d9f059d2f59cb10": {
      "model_module": "@jupyter-widgets/base",
      "model_module_version": "1.2.0",
      "model_name": "LayoutModel",
      "state": {
       "flex": "2"
      }
     },
     "f360b4c1e38140979adf0dcbea4da1b4": {
      "model_module": "@jupyter-widgets/controls",
      "model_module_version": "1.5.0",
      "model_name": "DescriptionStyleModel",
      "state": {
       "description_width": ""
      }
     },
     "f5067640b7cc4287b19b6cff2f5bcf23": {
      "model_module": "@jupyter-widgets/base",
      "model_module_version": "1.2.0",
      "model_name": "LayoutModel",
      "state": {}
     },
     "f5a4ad38d1fe4de096b1f6dc9e9534de": {
      "model_module": "@jupyter-widgets/controls",
      "model_module_version": "1.5.0",
      "model_name": "HBoxModel",
      "state": {
       "children": [
        "IPY_MODEL_9b55c96244a64d65a671d80e95b8d14e",
        "IPY_MODEL_75d357c835c0454e91f128f23cd98985",
        "IPY_MODEL_dac428831a0e4a45a43fb43a91e3094e"
       ],
       "layout": "IPY_MODEL_04cf7a66e42f4ec7bf25ec88875093c5"
      }
     },
     "f600e08c20484086a308e5bc799e2c11": {
      "model_module": "@jupyter-widgets/base",
      "model_module_version": "1.2.0",
      "model_name": "LayoutModel",
      "state": {
       "display": "inline-flex",
       "flex_flow": "row wrap",
       "width": "100%"
      }
     },
     "f652c14104a14d1f865020609ed3c1e4": {
      "model_module": "@jupyter-widgets/controls",
      "model_module_version": "1.5.0",
      "model_name": "ProgressStyleModel",
      "state": {
       "description_width": ""
      }
     },
     "f6a2170ac6c843fba3e04cd1a3a78edb": {
      "model_module": "@jupyter-widgets/controls",
      "model_module_version": "1.5.0",
      "model_name": "DescriptionStyleModel",
      "state": {
       "description_width": ""
      }
     },
     "f738738fdb3e45fc82a450c5a2bccde0": {
      "model_module": "@jupyter-widgets/base",
      "model_module_version": "1.2.0",
      "model_name": "LayoutModel",
      "state": {}
     },
     "f7acf74c90814e9daea9a187ae609eb3": {
      "model_module": "@jupyter-widgets/base",
      "model_module_version": "1.2.0",
      "model_name": "LayoutModel",
      "state": {}
     },
     "f7b1243e364d43579e2316927d230384": {
      "model_module": "@jupyter-widgets/controls",
      "model_module_version": "1.5.0",
      "model_name": "ProgressStyleModel",
      "state": {
       "description_width": ""
      }
     },
     "f7d3b6c759f6473ca427f085ac0da29f": {
      "model_module": "@jupyter-widgets/controls",
      "model_module_version": "1.5.0",
      "model_name": "HBoxModel",
      "state": {
       "children": [
        "IPY_MODEL_7d5b243505554c1592c9f62bf402951f",
        "IPY_MODEL_892661dd0cb84b99a2bcf8f341c8db5d",
        "IPY_MODEL_35f8f081d7644c098aff7cfad297a45f"
       ],
       "layout": "IPY_MODEL_017383cb6b474a53942569f365739c31"
      }
     },
     "f8644ff6c4244a368bb685e4ea17469e": {
      "model_module": "@jupyter-widgets/base",
      "model_module_version": "1.2.0",
      "model_name": "LayoutModel",
      "state": {}
     },
     "f8ca3844adea40a6a7bd2932ad6e933d": {
      "model_module": "@jupyter-widgets/controls",
      "model_module_version": "1.5.0",
      "model_name": "DescriptionStyleModel",
      "state": {
       "description_width": ""
      }
     },
     "fa0e6982a1014380b0dc1ac3a8de94d4": {
      "model_module": "@jupyter-widgets/base",
      "model_module_version": "1.2.0",
      "model_name": "LayoutModel",
      "state": {}
     },
     "fa3c72f31c654f3bb09a12c506966758": {
      "model_module": "@jupyter-widgets/base",
      "model_module_version": "1.2.0",
      "model_name": "LayoutModel",
      "state": {
       "flex": "2"
      }
     },
     "fb12748460a7406494b94067b5c72030": {
      "model_module": "@jupyter-widgets/base",
      "model_module_version": "1.2.0",
      "model_name": "LayoutModel",
      "state": {}
     },
     "fbf9626f781a4f29b9d2fb34e8e5aef0": {
      "model_module": "@jupyter-widgets/base",
      "model_module_version": "1.2.0",
      "model_name": "LayoutModel",
      "state": {
       "flex": "2"
      }
     },
     "fc509c5467c54413917c6e689cb4897a": {
      "model_module": "@jupyter-widgets/base",
      "model_module_version": "1.2.0",
      "model_name": "LayoutModel",
      "state": {
       "display": "inline-flex",
       "flex_flow": "row wrap",
       "width": "100%"
      }
     },
     "fc8ee4960bb0406a8808bce4bc33a9f7": {
      "model_module": "@jupyter-widgets/controls",
      "model_module_version": "1.5.0",
      "model_name": "HTMLModel",
      "state": {
       "layout": "IPY_MODEL_cc274b3247c84431917b0b76540fd4e6",
       "style": "IPY_MODEL_d7549fc58b914223bcd501af36b9d9b7",
       "value": " 1735.0/1735 [00:00&lt;00:00, 14922.38it/s]"
      }
     },
     "fd58bb2b4000482f96e971b388a8997b": {
      "model_module": "@jupyter-widgets/base",
      "model_module_version": "1.2.0",
      "model_name": "LayoutModel",
      "state": {
       "flex": "2"
      }
     },
     "fdbbbfc75d85415fa5ae39d7474fed97": {
      "model_module": "@jupyter-widgets/base",
      "model_module_version": "1.2.0",
      "model_name": "LayoutModel",
      "state": {}
     },
     "fe1581bfd48f4b178b181831703a50b1": {
      "model_module": "@jupyter-widgets/controls",
      "model_module_version": "1.5.0",
      "model_name": "DescriptionStyleModel",
      "state": {
       "description_width": ""
      }
     },
     "ff248bf25e004ee39462bb6bd5bd9f0e": {
      "model_module": "@jupyter-widgets/base",
      "model_module_version": "1.2.0",
      "model_name": "LayoutModel",
      "state": {}
     },
     "ff882f4ab3eb4711acce01b6a26d88d4": {
      "model_module": "@jupyter-widgets/controls",
      "model_module_version": "1.5.0",
      "model_name": "ProgressStyleModel",
      "state": {
       "description_width": ""
      }
     },
     "ffc54be6d8c94087ad3cfda2383b2f6d": {
      "model_module": "@jupyter-widgets/controls",
      "model_module_version": "1.5.0",
      "model_name": "HTMLModel",
      "state": {
       "layout": "IPY_MODEL_4b63d8e70fbc4a3dbca4ecc456c84b34",
       "style": "IPY_MODEL_3cbac28fc01a4d2f9ab03ffac0feb146",
       "value": " 1735.0/1735 [00:00&lt;00:00, 4580.38it/s]"
      }
     }
    },
    "version_major": 2,
    "version_minor": 0
   }
  }
 },
 "nbformat": 4,
 "nbformat_minor": 5
}
